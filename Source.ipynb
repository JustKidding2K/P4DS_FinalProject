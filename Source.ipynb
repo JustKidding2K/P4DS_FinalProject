{
 "metadata": {
  "language_info": {
   "codemirror_mode": {
    "name": "ipython",
    "version": 3
   },
   "file_extension": ".py",
   "mimetype": "text/x-python",
   "name": "python",
   "nbconvert_exporter": "python",
   "pygments_lexer": "ipython3",
   "version": "3.8.8"
  },
  "orig_nbformat": 4,
  "kernelspec": {
   "name": "python3",
   "display_name": "Python 3.8.8 64-bit ('p4ds-env': conda)"
  },
  "interpreter": {
   "hash": "46d4720d40e0a71b805ed3e7108db4f212334269ed9fe038b25d9fa91f0cdb66"
  }
 },
 "nbformat": 4,
 "nbformat_minor": 2,
 "cells": [
  {
   "source": [
    "# Lập trình cho Khoa học dữ liệu - Đồ án cuối kì\n",
    "\n",
    "18120198 - Nguyễn Huỳnh Đại Lợi\n",
    "\n",
    "18120212 - Huỳnh Long Nam"
   ],
   "cell_type": "markdown",
   "metadata": {}
  },
  {
   "source": [
    "---"
   ],
   "cell_type": "markdown",
   "metadata": {}
  },
  {
   "source": [
    "## Import"
   ],
   "cell_type": "markdown",
   "metadata": {}
  },
  {
   "cell_type": "code",
   "execution_count": 1,
   "metadata": {},
   "outputs": [],
   "source": [
    "%matplotlib inline\n",
    "import matplotlib.pyplot as plt\n",
    "import numpy as np\n",
    "import pandas as pd "
   ]
  },
  {
   "source": [
    "## Thu thập dữ liệu"
   ],
   "cell_type": "markdown",
   "metadata": {}
  },
  {
   "source": [
    "Dữ liệu được trích từ bộ dữ liệu [Mekong Infrastructure Tracker](https://www.stimson.org/project/mekong-infrastructure/). Bộ dữ liệu cho ta một cái nhìn về cơ sở hạ tầng cho năng lượng, giao thông, nguồn nước ở đồng bằng sông Mekong.\n",
    "\n",
    "Trong bài này, chúng em sử dụng dữ liệu về Việt Nam thôi nên sẽ sử dụng filter có sẵn của nguồn để điều chỉnh chỉ lấy dữ liệu các cơ sở của Việt Nam. Dữ liệu được tải qua công cụ tracker của nguồn [ở đây](https://www.stimson.org/2020/mekong-infrastructure-tracker-tool/).\n",
    "\n",
    "File `mekong-power-generation.xlsx` được đính kèm là file đã được tải về(lần cuối tải về là ngày 7/5/2021) và là dữ liệu sẽ được sử dụng."
   ],
   "cell_type": "markdown",
   "metadata": {}
  },
  {
   "source": [
    "---"
   ],
   "cell_type": "markdown",
   "metadata": {}
  },
  {
   "source": [
    "## Khám phá dữ liệu"
   ],
   "cell_type": "markdown",
   "metadata": {}
  },
  {
   "source": [
    "### Đọc dữ liệu từ file"
   ],
   "cell_type": "markdown",
   "metadata": {}
  },
  {
   "cell_type": "code",
   "execution_count": 2,
   "metadata": {},
   "outputs": [
    {
     "output_type": "execute_result",
     "data": {
      "text/plain": [
       "                                        Project Name Subtype Current Status  \\\n",
       "0                                             A Luoi   Hydro    Operational   \n",
       "1                                            A Vuong   Hydro    Operational   \n",
       "2                                              Amata     Oil    Operational   \n",
       "3  An Khanh - Bac Giang (Nhà máy Nhiệt điện An Kh...    Coal        Planned   \n",
       "4         An Khanh I (Nhà máy nhiệt điện An Khánh I)    Coal    Operational   \n",
       "\n",
       "   Capacity (MW)  Year of Completion  undefined  \\\n",
       "0          170.0              2012.0        NaN   \n",
       "1          210.0              2008.0        NaN   \n",
       "2           13.0                 NaN        NaN   \n",
       "3          650.0              2023.0        NaN   \n",
       "4          120.0              2015.0        NaN   \n",
       "\n",
       "  Country list of Sponsor/Developer               Sponsor/Developer Company  \\\n",
       "0                           Vietnam           Central Region Hydropower JSC   \n",
       "1                           Vietnam                 A Vuong Hydro Power JSC   \n",
       "2                               NaN                                     NaN   \n",
       "3                           Vietnam  An Khanh - Bac Giang Thermal Power JSC   \n",
       "4                           Vietnam                An Khanh Electricity JSC   \n",
       "\n",
       "  Country list of Lender/Financier  \\\n",
       "0                              NaN   \n",
       "1                              NaN   \n",
       "2                              NaN   \n",
       "3                            China   \n",
       "4                   China; Vietnam   \n",
       "\n",
       "                            Lender/Financier Company  ...  \\\n",
       "0                                                NaN  ...   \n",
       "1                                                NaN  ...   \n",
       "2                                                NaN  ...   \n",
       "3  China Development Bank (CDB); Industrial and C...  ...   \n",
       "4  China Communications Bank; Bank of China, Chin...  ...   \n",
       "\n",
       "                           Tributary  Latitude Longitude  \\\n",
       "0                             Sekong  16.19762  107.1619   \n",
       "1                         Song Giang  15.79980  107.6171   \n",
       "2                           Dong Nai  10.94710  106.9000   \n",
       "3  Song Cau-Song Thuong-Song Luc Nam  21.23212  106.3596   \n",
       "4  Song Cau-Song Thuong-Song Luc Nam  21.59691  105.7666   \n",
       "\n",
       "                                           Proximity Avg. Annual Output (MWh)  \\\n",
       "0                                                                               \n",
       "1                                                                               \n",
       "2                                                                               \n",
       "3  Actual location unknown, currently sited at lo...                  5000000   \n",
       "4                                                                      800000   \n",
       "\n",
       "   undefined.2                Data Source  \\\n",
       "0          NaN        Vietnam Electricity   \n",
       "1          NaN                  Wikipedia   \n",
       "2          NaN  World Resources Institute   \n",
       "3          NaN            Sponsor Website   \n",
       "4          NaN                    AidData   \n",
       "\n",
       "                       Announcement/More Information  \\\n",
       "0  https://en.evn.com.vn/userfile/User/huongbtt/f...   \n",
       "1  https://www.licogi166.vn/en/cong-trinh-thuy-di...   \n",
       "2  http://www.evn.com.vn/userfile/files/2017/3/An...   \n",
       "3  http://danviet.vn/doanh-nghiep/nhiet-dien-an-k...   \n",
       "4  https://vietnamnews.vn/economy/219017/an-khanh...   \n",
       "\n",
       "                                                Link Latest Update  \n",
       "0  https://wle-mekong.cgiar.org/construction-of-n...    03/31/2021  \n",
       "1                                                       03/31/2021  \n",
       "2                                                                   \n",
       "3                                                                   \n",
       "4  http://nhietdienankhanh.com.vn/gioi-thieu/gioi...    03/29/2021  \n",
       "\n",
       "[5 rows x 26 columns]"
      ],
      "text/html": "<div>\n<style scoped>\n    .dataframe tbody tr th:only-of-type {\n        vertical-align: middle;\n    }\n\n    .dataframe tbody tr th {\n        vertical-align: top;\n    }\n\n    .dataframe thead th {\n        text-align: right;\n    }\n</style>\n<table border=\"1\" class=\"dataframe\">\n  <thead>\n    <tr style=\"text-align: right;\">\n      <th></th>\n      <th>Project Name</th>\n      <th>Subtype</th>\n      <th>Current Status</th>\n      <th>Capacity (MW)</th>\n      <th>Year of Completion</th>\n      <th>undefined</th>\n      <th>Country list of Sponsor/Developer</th>\n      <th>Sponsor/Developer Company</th>\n      <th>Country list of Lender/Financier</th>\n      <th>Lender/Financier Company</th>\n      <th>...</th>\n      <th>Tributary</th>\n      <th>Latitude</th>\n      <th>Longitude</th>\n      <th>Proximity</th>\n      <th>Avg. Annual Output (MWh)</th>\n      <th>undefined.2</th>\n      <th>Data Source</th>\n      <th>Announcement/More Information</th>\n      <th>Link</th>\n      <th>Latest Update</th>\n    </tr>\n  </thead>\n  <tbody>\n    <tr>\n      <th>0</th>\n      <td>A Luoi</td>\n      <td>Hydro</td>\n      <td>Operational</td>\n      <td>170.0</td>\n      <td>2012.0</td>\n      <td>NaN</td>\n      <td>Vietnam</td>\n      <td>Central Region Hydropower JSC</td>\n      <td>NaN</td>\n      <td>NaN</td>\n      <td>...</td>\n      <td>Sekong</td>\n      <td>16.19762</td>\n      <td>107.1619</td>\n      <td></td>\n      <td></td>\n      <td>NaN</td>\n      <td>Vietnam Electricity</td>\n      <td>https://en.evn.com.vn/userfile/User/huongbtt/f...</td>\n      <td>https://wle-mekong.cgiar.org/construction-of-n...</td>\n      <td>03/31/2021</td>\n    </tr>\n    <tr>\n      <th>1</th>\n      <td>A Vuong</td>\n      <td>Hydro</td>\n      <td>Operational</td>\n      <td>210.0</td>\n      <td>2008.0</td>\n      <td>NaN</td>\n      <td>Vietnam</td>\n      <td>A Vuong Hydro Power JSC</td>\n      <td>NaN</td>\n      <td>NaN</td>\n      <td>...</td>\n      <td>Song Giang</td>\n      <td>15.79980</td>\n      <td>107.6171</td>\n      <td></td>\n      <td></td>\n      <td>NaN</td>\n      <td>Wikipedia</td>\n      <td>https://www.licogi166.vn/en/cong-trinh-thuy-di...</td>\n      <td></td>\n      <td>03/31/2021</td>\n    </tr>\n    <tr>\n      <th>2</th>\n      <td>Amata</td>\n      <td>Oil</td>\n      <td>Operational</td>\n      <td>13.0</td>\n      <td>NaN</td>\n      <td>NaN</td>\n      <td>NaN</td>\n      <td>NaN</td>\n      <td>NaN</td>\n      <td>NaN</td>\n      <td>...</td>\n      <td>Dong Nai</td>\n      <td>10.94710</td>\n      <td>106.9000</td>\n      <td></td>\n      <td></td>\n      <td>NaN</td>\n      <td>World Resources Institute</td>\n      <td>http://www.evn.com.vn/userfile/files/2017/3/An...</td>\n      <td></td>\n      <td></td>\n    </tr>\n    <tr>\n      <th>3</th>\n      <td>An Khanh - Bac Giang (Nhà máy Nhiệt điện An Kh...</td>\n      <td>Coal</td>\n      <td>Planned</td>\n      <td>650.0</td>\n      <td>2023.0</td>\n      <td>NaN</td>\n      <td>Vietnam</td>\n      <td>An Khanh - Bac Giang Thermal Power JSC</td>\n      <td>China</td>\n      <td>China Development Bank (CDB); Industrial and C...</td>\n      <td>...</td>\n      <td>Song Cau-Song Thuong-Song Luc Nam</td>\n      <td>21.23212</td>\n      <td>106.3596</td>\n      <td>Actual location unknown, currently sited at lo...</td>\n      <td>5000000</td>\n      <td>NaN</td>\n      <td>Sponsor Website</td>\n      <td>http://danviet.vn/doanh-nghiep/nhiet-dien-an-k...</td>\n      <td></td>\n      <td></td>\n    </tr>\n    <tr>\n      <th>4</th>\n      <td>An Khanh I (Nhà máy nhiệt điện An Khánh I)</td>\n      <td>Coal</td>\n      <td>Operational</td>\n      <td>120.0</td>\n      <td>2015.0</td>\n      <td>NaN</td>\n      <td>Vietnam</td>\n      <td>An Khanh Electricity JSC</td>\n      <td>China; Vietnam</td>\n      <td>China Communications Bank; Bank of China, Chin...</td>\n      <td>...</td>\n      <td>Song Cau-Song Thuong-Song Luc Nam</td>\n      <td>21.59691</td>\n      <td>105.7666</td>\n      <td></td>\n      <td>800000</td>\n      <td>NaN</td>\n      <td>AidData</td>\n      <td>https://vietnamnews.vn/economy/219017/an-khanh...</td>\n      <td>http://nhietdienankhanh.com.vn/gioi-thieu/gioi...</td>\n      <td>03/29/2021</td>\n    </tr>\n  </tbody>\n</table>\n<p>5 rows × 26 columns</p>\n</div>"
     },
     "metadata": {},
     "execution_count": 2
    }
   ],
   "source": [
    "df=pd.read_excel(\"mekong-power-generation.xlsx\")\n",
    "df.head()"
   ]
  },
  {
   "source": [
    "### Kích thước dữ liệu"
   ],
   "cell_type": "markdown",
   "metadata": {}
  },
  {
   "cell_type": "code",
   "execution_count": 3,
   "metadata": {},
   "outputs": [
    {
     "output_type": "execute_result",
     "data": {
      "text/plain": [
       "(563, 26)"
      ]
     },
     "metadata": {},
     "execution_count": 3
    }
   ],
   "source": [
    "shape = df.shape\n",
    "shape"
   ]
  },
  {
   "source": [
    "### Tìm hiểu về các thuộc tính của dữ liệu sử dụng"
   ],
   "cell_type": "markdown",
   "metadata": {}
  },
  {
   "source": [
    "Dữ liệu gồm:\n",
    "- 563 dòng tương ứng với 551 dự án năng lượng tại Việt Nam\n",
    "- 26 cột, gồm các cột sau:"
   ],
   "cell_type": "markdown",
   "metadata": {}
  },
  {
   "cell_type": "code",
   "execution_count": 4,
   "metadata": {},
   "outputs": [
    {
     "output_type": "execute_result",
     "data": {
      "text/plain": [
       "['Project Name',\n",
       " 'Subtype',\n",
       " 'Current Status',\n",
       " 'Capacity (MW)',\n",
       " 'Year of Completion',\n",
       " 'undefined',\n",
       " 'Country list of Sponsor/Developer',\n",
       " 'Sponsor/Developer Company',\n",
       " 'Country list of Lender/Financier',\n",
       " 'Lender/Financier Company',\n",
       " 'Country list of Construction/EPC',\n",
       " 'Construction Company/EPC Participant',\n",
       " 'Country',\n",
       " 'Province/State',\n",
       " 'District',\n",
       " 'undefined.1',\n",
       " 'Tributary',\n",
       " 'Latitude',\n",
       " 'Longitude',\n",
       " 'Proximity',\n",
       " 'Avg. Annual Output (MWh)',\n",
       " 'undefined.2',\n",
       " 'Data Source',\n",
       " 'Announcement/More Information',\n",
       " 'Link',\n",
       " 'Latest Update']"
      ]
     },
     "metadata": {},
     "execution_count": 4
    }
   ],
   "source": [
    "df.columns.to_list()"
   ]
  },
  {
   "source": [
    "Xét bộ dữ liệu tải về, các cột undefined/undefined.1/undefined.2 là các cột vô nghĩa(có thể là lỗi của nguồn dữ liệu), theo sự tìm hiểu của nhóm thì các cột có ý nghĩa mang nội dung sau:\n",
    "- Project Name: tên dự án\n",
    "- Subtype: loại năng lượng (than, thủy điện, mặt trời, sinh học,...)\n",
    "- Current Status: tình trạng hiện tại (lên kế hoạch, đang thi công, đã bị hủy,...)\n",
    "- Capacity (MW): công suất \n",
    "- Year of Completion: năm hoàn thành\n",
    "- Country list of Sponsor/Developer: các quốc gia tài trợ, phát triển\n",
    "- Sponsor/Developer Company: các công ty tài trợ, phát triển\n",
    "- Country list of Lender/Financier: các quốc gia cho vay \n",
    "- Lender/Financier Company: các công ty cho vay \n",
    "- Country list of Construction/EPC*: các quốc gia tham gia vào xây dựng, tổng thầu xây dựng\n",
    "- Construction Company/EPC Participant: công ty,tổng thầu xây dựng\n",
    "- Country: dự án đặt tại quốc gia nào\n",
    "- Province/State: dự án đặt tại tỉnh/bang nào\n",
    "- District: dự án đặt tại huyện nào \n",
    "- Tributary: phụ lưu của dự án\n",
    "- Latitude: vĩ độ\n",
    "- Longitude: kinh độ\n",
    "- Avg. Annual Output (MWh): sản lượng hàng năm\n",
    "- Data Source: nguồn dữ liệu\n",
    "- Announcement/More Information: Link thông tin dự án\n",
    "- Link: Link thông tin dự án\n",
    "- Latest Update: Lần cuối cập nhật\n",
    "\n",
    "\n",
    " `*EPC (viết tắt của từ Engineering, Procurement and Construction) có nghĩa là xây dựng một hợp đồng xây dựng mà nhà thầu thực hiện toàn bộ các công việc kỹ thuật, cung ứng vật tư, thiết bị đến việc thi công xây dựng công trình, hạng mục và chạy thử nghiệm bàn giao cho chủ đầu tư`"
   ],
   "cell_type": "markdown",
   "metadata": {}
  },
  {
   "source": [
    "### Kiểm tra dữ liệu có bị lặp không"
   ],
   "cell_type": "markdown",
   "metadata": {}
  },
  {
   "cell_type": "code",
   "execution_count": 5,
   "metadata": {},
   "outputs": [
    {
     "output_type": "execute_result",
     "data": {
      "text/plain": [
       "Empty DataFrame\n",
       "Columns: [Project Name, Subtype, Current Status, Capacity (MW), Year of Completion, undefined, Country list of Sponsor/Developer, Sponsor/Developer Company, Country list of Lender/Financier, Lender/Financier Company, Country list of Construction/EPC, Construction Company/EPC Participant, Country, Province/State, District, undefined.1, Tributary, Latitude, Longitude, Proximity, Avg. Annual Output (MWh), undefined.2, Data Source, Announcement/More Information, Link, Latest Update]\n",
       "Index: []\n",
       "\n",
       "[0 rows x 26 columns]"
      ],
      "text/html": "<div>\n<style scoped>\n    .dataframe tbody tr th:only-of-type {\n        vertical-align: middle;\n    }\n\n    .dataframe tbody tr th {\n        vertical-align: top;\n    }\n\n    .dataframe thead th {\n        text-align: right;\n    }\n</style>\n<table border=\"1\" class=\"dataframe\">\n  <thead>\n    <tr style=\"text-align: right;\">\n      <th></th>\n      <th>Project Name</th>\n      <th>Subtype</th>\n      <th>Current Status</th>\n      <th>Capacity (MW)</th>\n      <th>Year of Completion</th>\n      <th>undefined</th>\n      <th>Country list of Sponsor/Developer</th>\n      <th>Sponsor/Developer Company</th>\n      <th>Country list of Lender/Financier</th>\n      <th>Lender/Financier Company</th>\n      <th>...</th>\n      <th>Tributary</th>\n      <th>Latitude</th>\n      <th>Longitude</th>\n      <th>Proximity</th>\n      <th>Avg. Annual Output (MWh)</th>\n      <th>undefined.2</th>\n      <th>Data Source</th>\n      <th>Announcement/More Information</th>\n      <th>Link</th>\n      <th>Latest Update</th>\n    </tr>\n  </thead>\n  <tbody>\n  </tbody>\n</table>\n<p>0 rows × 26 columns</p>\n</div>"
     },
     "metadata": {},
     "execution_count": 5
    }
   ],
   "source": [
    "df[df.duplicated()]"
   ]
  },
  {
   "source": [
    "Dữ liệu có vẻ không có dòng nào bị trùng với nhau"
   ],
   "cell_type": "markdown",
   "metadata": {}
  },
  {
   "source": [
    "### Kiểm tra kiểu dữ liệu mỗi thuộc tính và xử lí các thuộc tính có vấn đề về kiểu dữ liệu"
   ],
   "cell_type": "markdown",
   "metadata": {}
  },
  {
   "cell_type": "code",
   "execution_count": 6,
   "metadata": {},
   "outputs": [
    {
     "output_type": "execute_result",
     "data": {
      "text/plain": [
       "Project Name                             object\n",
       "Subtype                                  object\n",
       "Current Status                           object\n",
       "Capacity (MW)                           float64\n",
       "Year of Completion                      float64\n",
       "undefined                               float64\n",
       "Country list of Sponsor/Developer        object\n",
       "Sponsor/Developer Company                object\n",
       "Country list of Lender/Financier         object\n",
       "Lender/Financier Company                 object\n",
       "Country list of Construction/EPC         object\n",
       "Construction Company/EPC Participant     object\n",
       "Country                                  object\n",
       "Province/State                           object\n",
       "District                                 object\n",
       "undefined.1                             float64\n",
       "Tributary                                object\n",
       "Latitude                                float64\n",
       "Longitude                               float64\n",
       "Proximity                                object\n",
       "Avg. Annual Output (MWh)                 object\n",
       "undefined.2                             float64\n",
       "Data Source                              object\n",
       "Announcement/More Information            object\n",
       "Link                                     object\n",
       "Latest Update                            object\n",
       "dtype: object"
      ]
     },
     "metadata": {},
     "execution_count": 6
    }
   ],
   "source": [
    "dtypes = df.dtypes\n",
    "dtypes"
   ]
  },
  {
   "source": [
    "Thuộc tính `Avg. Annual Output (MWh)` thuộc kiểu dữ liệu object trong khi phải là kiểu dữ liệu số"
   ],
   "cell_type": "markdown",
   "metadata": {}
  },
  {
   "cell_type": "code",
   "execution_count": 7,
   "metadata": {},
   "outputs": [
    {
     "output_type": "execute_result",
     "data": {
      "text/plain": [
       "array([' ', '5000000', '800000', '694000', nan, '639000', '80000',\n",
       "       '70000', '100000', '60000', '250000', '545000', '600000', '84000',\n",
       "       '77000', '64800', '44000', '74000', '12500', '10000', '73904',\n",
       "       '378000', '120000', '94710', '25000', '32000', '56300', '76000',\n",
       "       '13000', '93200', '217642', '220500', '752510', '69000', '53000',\n",
       "       '65000', '11400', '69100', '15780', '115000', '636800', '143000',\n",
       "       '40000', '105000', '68000', '85800', '37000', '75000', '110000',\n",
       "       '338000', '688000', '45000', '66003', '161000', '720000', '72820',\n",
       "       '4000000', '1350000', '1930000', '3900000', '140000', '82000',\n",
       "       '63650', '31860', '30000', '73000', '55000', '50800', '8160000',\n",
       "       '280000', '334148', '132000', '1904000', '123329', '81135',\n",
       "       '965000', '17500', '328000', '21000', '105870', '63500', '4690000',\n",
       "       '22036', '67630', '28000', '54000', '79000', '46300', '19000',\n",
       "       '18000', '12000', '59000', '56000', '127500', '48850', '146000',\n",
       "       '61000', '130000', '36000', '209000', '42000', '1900000', '530000',\n",
       "       '520000', '25400', '2400000', '104130', '80975', '7800000',\n",
       "       '3300000', '331500', '2500000', '13450', '331200', '724000',\n",
       "       '76373', '379030', ' 425770', '199000', '121000', '62000',\n",
       "       '155000', '7000', '230000', '83000', '150000', '308000', '165000',\n",
       "       '57600', '50500', '242000', '85000', '173500', '220000', '450000',\n",
       "       '22000', '75127', '12720', '96000', '114510', '9470', '1094200',\n",
       "       '85640', '31000', '1018610', '1000000', '184000', '76920',\n",
       "       '103000', '61570', '145000', '63000', '9000000', '10500', '68400',\n",
       "       '12000000', '76200', '3680000', '99000'], dtype=object)"
      ]
     },
     "metadata": {},
     "execution_count": 7
    }
   ],
   "source": [
    "df['Avg. Annual Output (MWh)'].unique()"
   ]
  },
  {
   "source": [
    "Có vẻ trong bộ dữ liệu có pha lẫn giá trị khoảng trắng '$~~$' thay vì rỗng. Ta kiểm tra còn thuộc tính nào khác chứa chuỗi '$~~$' nữa không"
   ],
   "cell_type": "markdown",
   "metadata": {}
  },
  {
   "cell_type": "code",
   "execution_count": 8,
   "metadata": {},
   "outputs": [
    {
     "output_type": "execute_result",
     "data": {
      "text/plain": [
       "Project Name                              0\n",
       "Subtype                                   0\n",
       "Current Status                            0\n",
       "Capacity (MW)                             0\n",
       "Year of Completion                        0\n",
       "undefined                                 0\n",
       "Country list of Sponsor/Developer         0\n",
       "Sponsor/Developer Company                 0\n",
       "Country list of Lender/Financier          0\n",
       "Lender/Financier Company                  0\n",
       "Country list of Construction/EPC          0\n",
       "Construction Company/EPC Participant    387\n",
       "Country                                   0\n",
       "Province/State                            0\n",
       "District                                  0\n",
       "undefined.1                               0\n",
       "Tributary                                 0\n",
       "Latitude                                  0\n",
       "Longitude                                 0\n",
       "Proximity                               366\n",
       "Avg. Annual Output (MWh)                311\n",
       "undefined.2                               0\n",
       "Data Source                               7\n",
       "Announcement/More Information            58\n",
       "Link                                    387\n",
       "Latest Update                           406\n",
       "dtype: int64"
      ]
     },
     "metadata": {},
     "execution_count": 8
    }
   ],
   "source": [
    "space_count=df.isin([' ']).sum(axis=0)\n",
    "space_count"
   ]
  },
  {
   "source": [
    "---"
   ],
   "cell_type": "markdown",
   "metadata": {}
  },
  {
   "source": [
    "## Tiền xử lý"
   ],
   "cell_type": "markdown",
   "metadata": {}
  },
  {
   "source": [
    "Ta thực hiện tiền xử lý để thay các giá trị chuỗi khoảng trắng ' ' thành giá trị `nan` và chuyển cột `Avg. Annual Output (MWh)` thành dạng `float`"
   ],
   "cell_type": "markdown",
   "metadata": {}
  },
  {
   "cell_type": "code",
   "execution_count": 9,
   "metadata": {},
   "outputs": [],
   "source": [
    "columns_that_contains_spaces=space_count[space_count>0].index\n",
    "df.loc[:,columns_that_contains_spaces]=df.loc[:,columns_that_contains_spaces].replace({' ':np.nan})\n",
    "df['Avg. Annual Output (MWh)']=df['Avg. Annual Output (MWh)'].astype(float)"
   ]
  },
  {
   "source": [
    "Sau khi thay các khoảng trống ấy bằng giá trị `nan` thì đã không còn vấn đề khoảng trắng cũng như về kiểu dữ liệu"
   ],
   "cell_type": "markdown",
   "metadata": {}
  },
  {
   "cell_type": "code",
   "execution_count": 10,
   "metadata": {},
   "outputs": [
    {
     "output_type": "execute_result",
     "data": {
      "text/plain": [
       "Project Name                            0\n",
       "Subtype                                 0\n",
       "Current Status                          0\n",
       "Capacity (MW)                           0\n",
       "Year of Completion                      0\n",
       "undefined                               0\n",
       "Country list of Sponsor/Developer       0\n",
       "Sponsor/Developer Company               0\n",
       "Country list of Lender/Financier        0\n",
       "Lender/Financier Company                0\n",
       "Country list of Construction/EPC        0\n",
       "Construction Company/EPC Participant    0\n",
       "Country                                 0\n",
       "Province/State                          0\n",
       "District                                0\n",
       "undefined.1                             0\n",
       "Tributary                               0\n",
       "Latitude                                0\n",
       "Longitude                               0\n",
       "Proximity                               0\n",
       "Avg. Annual Output (MWh)                0\n",
       "undefined.2                             0\n",
       "Data Source                             0\n",
       "Announcement/More Information           0\n",
       "Link                                    0\n",
       "Latest Update                           0\n",
       "dtype: int64"
      ]
     },
     "metadata": {},
     "execution_count": 10
    }
   ],
   "source": [
    "df.isin([' ']).sum(axis=0)"
   ]
  },
  {
   "cell_type": "code",
   "execution_count": 11,
   "metadata": {},
   "outputs": [
    {
     "output_type": "execute_result",
     "data": {
      "text/plain": [
       "Project Name                             object\n",
       "Subtype                                  object\n",
       "Current Status                           object\n",
       "Capacity (MW)                           float64\n",
       "Year of Completion                      float64\n",
       "undefined                               float64\n",
       "Country list of Sponsor/Developer        object\n",
       "Sponsor/Developer Company                object\n",
       "Country list of Lender/Financier         object\n",
       "Lender/Financier Company                 object\n",
       "Country list of Construction/EPC         object\n",
       "Construction Company/EPC Participant     object\n",
       "Country                                  object\n",
       "Province/State                           object\n",
       "District                                 object\n",
       "undefined.1                             float64\n",
       "Tributary                                object\n",
       "Latitude                                float64\n",
       "Longitude                               float64\n",
       "Proximity                                object\n",
       "Avg. Annual Output (MWh)                float64\n",
       "undefined.2                             float64\n",
       "Data Source                              object\n",
       "Announcement/More Information            object\n",
       "Link                                     object\n",
       "Latest Update                            object\n",
       "dtype: object"
      ]
     },
     "metadata": {},
     "execution_count": 11
    }
   ],
   "source": [
    "df.dtypes"
   ]
  },
  {
   "source": [
    "---"
   ],
   "cell_type": "markdown",
   "metadata": {}
  },
  {
   "source": [
    "## Quay lại bước khám phá dữ liệu "
   ],
   "cell_type": "markdown",
   "metadata": {}
  },
  {
   "source": [
    "### Khám phá các cột giá trị số"
   ],
   "cell_type": "markdown",
   "metadata": {}
  },
  {
   "cell_type": "code",
   "execution_count": 12,
   "metadata": {},
   "outputs": [],
   "source": [
    "num_col_info_df = pd.DataFrame(columns=df.columns[df.dtypes == np.number], index=[\"missing_ratio\", \"min\", \"lower_quartile\", \"median\", \"upper_quartile\", \"max\"])\n",
    "num_col_info_df.drop(columns=['undefined','undefined.1','undefined.2'],inplace=True)"
   ]
  },
  {
   "cell_type": "code",
   "execution_count": 28,
   "metadata": {},
   "outputs": [
    {
     "output_type": "execute_result",
     "data": {
      "text/plain": [
       "               Capacity (MW) Year of Completion Latitude Longitude  \\\n",
       "missing_ratio            2.8               11.0      0.0       0.0   \n",
       "min                      0.2             1945.0      8.5     102.5   \n",
       "lower_quartile          24.0             2012.0     11.5     105.7   \n",
       "median                  50.0             2018.0     14.0     107.0   \n",
       "upper_quartile         269.5             2020.0     20.5     108.3   \n",
       "max                   9583.0             2031.0     23.2     109.3   \n",
       "\n",
       "               Avg. Annual Output (MWh)  \n",
       "missing_ratio                      61.1  \n",
       "min                              7000.0  \n",
       "lower_quartile                  60000.0  \n",
       "median                          80000.0  \n",
       "upper_quartile                 213321.0  \n",
       "max                          12000000.0  "
      ],
      "text/html": "<div>\n<style scoped>\n    .dataframe tbody tr th:only-of-type {\n        vertical-align: middle;\n    }\n\n    .dataframe tbody tr th {\n        vertical-align: top;\n    }\n\n    .dataframe thead th {\n        text-align: right;\n    }\n</style>\n<table border=\"1\" class=\"dataframe\">\n  <thead>\n    <tr style=\"text-align: right;\">\n      <th></th>\n      <th>Capacity (MW)</th>\n      <th>Year of Completion</th>\n      <th>Latitude</th>\n      <th>Longitude</th>\n      <th>Avg. Annual Output (MWh)</th>\n    </tr>\n  </thead>\n  <tbody>\n    <tr>\n      <th>missing_ratio</th>\n      <td>2.8</td>\n      <td>11.0</td>\n      <td>0.0</td>\n      <td>0.0</td>\n      <td>61.1</td>\n    </tr>\n    <tr>\n      <th>min</th>\n      <td>0.2</td>\n      <td>1945.0</td>\n      <td>8.5</td>\n      <td>102.5</td>\n      <td>7000.0</td>\n    </tr>\n    <tr>\n      <th>lower_quartile</th>\n      <td>24.0</td>\n      <td>2012.0</td>\n      <td>11.5</td>\n      <td>105.7</td>\n      <td>60000.0</td>\n    </tr>\n    <tr>\n      <th>median</th>\n      <td>50.0</td>\n      <td>2018.0</td>\n      <td>14.0</td>\n      <td>107.0</td>\n      <td>80000.0</td>\n    </tr>\n    <tr>\n      <th>upper_quartile</th>\n      <td>269.5</td>\n      <td>2020.0</td>\n      <td>20.5</td>\n      <td>108.3</td>\n      <td>213321.0</td>\n    </tr>\n    <tr>\n      <th>max</th>\n      <td>9583.0</td>\n      <td>2031.0</td>\n      <td>23.2</td>\n      <td>109.3</td>\n      <td>12000000.0</td>\n    </tr>\n  </tbody>\n</table>\n</div>"
     },
     "metadata": {},
     "execution_count": 28
    }
   ],
   "source": [
    "df_num=df[num_col_info_df.columns]\n",
    "num_col_info_df.loc['missing_ratio'] = (df_num.isna().sum()/len(df_num.index)*100).round(1)\n",
    "num_col_info_df.loc['min'] = df_num.min().round(1)\n",
    "num_col_info_df.loc['max'] = df_num.max().round(1)\n",
    "num_col_info_df.loc['lower_quartile'] = df_num.quantile(0.25).round(1)\n",
    "num_col_info_df.loc['upper_quartile'] = df_num.quantile(0.75).round(1)\n",
    "num_col_info_df.loc['median'] = df_num.median().round(1)\n",
    "num_col_info_df"
   ]
  },
  {
   "source": [
    "Các giá trị thiếu tập trung chủ yếu ở cột `Avg. Annual Output (MWh)` nên ta có thể drop cột đó"
   ],
   "cell_type": "markdown",
   "metadata": {}
  },
  {
   "cell_type": "code",
   "execution_count": 14,
   "metadata": {},
   "outputs": [],
   "source": [
    "cols_to_drop=['Avg. Annual Output (MWh)','undefined', 'undefined.1', 'undefined.2']"
   ]
  },
  {
   "source": [
    "### Khám phá các cột giá trị không phải số"
   ],
   "cell_type": "markdown",
   "metadata": {}
  },
  {
   "cell_type": "code",
   "execution_count": 16,
   "metadata": {},
   "outputs": [],
   "source": [
    "notnum_col_info_df = pd.DataFrame(columns=df.columns[df.dtypes != np.number], index=[\"missing_ratio\", \"num_values\", \"value_ratios\"])\n",
    "df_notnum=df[notnum_col_info_df.columns]"
   ]
  },
  {
   "cell_type": "code",
   "execution_count": 25,
   "metadata": {},
   "outputs": [],
   "source": [
    "multichoice_cols=['Country list of Sponsor/Developer', 'Sponsor/Developer Company' ,'Country list of Lender/Financier','Country list of Construction/EPC','Construction Company/EPC Participant','Data Source']"
   ]
  },
  {
   "cell_type": "code",
   "execution_count": 28,
   "metadata": {},
   "outputs": [
    {
     "output_type": "execute_result",
     "data": {
      "text/plain": [
       "                                                    Project Name  \\\n",
       "missing_ratio                                                0.0   \n",
       "num_values                                                   561   \n",
       "value_ratios   {'Cam An Bắc (Nhà máy điện mặt trời xã Cam An ...   \n",
       "\n",
       "                                                         Subtype  \\\n",
       "missing_ratio                                                0.0   \n",
       "num_values                                                     8   \n",
       "value_ratios   {'Hydro': 43.7, 'Solar': 22.4, 'Coal': 14.4, '...   \n",
       "\n",
       "                                                  Current Status  \\\n",
       "missing_ratio                                                0.0   \n",
       "num_values                                                     6   \n",
       "value_ratios   {'Operational': 65.5, 'Planned': 19.9, 'Under ...   \n",
       "\n",
       "                               Country list of Sponsor/Developer  \\\n",
       "missing_ratio                                                7.1   \n",
       "num_values                                                    38   \n",
       "value_ratios   {'Vietnam': 77.6, ' Vietnam': 3.2, 'Thailand':...   \n",
       "\n",
       "                                       Sponsor/Developer Company  \\\n",
       "missing_ratio                                                6.2   \n",
       "num_values                                                   388   \n",
       "value_ratios   {'EVN': 7.3, 'EVN (Vietnam)': 2.9, 'Vietnam El...   \n",
       "\n",
       "                                Country list of Lender/Financier  \\\n",
       "missing_ratio                                               82.2   \n",
       "num_values                                                    31   \n",
       "value_ratios   {'Vietnam': 20.4, 'Japan': 16.1, 'China': 10.9...   \n",
       "\n",
       "                                        Lender/Financier Company  \\\n",
       "missing_ratio                                               82.4   \n",
       "num_values                                                    70   \n",
       "value_ratios   {'JICA': 9.1, 'USTDA': 6.1, 'World Bank Group'...   \n",
       "\n",
       "                                Country list of Construction/EPC  \\\n",
       "missing_ratio                                               73.9   \n",
       "num_values                                                    26   \n",
       "value_ratios   {'Vietnam': 35.8, 'China': 21.2, 'Japan': 10.6...   \n",
       "\n",
       "                            Construction Company/EPC Participant  \\\n",
       "missing_ratio                                               73.0   \n",
       "num_values                                                   133   \n",
       "value_ratios   {'First Solar (Equipment)': 3.8, 'Cty CP năng ...   \n",
       "\n",
       "                          Country  \\\n",
       "missing_ratio                 0.0   \n",
       "num_values                      1   \n",
       "value_ratios   {'Vietnam': 100.0}   \n",
       "\n",
       "                                                  Province/State  \\\n",
       "missing_ratio                                                0.0   \n",
       "num_values                                                    60   \n",
       "value_ratios   {'Ninh Thuận': 8.3, 'Bình Thuận': 5.5, 'Sơn La...   \n",
       "\n",
       "                                                        District  \\\n",
       "missing_ratio                                                0.0   \n",
       "num_values                                                   228   \n",
       "value_ratios   {'Thuận Nam': 2.7, 'Mường La': 2.7, 'Hướng Hóa...   \n",
       "\n",
       "                                                       Tributary  \\\n",
       "missing_ratio                                                1.1   \n",
       "num_values                                                    60   \n",
       "value_ratios   {'Black-Li Xian': 10.2, 'Vietnam Mekong Delta'...   \n",
       "\n",
       "                                                       Proximity  \\\n",
       "missing_ratio                                               69.4   \n",
       "num_values                                                     2   \n",
       "value_ratios   {'Actual location unknown, currently sited at ...   \n",
       "\n",
       "                                                     Data Source  \\\n",
       "missing_ratio                                                1.2   \n",
       "num_values                                                    37   \n",
       "value_ratios   {'Open Development Vietnam': 21.5, 'Sponsor We...   \n",
       "\n",
       "                                   Announcement/More Information  \\\n",
       "missing_ratio                                               16.5   \n",
       "num_values                                                   399   \n",
       "value_ratios   {'http://www.evn.com.vn/userfile/files/2017/3/...   \n",
       "\n",
       "                                                            Link  \\\n",
       "missing_ratio                                               70.3   \n",
       "num_values                                                   135   \n",
       "value_ratios   {'https://en.evn.com.vn/userfile/User/huongbtt...   \n",
       "\n",
       "                                                   Latest Update  \n",
       "missing_ratio                                               72.1  \n",
       "num_values                                                    16  \n",
       "value_ratios   {'12/21/2020': 32.5, '03/31/2021': 20.4, '03/2...  "
      ],
      "text/html": "<div>\n<style scoped>\n    .dataframe tbody tr th:only-of-type {\n        vertical-align: middle;\n    }\n\n    .dataframe tbody tr th {\n        vertical-align: top;\n    }\n\n    .dataframe thead th {\n        text-align: right;\n    }\n</style>\n<table border=\"1\" class=\"dataframe\">\n  <thead>\n    <tr style=\"text-align: right;\">\n      <th></th>\n      <th>Project Name</th>\n      <th>Subtype</th>\n      <th>Current Status</th>\n      <th>Country list of Sponsor/Developer</th>\n      <th>Sponsor/Developer Company</th>\n      <th>Country list of Lender/Financier</th>\n      <th>Lender/Financier Company</th>\n      <th>Country list of Construction/EPC</th>\n      <th>Construction Company/EPC Participant</th>\n      <th>Country</th>\n      <th>Province/State</th>\n      <th>District</th>\n      <th>Tributary</th>\n      <th>Proximity</th>\n      <th>Data Source</th>\n      <th>Announcement/More Information</th>\n      <th>Link</th>\n      <th>Latest Update</th>\n    </tr>\n  </thead>\n  <tbody>\n    <tr>\n      <th>missing_ratio</th>\n      <td>0.0</td>\n      <td>0.0</td>\n      <td>0.0</td>\n      <td>7.1</td>\n      <td>6.2</td>\n      <td>82.2</td>\n      <td>82.4</td>\n      <td>73.9</td>\n      <td>73.0</td>\n      <td>0.0</td>\n      <td>0.0</td>\n      <td>0.0</td>\n      <td>1.1</td>\n      <td>69.4</td>\n      <td>1.2</td>\n      <td>16.5</td>\n      <td>70.3</td>\n      <td>72.1</td>\n    </tr>\n    <tr>\n      <th>num_values</th>\n      <td>561</td>\n      <td>8</td>\n      <td>6</td>\n      <td>38</td>\n      <td>388</td>\n      <td>31</td>\n      <td>70</td>\n      <td>26</td>\n      <td>133</td>\n      <td>1</td>\n      <td>60</td>\n      <td>228</td>\n      <td>60</td>\n      <td>2</td>\n      <td>37</td>\n      <td>399</td>\n      <td>135</td>\n      <td>16</td>\n    </tr>\n    <tr>\n      <th>value_ratios</th>\n      <td>{'Cam An Bắc (Nhà máy điện mặt trời xã Cam An ...</td>\n      <td>{'Hydro': 43.7, 'Solar': 22.4, 'Coal': 14.4, '...</td>\n      <td>{'Operational': 65.5, 'Planned': 19.9, 'Under ...</td>\n      <td>{'Vietnam': 77.6, ' Vietnam': 3.2, 'Thailand':...</td>\n      <td>{'EVN': 7.3, 'EVN (Vietnam)': 2.9, 'Vietnam El...</td>\n      <td>{'Vietnam': 20.4, 'Japan': 16.1, 'China': 10.9...</td>\n      <td>{'JICA': 9.1, 'USTDA': 6.1, 'World Bank Group'...</td>\n      <td>{'Vietnam': 35.8, 'China': 21.2, 'Japan': 10.6...</td>\n      <td>{'First Solar (Equipment)': 3.8, 'Cty CP năng ...</td>\n      <td>{'Vietnam': 100.0}</td>\n      <td>{'Ninh Thuận': 8.3, 'Bình Thuận': 5.5, 'Sơn La...</td>\n      <td>{'Thuận Nam': 2.7, 'Mường La': 2.7, 'Hướng Hóa...</td>\n      <td>{'Black-Li Xian': 10.2, 'Vietnam Mekong Delta'...</td>\n      <td>{'Actual location unknown, currently sited at ...</td>\n      <td>{'Open Development Vietnam': 21.5, 'Sponsor We...</td>\n      <td>{'http://www.evn.com.vn/userfile/files/2017/3/...</td>\n      <td>{'https://en.evn.com.vn/userfile/User/huongbtt...</td>\n      <td>{'12/21/2020': 32.5, '03/31/2021': 20.4, '03/2...</td>\n    </tr>\n  </tbody>\n</table>\n</div>"
     },
     "metadata": {},
     "execution_count": 28
    }
   ],
   "source": [
    "notnum_col_info_df.loc['missing_ratio'] = (df_notnum.isna().sum()/len(df_notnum.index)*100).round(1)\n",
    "for c in notnum_col_info_df.columns:\n",
    "    di=dict()\n",
    "    col_total_value=len(df_notnum[c].index)-df_notnum[c].isna().sum()\n",
    "    if c in multichoice_cols:\n",
    "        li=[]\n",
    "        for i in df_notnum[c]:\n",
    "            if type(i)==str:\n",
    "                li+=i.split(\";\")\n",
    "        temp_set=set(li)\n",
    "        notnum_col_info_df[c]['num_values']=len(temp_set)\n",
    "        for i in temp_set:\n",
    "            value_appearance=li.count(i)*100\n",
    "            di[i]=(value_appearance/len(li))\n",
    "        for dict_value in di:\n",
    "            for k, v in di.items():\n",
    "                di[k] = round(v, 1)\n",
    "        notnum_col_info_df[c]['value_ratios']=dict(sorted(di.items(), key=lambda x: x[1],reverse=True))\n",
    "    else:\n",
    "        notnum_col_info_df[c]['num_values']=df_notnum[c].nunique()\n",
    "        value_set=df_notnum[c].unique()\n",
    "        for i in value_set:\n",
    "            if type(i)==str:\n",
    "                di[i]=((list(df_notnum[c]).count(i)/col_total_value)*100).round(1)\n",
    "        notnum_col_info_df[c]['value_ratios']=dict(sorted(di.items(), key=lambda x: x[1],reverse=True))\n",
    "        \n",
    "\n",
    "notnum_col_info_df"
   ]
  },
  {
   "cell_type": "code",
   "execution_count": null,
   "metadata": {},
   "outputs": [],
   "source": []
  }
 ]
}