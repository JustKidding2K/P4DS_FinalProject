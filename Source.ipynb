{
 "metadata": {
  "orig_nbformat": 4,
  "kernelspec": {
   "name": "p4ds-env",
   "display_name": "p4ds",
   "language": "python"
  },
  "interpreter": {
   "hash": "46d4720d40e0a71b805ed3e7108db4f212334269ed9fe038b25d9fa91f0cdb66"
  }
 },
 "nbformat": 4,
 "nbformat_minor": 2,
 "cells": [
  {
   "source": [
    "# Lập trình cho Khoa học dữ liệu - Đồ án cuối kì\n",
    "\n",
    "18120198 - Nguyễn Huỳnh Đại Lợi\n",
    "\n",
    "18120212 - Huỳnh Long Nam"
   ],
   "cell_type": "markdown",
   "metadata": {}
  },
  {
   "source": [
    "---"
   ],
   "cell_type": "markdown",
   "metadata": {}
  },
  {
   "source": [
    "## Cài đặt thêm thư viện cần để sử dụng"
   ],
   "cell_type": "markdown",
   "metadata": {}
  },
  {
   "cell_type": "code",
   "execution_count": null,
   "metadata": {},
   "outputs": [],
   "source": [
    "!pip install xlrd"
   ]
  },
  {
   "source": [
    "## Import"
   ],
   "cell_type": "markdown",
   "metadata": {}
  },
  {
   "cell_type": "code",
   "execution_count": 2,
   "metadata": {},
   "outputs": [],
   "source": [
    "%matplotlib inline\n",
    "import matplotlib.pyplot as plt\n",
    "import numpy as np\n",
    "import pandas as pd "
   ]
  },
  {
   "source": [
    "## Thu thập dữ liệu"
   ],
   "cell_type": "markdown",
   "metadata": {}
  },
  {
   "source": [
    "Dữ liệu được trích từ bộ dữ liệu [Mekong Infrastructure Tracker](https://www.stimson.org/project/mekong-infrastructure/). Bộ dữ liệu cho ta một cái nhìn về cơ sở hạ tầng cho năng lượng, giao thông, nguồn nước ở đồng bằng sông Mekong.\n",
    "\n",
    "Trong bài này, chúng em sử dụng dữ liệu về Việt Nam thôi nên sẽ sử dụng filter có sẵn của nguồn để điều chỉnh chỉ lấy dữ liệu các cơ sở của Việt Nam. Dữ liệu được tải qua công cụ tracker của nguồn [ở đây](https://www.stimson.org/2020/mekong-infrastructure-tracker-tool/).\n",
    "\n",
    "File `mekong-power-generation.xlsx` được đính kèm là file đã được tải về(lần cuối tải về là ngày 7/5/2021) và là dữ liệu sẽ được sử dụng."
   ],
   "cell_type": "markdown",
   "metadata": {}
  },
  {
   "source": [
    "---"
   ],
   "cell_type": "markdown",
   "metadata": {}
  },
  {
   "source": [
    "## Khám phá dữ liệu"
   ],
   "cell_type": "markdown",
   "metadata": {}
  },
  {
   "source": [
    "### Đọc dữ liệu từ file"
   ],
   "cell_type": "markdown",
   "metadata": {}
  },
  {
   "cell_type": "code",
   "execution_count": 3,
   "metadata": {},
   "outputs": [
    {
     "output_type": "execute_result",
     "data": {
      "text/plain": [
       "                                        Project Name Subtype Current Status  \\\n",
       "0                                             A Luoi   Hydro    Operational   \n",
       "1                                            A Vuong   Hydro    Operational   \n",
       "2                                              Amata     Oil    Operational   \n",
       "3  An Khanh - Bac Giang (Nhà máy Nhiệt điện An Kh...    Coal        Planned   \n",
       "4         An Khanh I (Nhà máy nhiệt điện An Khánh I)    Coal    Operational   \n",
       "\n",
       "   Capacity (MW)  Year of Completion  undefined  \\\n",
       "0          170.0              2012.0        NaN   \n",
       "1          210.0              2008.0        NaN   \n",
       "2           13.0                 NaN        NaN   \n",
       "3          650.0              2023.0        NaN   \n",
       "4          120.0              2015.0        NaN   \n",
       "\n",
       "  Country list of Sponsor/Developer               Sponsor/Developer Company  \\\n",
       "0                           Vietnam           Central Region Hydropower JSC   \n",
       "1                           Vietnam                 A Vuong Hydro Power JSC   \n",
       "2                               NaN                                     NaN   \n",
       "3                           Vietnam  An Khanh - Bac Giang Thermal Power JSC   \n",
       "4                           Vietnam                An Khanh Electricity JSC   \n",
       "\n",
       "  Country list of Lender/Financier  \\\n",
       "0                              NaN   \n",
       "1                              NaN   \n",
       "2                              NaN   \n",
       "3                            China   \n",
       "4                   China; Vietnam   \n",
       "\n",
       "                            Lender/Financier Company  ...  \\\n",
       "0                                                NaN  ...   \n",
       "1                                                NaN  ...   \n",
       "2                                                NaN  ...   \n",
       "3  China Development Bank (CDB); Industrial and C...  ...   \n",
       "4  China Communications Bank; Bank of China, Chin...  ...   \n",
       "\n",
       "                           Tributary  Latitude Longitude  \\\n",
       "0                             Sekong  16.19762  107.1619   \n",
       "1                         Song Giang  15.79980  107.6171   \n",
       "2                           Dong Nai  10.94710  106.9000   \n",
       "3  Song Cau-Song Thuong-Song Luc Nam  21.23212  106.3596   \n",
       "4  Song Cau-Song Thuong-Song Luc Nam  21.59691  105.7666   \n",
       "\n",
       "                                           Proximity Avg. Annual Output (MWh)  \\\n",
       "0                                                                               \n",
       "1                                                                               \n",
       "2                                                                               \n",
       "3  Actual location unknown, currently sited at lo...                  5000000   \n",
       "4                                                                      800000   \n",
       "\n",
       "   undefined.2                Data Source  \\\n",
       "0          NaN        Vietnam Electricity   \n",
       "1          NaN                  Wikipedia   \n",
       "2          NaN  World Resources Institute   \n",
       "3          NaN            Sponsor Website   \n",
       "4          NaN                    AidData   \n",
       "\n",
       "                       Announcement/More Information  \\\n",
       "0  https://en.evn.com.vn/userfile/User/huongbtt/f...   \n",
       "1  https://www.licogi166.vn/en/cong-trinh-thuy-di...   \n",
       "2  http://www.evn.com.vn/userfile/files/2017/3/An...   \n",
       "3  http://danviet.vn/doanh-nghiep/nhiet-dien-an-k...   \n",
       "4  https://vietnamnews.vn/economy/219017/an-khanh...   \n",
       "\n",
       "                                                Link Latest Update  \n",
       "0  https://wle-mekong.cgiar.org/construction-of-n...    03/31/2021  \n",
       "1                                                       03/31/2021  \n",
       "2                                                                   \n",
       "3                                                                   \n",
       "4  http://nhietdienankhanh.com.vn/gioi-thieu/gioi...    03/29/2021  \n",
       "\n",
       "[5 rows x 26 columns]"
      ],
      "text/html": "<div>\n<style scoped>\n    .dataframe tbody tr th:only-of-type {\n        vertical-align: middle;\n    }\n\n    .dataframe tbody tr th {\n        vertical-align: top;\n    }\n\n    .dataframe thead th {\n        text-align: right;\n    }\n</style>\n<table border=\"1\" class=\"dataframe\">\n  <thead>\n    <tr style=\"text-align: right;\">\n      <th></th>\n      <th>Project Name</th>\n      <th>Subtype</th>\n      <th>Current Status</th>\n      <th>Capacity (MW)</th>\n      <th>Year of Completion</th>\n      <th>undefined</th>\n      <th>Country list of Sponsor/Developer</th>\n      <th>Sponsor/Developer Company</th>\n      <th>Country list of Lender/Financier</th>\n      <th>Lender/Financier Company</th>\n      <th>...</th>\n      <th>Tributary</th>\n      <th>Latitude</th>\n      <th>Longitude</th>\n      <th>Proximity</th>\n      <th>Avg. Annual Output (MWh)</th>\n      <th>undefined.2</th>\n      <th>Data Source</th>\n      <th>Announcement/More Information</th>\n      <th>Link</th>\n      <th>Latest Update</th>\n    </tr>\n  </thead>\n  <tbody>\n    <tr>\n      <th>0</th>\n      <td>A Luoi</td>\n      <td>Hydro</td>\n      <td>Operational</td>\n      <td>170.0</td>\n      <td>2012.0</td>\n      <td>NaN</td>\n      <td>Vietnam</td>\n      <td>Central Region Hydropower JSC</td>\n      <td>NaN</td>\n      <td>NaN</td>\n      <td>...</td>\n      <td>Sekong</td>\n      <td>16.19762</td>\n      <td>107.1619</td>\n      <td></td>\n      <td></td>\n      <td>NaN</td>\n      <td>Vietnam Electricity</td>\n      <td>https://en.evn.com.vn/userfile/User/huongbtt/f...</td>\n      <td>https://wle-mekong.cgiar.org/construction-of-n...</td>\n      <td>03/31/2021</td>\n    </tr>\n    <tr>\n      <th>1</th>\n      <td>A Vuong</td>\n      <td>Hydro</td>\n      <td>Operational</td>\n      <td>210.0</td>\n      <td>2008.0</td>\n      <td>NaN</td>\n      <td>Vietnam</td>\n      <td>A Vuong Hydro Power JSC</td>\n      <td>NaN</td>\n      <td>NaN</td>\n      <td>...</td>\n      <td>Song Giang</td>\n      <td>15.79980</td>\n      <td>107.6171</td>\n      <td></td>\n      <td></td>\n      <td>NaN</td>\n      <td>Wikipedia</td>\n      <td>https://www.licogi166.vn/en/cong-trinh-thuy-di...</td>\n      <td></td>\n      <td>03/31/2021</td>\n    </tr>\n    <tr>\n      <th>2</th>\n      <td>Amata</td>\n      <td>Oil</td>\n      <td>Operational</td>\n      <td>13.0</td>\n      <td>NaN</td>\n      <td>NaN</td>\n      <td>NaN</td>\n      <td>NaN</td>\n      <td>NaN</td>\n      <td>NaN</td>\n      <td>...</td>\n      <td>Dong Nai</td>\n      <td>10.94710</td>\n      <td>106.9000</td>\n      <td></td>\n      <td></td>\n      <td>NaN</td>\n      <td>World Resources Institute</td>\n      <td>http://www.evn.com.vn/userfile/files/2017/3/An...</td>\n      <td></td>\n      <td></td>\n    </tr>\n    <tr>\n      <th>3</th>\n      <td>An Khanh - Bac Giang (Nhà máy Nhiệt điện An Kh...</td>\n      <td>Coal</td>\n      <td>Planned</td>\n      <td>650.0</td>\n      <td>2023.0</td>\n      <td>NaN</td>\n      <td>Vietnam</td>\n      <td>An Khanh - Bac Giang Thermal Power JSC</td>\n      <td>China</td>\n      <td>China Development Bank (CDB); Industrial and C...</td>\n      <td>...</td>\n      <td>Song Cau-Song Thuong-Song Luc Nam</td>\n      <td>21.23212</td>\n      <td>106.3596</td>\n      <td>Actual location unknown, currently sited at lo...</td>\n      <td>5000000</td>\n      <td>NaN</td>\n      <td>Sponsor Website</td>\n      <td>http://danviet.vn/doanh-nghiep/nhiet-dien-an-k...</td>\n      <td></td>\n      <td></td>\n    </tr>\n    <tr>\n      <th>4</th>\n      <td>An Khanh I (Nhà máy nhiệt điện An Khánh I)</td>\n      <td>Coal</td>\n      <td>Operational</td>\n      <td>120.0</td>\n      <td>2015.0</td>\n      <td>NaN</td>\n      <td>Vietnam</td>\n      <td>An Khanh Electricity JSC</td>\n      <td>China; Vietnam</td>\n      <td>China Communications Bank; Bank of China, Chin...</td>\n      <td>...</td>\n      <td>Song Cau-Song Thuong-Song Luc Nam</td>\n      <td>21.59691</td>\n      <td>105.7666</td>\n      <td></td>\n      <td>800000</td>\n      <td>NaN</td>\n      <td>AidData</td>\n      <td>https://vietnamnews.vn/economy/219017/an-khanh...</td>\n      <td>http://nhietdienankhanh.com.vn/gioi-thieu/gioi...</td>\n      <td>03/29/2021</td>\n    </tr>\n  </tbody>\n</table>\n<p>5 rows × 26 columns</p>\n</div>"
     },
     "metadata": {},
     "execution_count": 3
    }
   ],
   "source": [
    "df=pd.read_excel(\"mekong-power-generation.xlsx\")\n",
    "df.head()"
   ]
  },
  {
   "source": [
    "### Kích thước dữ liệu"
   ],
   "cell_type": "markdown",
   "metadata": {}
  },
  {
   "cell_type": "code",
   "execution_count": 4,
   "metadata": {},
   "outputs": [
    {
     "output_type": "execute_result",
     "data": {
      "text/plain": [
       "(563, 26)"
      ]
     },
     "metadata": {},
     "execution_count": 4
    }
   ],
   "source": [
    "shape = df.shape\n",
    "shape"
   ]
  },
  {
   "source": [
    "### Tìm hiểu về các thuộc tính của dữ liệu sử dụng"
   ],
   "cell_type": "markdown",
   "metadata": {}
  },
  {
   "source": [
    "Dữ liệu gồm:\n",
    "- 563 dòng tương ứng với 551 dự án năng lượng tại Việt Nam\n",
    "- 26 cột, gồm các cột sau:"
   ],
   "cell_type": "markdown",
   "metadata": {}
  },
  {
   "cell_type": "code",
   "execution_count": 5,
   "metadata": {},
   "outputs": [
    {
     "output_type": "execute_result",
     "data": {
      "text/plain": [
       "['Project Name',\n",
       " 'Subtype',\n",
       " 'Current Status',\n",
       " 'Capacity (MW)',\n",
       " 'Year of Completion',\n",
       " 'undefined',\n",
       " 'Country list of Sponsor/Developer',\n",
       " 'Sponsor/Developer Company',\n",
       " 'Country list of Lender/Financier',\n",
       " 'Lender/Financier Company',\n",
       " 'Country list of Construction/EPC',\n",
       " 'Construction Company/EPC Participant',\n",
       " 'Country',\n",
       " 'Province/State',\n",
       " 'District',\n",
       " 'undefined.1',\n",
       " 'Tributary',\n",
       " 'Latitude',\n",
       " 'Longitude',\n",
       " 'Proximity',\n",
       " 'Avg. Annual Output (MWh)',\n",
       " 'undefined.2',\n",
       " 'Data Source',\n",
       " 'Announcement/More Information',\n",
       " 'Link',\n",
       " 'Latest Update']"
      ]
     },
     "metadata": {},
     "execution_count": 5
    }
   ],
   "source": [
    "df.columns.to_list()"
   ]
  },
  {
   "source": [
    "Xét bộ dữ liệu tải về, các cột undefined/undefined.1/undefined.2 là các cột vô nghĩa(có thể là lỗi của nguồn dữ liệu), theo sự tìm hiểu của nhóm thì các cột có ý nghĩa mang nội dung sau:\n",
    "- Project Name: tên dự án\n",
    "- Subtype: loại năng lượng (than, thủy điện, mặt trời, sinh học,...)\n",
    "- Current Status: tình trạng hiện tại (lên kế hoạch, đang thi công, đã bị hủy,...)\n",
    "- Capacity (MW): công suất \n",
    "- Year of Completion: năm hoàn thành\n",
    "- Country list of Sponsor/Developer: các quốc gia tài trợ, phát triển\n",
    "- Sponsor/Developer Company: các công ty tài trợ, phát triển\n",
    "- Country list of Lender/Financier: các quốc gia cho vay \n",
    "- Lender/Financier Company: các công ty cho vay \n",
    "- Country list of Construction/EPC*: các quốc gia tham gia vào xây dựng, tổng thầu xây dựng\n",
    "- Construction Company/EPC Participant: công ty,tổng thầu xây dựng\n",
    "- Country: dự án đặt tại quốc gia nào\n",
    "- Province/State: dự án đặt tại tỉnh/bang nào\n",
    "- District: dự án đặt tại huyện nào \n",
    "- Tributary: phụ lưu của dự án\n",
    "- Latitude: vĩ độ\n",
    "- Longitude: kinh độ\n",
    "- Proximity: Phạm vi dự án\n",
    "- Avg. Annual Output (MWh): sản lượng hàng năm\n",
    "- Data Source: nguồn dữ liệu\n",
    "- Announcement/More Information: Link thông tin dự án\n",
    "- Link: Link thông tin dự án\n",
    "- Latest Update: Lần cuối cập nhật\n",
    "\n",
    "\n",
    " `*EPC (viết tắt của từ Engineering, Procurement and Construction) có nghĩa là xây dựng một hợp đồng xây dựng mà nhà thầu thực hiện toàn bộ các công việc kỹ thuật, cung ứng vật tư, thiết bị đến việc thi công xây dựng công trình, hạng mục và chạy thử nghiệm bàn giao cho chủ đầu tư`"
   ],
   "cell_type": "markdown",
   "metadata": {}
  },
  {
   "source": [
    "### Kiểm tra dữ liệu có bị lặp không"
   ],
   "cell_type": "markdown",
   "metadata": {}
  },
  {
   "cell_type": "code",
   "execution_count": 6,
   "metadata": {},
   "outputs": [
    {
     "output_type": "execute_result",
     "data": {
      "text/plain": [
       "Empty DataFrame\n",
       "Columns: [Project Name, Subtype, Current Status, Capacity (MW), Year of Completion, undefined, Country list of Sponsor/Developer, Sponsor/Developer Company, Country list of Lender/Financier, Lender/Financier Company, Country list of Construction/EPC, Construction Company/EPC Participant, Country, Province/State, District, undefined.1, Tributary, Latitude, Longitude, Proximity, Avg. Annual Output (MWh), undefined.2, Data Source, Announcement/More Information, Link, Latest Update]\n",
       "Index: []\n",
       "\n",
       "[0 rows x 26 columns]"
      ],
      "text/html": "<div>\n<style scoped>\n    .dataframe tbody tr th:only-of-type {\n        vertical-align: middle;\n    }\n\n    .dataframe tbody tr th {\n        vertical-align: top;\n    }\n\n    .dataframe thead th {\n        text-align: right;\n    }\n</style>\n<table border=\"1\" class=\"dataframe\">\n  <thead>\n    <tr style=\"text-align: right;\">\n      <th></th>\n      <th>Project Name</th>\n      <th>Subtype</th>\n      <th>Current Status</th>\n      <th>Capacity (MW)</th>\n      <th>Year of Completion</th>\n      <th>undefined</th>\n      <th>Country list of Sponsor/Developer</th>\n      <th>Sponsor/Developer Company</th>\n      <th>Country list of Lender/Financier</th>\n      <th>Lender/Financier Company</th>\n      <th>...</th>\n      <th>Tributary</th>\n      <th>Latitude</th>\n      <th>Longitude</th>\n      <th>Proximity</th>\n      <th>Avg. Annual Output (MWh)</th>\n      <th>undefined.2</th>\n      <th>Data Source</th>\n      <th>Announcement/More Information</th>\n      <th>Link</th>\n      <th>Latest Update</th>\n    </tr>\n  </thead>\n  <tbody>\n  </tbody>\n</table>\n<p>0 rows × 26 columns</p>\n</div>"
     },
     "metadata": {},
     "execution_count": 6
    }
   ],
   "source": [
    "df[df.duplicated()]"
   ]
  },
  {
   "source": [
    "Dữ liệu có vẻ không có dòng nào bị trùng với nhau"
   ],
   "cell_type": "markdown",
   "metadata": {}
  },
  {
   "source": [
    "### Kiểm tra kiểu dữ liệu mỗi thuộc tính và xử lí các thuộc tính có vấn đề về kiểu dữ liệu"
   ],
   "cell_type": "markdown",
   "metadata": {}
  },
  {
   "cell_type": "code",
   "execution_count": 7,
   "metadata": {},
   "outputs": [
    {
     "output_type": "execute_result",
     "data": {
      "text/plain": [
       "Project Name                             object\n",
       "Subtype                                  object\n",
       "Current Status                           object\n",
       "Capacity (MW)                           float64\n",
       "Year of Completion                      float64\n",
       "undefined                               float64\n",
       "Country list of Sponsor/Developer        object\n",
       "Sponsor/Developer Company                object\n",
       "Country list of Lender/Financier         object\n",
       "Lender/Financier Company                 object\n",
       "Country list of Construction/EPC         object\n",
       "Construction Company/EPC Participant     object\n",
       "Country                                  object\n",
       "Province/State                           object\n",
       "District                                 object\n",
       "undefined.1                             float64\n",
       "Tributary                                object\n",
       "Latitude                                float64\n",
       "Longitude                               float64\n",
       "Proximity                                object\n",
       "Avg. Annual Output (MWh)                 object\n",
       "undefined.2                             float64\n",
       "Data Source                              object\n",
       "Announcement/More Information            object\n",
       "Link                                     object\n",
       "Latest Update                            object\n",
       "dtype: object"
      ]
     },
     "metadata": {},
     "execution_count": 7
    }
   ],
   "source": [
    "dtypes = df.dtypes\n",
    "dtypes"
   ]
  },
  {
   "source": [
    "Thuộc tính `Avg. Annual Output (MWh)` thuộc kiểu dữ liệu object trong khi phải là kiểu dữ liệu số"
   ],
   "cell_type": "markdown",
   "metadata": {}
  },
  {
   "cell_type": "code",
   "execution_count": 8,
   "metadata": {},
   "outputs": [
    {
     "output_type": "execute_result",
     "data": {
      "text/plain": [
       "array([' ', '5000000', '800000', '694000', nan, '639000', '80000',\n",
       "       '70000', '100000', '60000', '250000', '545000', '600000', '84000',\n",
       "       '77000', '64800', '44000', '74000', '12500', '10000', '73904',\n",
       "       '378000', '120000', '94710', '25000', '32000', '56300', '76000',\n",
       "       '13000', '93200', '217642', '220500', '752510', '69000', '53000',\n",
       "       '65000', '11400', '69100', '15780', '115000', '636800', '143000',\n",
       "       '40000', '105000', '68000', '85800', '37000', '75000', '110000',\n",
       "       '338000', '688000', '45000', '66003', '161000', '720000', '72820',\n",
       "       '4000000', '1350000', '1930000', '3900000', '140000', '82000',\n",
       "       '63650', '31860', '30000', '73000', '55000', '50800', '8160000',\n",
       "       '280000', '334148', '132000', '1904000', '123329', '81135',\n",
       "       '965000', '17500', '328000', '21000', '105870', '63500', '4690000',\n",
       "       '22036', '67630', '28000', '54000', '79000', '46300', '19000',\n",
       "       '18000', '12000', '59000', '56000', '127500', '48850', '146000',\n",
       "       '61000', '130000', '36000', '209000', '42000', '1900000', '530000',\n",
       "       '520000', '25400', '2400000', '104130', '80975', '7800000',\n",
       "       '3300000', '331500', '2500000', '13450', '331200', '724000',\n",
       "       '76373', '379030', ' 425770', '199000', '121000', '62000',\n",
       "       '155000', '7000', '230000', '83000', '150000', '308000', '165000',\n",
       "       '57600', '50500', '242000', '85000', '173500', '220000', '450000',\n",
       "       '22000', '75127', '12720', '96000', '114510', '9470', '1094200',\n",
       "       '85640', '31000', '1018610', '1000000', '184000', '76920',\n",
       "       '103000', '61570', '145000', '63000', '9000000', '10500', '68400',\n",
       "       '12000000', '76200', '3680000', '99000'], dtype=object)"
      ]
     },
     "metadata": {},
     "execution_count": 8
    }
   ],
   "source": [
    "df['Avg. Annual Output (MWh)'].unique()"
   ]
  },
  {
   "source": [
    "Có vẻ trong bộ dữ liệu có pha lẫn giá trị khoảng trắng '$~~$' thay vì rỗng. Ta kiểm tra còn thuộc tính nào khác chứa chuỗi '$~~$' nữa không"
   ],
   "cell_type": "markdown",
   "metadata": {}
  },
  {
   "cell_type": "code",
   "execution_count": 9,
   "metadata": {},
   "outputs": [
    {
     "output_type": "execute_result",
     "data": {
      "text/plain": [
       "Project Name                              0\n",
       "Subtype                                   0\n",
       "Current Status                            0\n",
       "Capacity (MW)                             0\n",
       "Year of Completion                        0\n",
       "undefined                                 0\n",
       "Country list of Sponsor/Developer         0\n",
       "Sponsor/Developer Company                 0\n",
       "Country list of Lender/Financier          0\n",
       "Lender/Financier Company                  0\n",
       "Country list of Construction/EPC          0\n",
       "Construction Company/EPC Participant    387\n",
       "Country                                   0\n",
       "Province/State                            0\n",
       "District                                  0\n",
       "undefined.1                               0\n",
       "Tributary                                 0\n",
       "Latitude                                  0\n",
       "Longitude                                 0\n",
       "Proximity                               366\n",
       "Avg. Annual Output (MWh)                311\n",
       "undefined.2                               0\n",
       "Data Source                               7\n",
       "Announcement/More Information            58\n",
       "Link                                    387\n",
       "Latest Update                           406\n",
       "dtype: int64"
      ]
     },
     "metadata": {},
     "execution_count": 9
    }
   ],
   "source": [
    "space_count=df.isin([' ']).sum(axis=0)\n",
    "space_count"
   ]
  },
  {
   "source": [
    "---"
   ],
   "cell_type": "markdown",
   "metadata": {}
  },
  {
   "source": [
    "## Tiền xử lý"
   ],
   "cell_type": "markdown",
   "metadata": {}
  },
  {
   "source": [
    "Ta thực hiện tiền xử lý để thay các giá trị chuỗi khoảng trắng ' ' thành giá trị `nan` và chuyển cột `Avg. Annual Output (MWh)` thành dạng `float`"
   ],
   "cell_type": "markdown",
   "metadata": {}
  },
  {
   "cell_type": "code",
   "execution_count": 10,
   "metadata": {},
   "outputs": [],
   "source": [
    "columns_that_contains_spaces=space_count[space_count>0].index\n",
    "df.loc[:,columns_that_contains_spaces]=df.loc[:,columns_that_contains_spaces].replace({' ':np.nan})\n",
    "df['Avg. Annual Output (MWh)']=df['Avg. Annual Output (MWh)'].astype(float)"
   ]
  },
  {
   "source": [
    "Sau khi thay các khoảng trống ấy bằng giá trị `nan` thì đã không còn vấn đề khoảng trắng cũng như về kiểu dữ liệu"
   ],
   "cell_type": "markdown",
   "metadata": {}
  },
  {
   "cell_type": "code",
   "execution_count": 11,
   "metadata": {},
   "outputs": [
    {
     "output_type": "execute_result",
     "data": {
      "text/plain": [
       "Project Name                            0\n",
       "Subtype                                 0\n",
       "Current Status                          0\n",
       "Capacity (MW)                           0\n",
       "Year of Completion                      0\n",
       "undefined                               0\n",
       "Country list of Sponsor/Developer       0\n",
       "Sponsor/Developer Company               0\n",
       "Country list of Lender/Financier        0\n",
       "Lender/Financier Company                0\n",
       "Country list of Construction/EPC        0\n",
       "Construction Company/EPC Participant    0\n",
       "Country                                 0\n",
       "Province/State                          0\n",
       "District                                0\n",
       "undefined.1                             0\n",
       "Tributary                               0\n",
       "Latitude                                0\n",
       "Longitude                               0\n",
       "Proximity                               0\n",
       "Avg. Annual Output (MWh)                0\n",
       "undefined.2                             0\n",
       "Data Source                             0\n",
       "Announcement/More Information           0\n",
       "Link                                    0\n",
       "Latest Update                           0\n",
       "dtype: int64"
      ]
     },
     "metadata": {},
     "execution_count": 11
    }
   ],
   "source": [
    "df.isin([' ']).sum(axis=0)"
   ]
  },
  {
   "cell_type": "code",
   "execution_count": 12,
   "metadata": {},
   "outputs": [
    {
     "output_type": "execute_result",
     "data": {
      "text/plain": [
       "Project Name                             object\n",
       "Subtype                                  object\n",
       "Current Status                           object\n",
       "Capacity (MW)                           float64\n",
       "Year of Completion                      float64\n",
       "undefined                               float64\n",
       "Country list of Sponsor/Developer        object\n",
       "Sponsor/Developer Company                object\n",
       "Country list of Lender/Financier         object\n",
       "Lender/Financier Company                 object\n",
       "Country list of Construction/EPC         object\n",
       "Construction Company/EPC Participant     object\n",
       "Country                                  object\n",
       "Province/State                           object\n",
       "District                                 object\n",
       "undefined.1                             float64\n",
       "Tributary                                object\n",
       "Latitude                                float64\n",
       "Longitude                               float64\n",
       "Proximity                                object\n",
       "Avg. Annual Output (MWh)                float64\n",
       "undefined.2                             float64\n",
       "Data Source                              object\n",
       "Announcement/More Information            object\n",
       "Link                                     object\n",
       "Latest Update                            object\n",
       "dtype: object"
      ]
     },
     "metadata": {},
     "execution_count": 12
    }
   ],
   "source": [
    "df.dtypes"
   ]
  },
  {
   "source": [
    "Đối với các cột không phải kiểu dữ liệu số ta sẽ fillna bằng giá trị 'Unknown'"
   ],
   "cell_type": "markdown",
   "metadata": {}
  },
  {
   "cell_type": "code",
   "execution_count": 13,
   "metadata": {},
   "outputs": [],
   "source": [
    "df.loc[:,df.columns[df.dtypes != np.number]]=df[df.columns[df.dtypes != np.number]].fillna('Unknown')"
   ]
  },
  {
   "cell_type": "code",
   "execution_count": 14,
   "metadata": {},
   "outputs": [
    {
     "output_type": "execute_result",
     "data": {
      "text/plain": [
       "                                          Project Name Subtype Current Status  \\\n",
       "0                                               A Luoi   Hydro    Operational   \n",
       "1                                              A Vuong   Hydro    Operational   \n",
       "2                                                Amata     Oil    Operational   \n",
       "3    An Khanh - Bac Giang (Nhà máy Nhiệt điện An Kh...    Coal        Planned   \n",
       "4           An Khanh I (Nhà máy nhiệt điện An Khánh I)    Coal    Operational   \n",
       "..                                                 ...     ...            ...   \n",
       "558                        Yang Bac Wind Power Project    Wind        Planned   \n",
       "559          Yen Dinh (Nhà máy Điện mặt trời Yên Định)   Solar    Operational   \n",
       "560                                             ZaHung   Hydro    Operational   \n",
       "561                                      Đa Nhim Hydro   Hydro    Operational   \n",
       "562                            Đa Nhim Hydro Expansion   Hydro    Operational   \n",
       "\n",
       "    Country list of Sponsor/Developer  \\\n",
       "0                             Vietnam   \n",
       "1                             Vietnam   \n",
       "2                             Unknown   \n",
       "3                             Vietnam   \n",
       "4                             Vietnam   \n",
       "..                                ...   \n",
       "558                           Vietnam   \n",
       "559                           Vietnam   \n",
       "560                           Vietnam   \n",
       "561                           Vietnam   \n",
       "562                           Vietnam   \n",
       "\n",
       "                             Sponsor/Developer Company  \\\n",
       "0                        Central Region Hydropower JSC   \n",
       "1                              A Vuong Hydro Power JSC   \n",
       "2                                              Unknown   \n",
       "3               An Khanh - Bac Giang Thermal Power JSC   \n",
       "4                             An Khanh Electricity JSC   \n",
       "..                                                 ...   \n",
       "558                                   Tasco Energy JSC   \n",
       "559  Công ty CP Năng lượng Sông Lam Sơn La; Công ty...   \n",
       "560                               EVN and Za Hung JSC.   \n",
       "561   EVN, Da Nhim - Ham Thuan - Da Mi Hydropower JSC.   \n",
       "562           Da Nhim-Ham Thuan- Da Mi Hydro Power JSC   \n",
       "\n",
       "    Country list of Lender/Financier  \\\n",
       "0                            Unknown   \n",
       "1                            Unknown   \n",
       "2                            Unknown   \n",
       "3                              China   \n",
       "4                     China; Vietnam   \n",
       "..                               ...   \n",
       "558                          Unknown   \n",
       "559                          Unknown   \n",
       "560                          Unknown   \n",
       "561                            Japan   \n",
       "562                            Japan   \n",
       "\n",
       "                              Lender/Financier Company  \\\n",
       "0                                              Unknown   \n",
       "1                                              Unknown   \n",
       "2                                              Unknown   \n",
       "3    China Development Bank (CDB); Industrial and C...   \n",
       "4    China Communications Bank; Bank of China, Chin...   \n",
       "..                                                 ...   \n",
       "558                                            Unknown   \n",
       "559                                            Unknown   \n",
       "560                                            Unknown   \n",
       "561                                               JICA   \n",
       "562                                               JICA   \n",
       "\n",
       "    Country list of Construction/EPC    Construction Company/EPC Participant  \\\n",
       "0                            Vietnam                               VINAINCON   \n",
       "1                     Japan; Vietnam                        Sumitomo, Licogi   \n",
       "2                            Unknown                                 Unknown   \n",
       "3                            Unknown                                 Unknown   \n",
       "4                              China  China People Electricity and Gas Group   \n",
       "..                               ...                                     ...   \n",
       "558                          Unknown                                 _x0008_   \n",
       "559                      South Korea                                 Unknown   \n",
       "560                          Unknown                                 Unknown   \n",
       "561                            Japan                             Hazama Corp   \n",
       "562                              USA                                      GE   \n",
       "\n",
       "     Country  Province/State    District                          Tributary  \\\n",
       "0    Vietnam  Thừa Thiên Huế      A Lưới                             Sekong   \n",
       "1    Vietnam       Quảng Nam  Đông Giang                         Song Giang   \n",
       "2    Vietnam        Đồng Nai    Biên Hòa                           Dong Nai   \n",
       "3    Vietnam       Bắc Giang     Lục Nam  Song Cau-Song Thuong-Song Luc Nam   \n",
       "4    Vietnam     Thái Nguyên      Đại Từ  Song Cau-Song Thuong-Song Luc Nam   \n",
       "..       ...             ...         ...                                ...   \n",
       "558  Vietnam         Gia Lai      Đăk Pơ               Song Da Rang-Song Ba   \n",
       "559  Vietnam       Thanh Hóa    Yên Định                        Ma mainstem   \n",
       "560  Vietnam       Quảng Nam  Đông Giang                         Song Giang   \n",
       "561  Vietnam        Lâm Đồng   Đơn Dương                           Dong Nai   \n",
       "562  Vietnam        Lâm Đồng   Đơn Dương                           Dong Nai   \n",
       "\n",
       "                                             Proximity  \\\n",
       "0                                              Unknown   \n",
       "1                                              Unknown   \n",
       "2                                              Unknown   \n",
       "3    Actual location unknown, currently sited at lo...   \n",
       "4                                              Unknown   \n",
       "..                                                 ...   \n",
       "558  Actual location unknown, currently sited at lo...   \n",
       "559                                            Unknown   \n",
       "560                                            Unknown   \n",
       "561                                            Unknown   \n",
       "562                                            Unknown   \n",
       "\n",
       "                   Data Source  \\\n",
       "0          Vietnam Electricity   \n",
       "1                    Wikipedia   \n",
       "2    World Resources Institute   \n",
       "3              Sponsor Website   \n",
       "4                      AidData   \n",
       "..                         ...   \n",
       "558            Sponsor Website   \n",
       "559                  Wikipedia   \n",
       "560           Wikipedia; UNFCC   \n",
       "561                  Wikipedia   \n",
       "562                       JICA   \n",
       "\n",
       "                         Announcement/More Information  \\\n",
       "0    https://en.evn.com.vn/userfile/User/huongbtt/f...   \n",
       "1    https://www.licogi166.vn/en/cong-trinh-thuy-di...   \n",
       "2    http://www.evn.com.vn/userfile/files/2017/3/An...   \n",
       "3    http://danviet.vn/doanh-nghiep/nhiet-dien-an-k...   \n",
       "4    https://vietnamnews.vn/economy/219017/an-khanh...   \n",
       "..                                                 ...   \n",
       "558                                            Unknown   \n",
       "559                                            Unknown   \n",
       "560  https://cdm.unfccc.int/Projects/DB/BVQI1299431...   \n",
       "561  https://data.mendeley.com/datasets/ht9k5p3vdb/...   \n",
       "562  https://en.evn.com.vn/d6/news/Da-Nhim-Hydropow...   \n",
       "\n",
       "                                                  Link Latest Update  \n",
       "0    https://wle-mekong.cgiar.org/construction-of-n...    03/31/2021  \n",
       "1                                              Unknown    03/31/2021  \n",
       "2                                              Unknown       Unknown  \n",
       "3                                              Unknown       Unknown  \n",
       "4    http://nhietdienankhanh.com.vn/gioi-thieu/gioi...    03/29/2021  \n",
       "..                                                 ...           ...  \n",
       "558  http://tasco.com.vn/dau-tu-nang-luong-tai-tao/...    12/21/2020  \n",
       "559  https://vi.wikipedia.org/wiki/%C4%90i%E1%BB%87...       Unknown  \n",
       "560                                            Unknown       Unknown  \n",
       "561  https://en.wikipedia.org/wiki/%C4%90a_Nhim_Hyd...    03/31/2021  \n",
       "562  https://www2.jica.go.jp/yen_loan/pdf/en/6451/2...    04/01/2021  \n",
       "\n",
       "[563 rows x 18 columns]"
      ],
      "text/html": "<div>\n<style scoped>\n    .dataframe tbody tr th:only-of-type {\n        vertical-align: middle;\n    }\n\n    .dataframe tbody tr th {\n        vertical-align: top;\n    }\n\n    .dataframe thead th {\n        text-align: right;\n    }\n</style>\n<table border=\"1\" class=\"dataframe\">\n  <thead>\n    <tr style=\"text-align: right;\">\n      <th></th>\n      <th>Project Name</th>\n      <th>Subtype</th>\n      <th>Current Status</th>\n      <th>Country list of Sponsor/Developer</th>\n      <th>Sponsor/Developer Company</th>\n      <th>Country list of Lender/Financier</th>\n      <th>Lender/Financier Company</th>\n      <th>Country list of Construction/EPC</th>\n      <th>Construction Company/EPC Participant</th>\n      <th>Country</th>\n      <th>Province/State</th>\n      <th>District</th>\n      <th>Tributary</th>\n      <th>Proximity</th>\n      <th>Data Source</th>\n      <th>Announcement/More Information</th>\n      <th>Link</th>\n      <th>Latest Update</th>\n    </tr>\n  </thead>\n  <tbody>\n    <tr>\n      <th>0</th>\n      <td>A Luoi</td>\n      <td>Hydro</td>\n      <td>Operational</td>\n      <td>Vietnam</td>\n      <td>Central Region Hydropower JSC</td>\n      <td>Unknown</td>\n      <td>Unknown</td>\n      <td>Vietnam</td>\n      <td>VINAINCON</td>\n      <td>Vietnam</td>\n      <td>Thừa Thiên Huế</td>\n      <td>A Lưới</td>\n      <td>Sekong</td>\n      <td>Unknown</td>\n      <td>Vietnam Electricity</td>\n      <td>https://en.evn.com.vn/userfile/User/huongbtt/f...</td>\n      <td>https://wle-mekong.cgiar.org/construction-of-n...</td>\n      <td>03/31/2021</td>\n    </tr>\n    <tr>\n      <th>1</th>\n      <td>A Vuong</td>\n      <td>Hydro</td>\n      <td>Operational</td>\n      <td>Vietnam</td>\n      <td>A Vuong Hydro Power JSC</td>\n      <td>Unknown</td>\n      <td>Unknown</td>\n      <td>Japan; Vietnam</td>\n      <td>Sumitomo, Licogi</td>\n      <td>Vietnam</td>\n      <td>Quảng Nam</td>\n      <td>Đông Giang</td>\n      <td>Song Giang</td>\n      <td>Unknown</td>\n      <td>Wikipedia</td>\n      <td>https://www.licogi166.vn/en/cong-trinh-thuy-di...</td>\n      <td>Unknown</td>\n      <td>03/31/2021</td>\n    </tr>\n    <tr>\n      <th>2</th>\n      <td>Amata</td>\n      <td>Oil</td>\n      <td>Operational</td>\n      <td>Unknown</td>\n      <td>Unknown</td>\n      <td>Unknown</td>\n      <td>Unknown</td>\n      <td>Unknown</td>\n      <td>Unknown</td>\n      <td>Vietnam</td>\n      <td>Đồng Nai</td>\n      <td>Biên Hòa</td>\n      <td>Dong Nai</td>\n      <td>Unknown</td>\n      <td>World Resources Institute</td>\n      <td>http://www.evn.com.vn/userfile/files/2017/3/An...</td>\n      <td>Unknown</td>\n      <td>Unknown</td>\n    </tr>\n    <tr>\n      <th>3</th>\n      <td>An Khanh - Bac Giang (Nhà máy Nhiệt điện An Kh...</td>\n      <td>Coal</td>\n      <td>Planned</td>\n      <td>Vietnam</td>\n      <td>An Khanh - Bac Giang Thermal Power JSC</td>\n      <td>China</td>\n      <td>China Development Bank (CDB); Industrial and C...</td>\n      <td>Unknown</td>\n      <td>Unknown</td>\n      <td>Vietnam</td>\n      <td>Bắc Giang</td>\n      <td>Lục Nam</td>\n      <td>Song Cau-Song Thuong-Song Luc Nam</td>\n      <td>Actual location unknown, currently sited at lo...</td>\n      <td>Sponsor Website</td>\n      <td>http://danviet.vn/doanh-nghiep/nhiet-dien-an-k...</td>\n      <td>Unknown</td>\n      <td>Unknown</td>\n    </tr>\n    <tr>\n      <th>4</th>\n      <td>An Khanh I (Nhà máy nhiệt điện An Khánh I)</td>\n      <td>Coal</td>\n      <td>Operational</td>\n      <td>Vietnam</td>\n      <td>An Khanh Electricity JSC</td>\n      <td>China; Vietnam</td>\n      <td>China Communications Bank; Bank of China, Chin...</td>\n      <td>China</td>\n      <td>China People Electricity and Gas Group</td>\n      <td>Vietnam</td>\n      <td>Thái Nguyên</td>\n      <td>Đại Từ</td>\n      <td>Song Cau-Song Thuong-Song Luc Nam</td>\n      <td>Unknown</td>\n      <td>AidData</td>\n      <td>https://vietnamnews.vn/economy/219017/an-khanh...</td>\n      <td>http://nhietdienankhanh.com.vn/gioi-thieu/gioi...</td>\n      <td>03/29/2021</td>\n    </tr>\n    <tr>\n      <th>...</th>\n      <td>...</td>\n      <td>...</td>\n      <td>...</td>\n      <td>...</td>\n      <td>...</td>\n      <td>...</td>\n      <td>...</td>\n      <td>...</td>\n      <td>...</td>\n      <td>...</td>\n      <td>...</td>\n      <td>...</td>\n      <td>...</td>\n      <td>...</td>\n      <td>...</td>\n      <td>...</td>\n      <td>...</td>\n      <td>...</td>\n    </tr>\n    <tr>\n      <th>558</th>\n      <td>Yang Bac Wind Power Project</td>\n      <td>Wind</td>\n      <td>Planned</td>\n      <td>Vietnam</td>\n      <td>Tasco Energy JSC</td>\n      <td>Unknown</td>\n      <td>Unknown</td>\n      <td>Unknown</td>\n      <td>_x0008_</td>\n      <td>Vietnam</td>\n      <td>Gia Lai</td>\n      <td>Đăk Pơ</td>\n      <td>Song Da Rang-Song Ba</td>\n      <td>Actual location unknown, currently sited at lo...</td>\n      <td>Sponsor Website</td>\n      <td>Unknown</td>\n      <td>http://tasco.com.vn/dau-tu-nang-luong-tai-tao/...</td>\n      <td>12/21/2020</td>\n    </tr>\n    <tr>\n      <th>559</th>\n      <td>Yen Dinh (Nhà máy Điện mặt trời Yên Định)</td>\n      <td>Solar</td>\n      <td>Operational</td>\n      <td>Vietnam</td>\n      <td>Công ty CP Năng lượng Sông Lam Sơn La; Công ty...</td>\n      <td>Unknown</td>\n      <td>Unknown</td>\n      <td>South Korea</td>\n      <td>Unknown</td>\n      <td>Vietnam</td>\n      <td>Thanh Hóa</td>\n      <td>Yên Định</td>\n      <td>Ma mainstem</td>\n      <td>Unknown</td>\n      <td>Wikipedia</td>\n      <td>Unknown</td>\n      <td>https://vi.wikipedia.org/wiki/%C4%90i%E1%BB%87...</td>\n      <td>Unknown</td>\n    </tr>\n    <tr>\n      <th>560</th>\n      <td>ZaHung</td>\n      <td>Hydro</td>\n      <td>Operational</td>\n      <td>Vietnam</td>\n      <td>EVN and Za Hung JSC.</td>\n      <td>Unknown</td>\n      <td>Unknown</td>\n      <td>Unknown</td>\n      <td>Unknown</td>\n      <td>Vietnam</td>\n      <td>Quảng Nam</td>\n      <td>Đông Giang</td>\n      <td>Song Giang</td>\n      <td>Unknown</td>\n      <td>Wikipedia; UNFCC</td>\n      <td>https://cdm.unfccc.int/Projects/DB/BVQI1299431...</td>\n      <td>Unknown</td>\n      <td>Unknown</td>\n    </tr>\n    <tr>\n      <th>561</th>\n      <td>Đa Nhim Hydro</td>\n      <td>Hydro</td>\n      <td>Operational</td>\n      <td>Vietnam</td>\n      <td>EVN, Da Nhim - Ham Thuan - Da Mi Hydropower JSC.</td>\n      <td>Japan</td>\n      <td>JICA</td>\n      <td>Japan</td>\n      <td>Hazama Corp</td>\n      <td>Vietnam</td>\n      <td>Lâm Đồng</td>\n      <td>Đơn Dương</td>\n      <td>Dong Nai</td>\n      <td>Unknown</td>\n      <td>Wikipedia</td>\n      <td>https://data.mendeley.com/datasets/ht9k5p3vdb/...</td>\n      <td>https://en.wikipedia.org/wiki/%C4%90a_Nhim_Hyd...</td>\n      <td>03/31/2021</td>\n    </tr>\n    <tr>\n      <th>562</th>\n      <td>Đa Nhim Hydro Expansion</td>\n      <td>Hydro</td>\n      <td>Operational</td>\n      <td>Vietnam</td>\n      <td>Da Nhim-Ham Thuan- Da Mi Hydro Power JSC</td>\n      <td>Japan</td>\n      <td>JICA</td>\n      <td>USA</td>\n      <td>GE</td>\n      <td>Vietnam</td>\n      <td>Lâm Đồng</td>\n      <td>Đơn Dương</td>\n      <td>Dong Nai</td>\n      <td>Unknown</td>\n      <td>JICA</td>\n      <td>https://en.evn.com.vn/d6/news/Da-Nhim-Hydropow...</td>\n      <td>https://www2.jica.go.jp/yen_loan/pdf/en/6451/2...</td>\n      <td>04/01/2021</td>\n    </tr>\n  </tbody>\n</table>\n<p>563 rows × 18 columns</p>\n</div>"
     },
     "metadata": {},
     "execution_count": 14
    }
   ],
   "source": [
    "df.loc[:,df.columns[df.dtypes != np.number]]"
   ]
  },
  {
   "source": [
    "Ngoài ra ta còn thấy giá trị chuỗi `_x0008_\t` vô nghĩa ở cột `Construction Company/EPC Participant` tại dòng 558. Ta kiểm tra xem giá trị này còn xuất hiện ở đâu khác trong bộ dữ liệu không"
   ],
   "cell_type": "markdown",
   "metadata": {}
  },
  {
   "cell_type": "code",
   "execution_count": 15,
   "metadata": {},
   "outputs": [
    {
     "output_type": "execute_result",
     "data": {
      "text/plain": [
       "Project Name                            0\n",
       "Subtype                                 0\n",
       "Current Status                          0\n",
       "Capacity (MW)                           0\n",
       "Year of Completion                      0\n",
       "undefined                               0\n",
       "Country list of Sponsor/Developer       0\n",
       "Sponsor/Developer Company               0\n",
       "Country list of Lender/Financier        0\n",
       "Lender/Financier Company                0\n",
       "Country list of Construction/EPC        0\n",
       "Construction Company/EPC Participant    1\n",
       "Country                                 0\n",
       "Province/State                          0\n",
       "District                                0\n",
       "undefined.1                             0\n",
       "Tributary                               0\n",
       "Latitude                                0\n",
       "Longitude                               0\n",
       "Proximity                               5\n",
       "Avg. Annual Output (MWh)                0\n",
       "undefined.2                             0\n",
       "Data Source                             0\n",
       "Announcement/More Information           2\n",
       "Link                                    0\n",
       "Latest Update                           0\n",
       "dtype: int64"
      ]
     },
     "metadata": {},
     "execution_count": 15
    }
   ],
   "source": [
    "strange_value=df.loc[558,'Construction Company/EPC Participant']\n",
    "strange_count=df.isin([strange_value]).sum(axis=0)\n",
    "strange_count"
   ]
  },
  {
   "source": [
    "Rõ ràng ta cần xử lý trường hợp đặc biệt trên"
   ],
   "cell_type": "markdown",
   "metadata": {}
  },
  {
   "cell_type": "code",
   "execution_count": 16,
   "metadata": {},
   "outputs": [],
   "source": [
    "columns_that_contains_strange_values=strange_count[strange_count>0].index\n",
    "df.loc[:,columns_that_contains_strange_values]=df.loc[:,columns_that_contains_strange_values].replace({strange_value:np.nan})"
   ]
  },
  {
   "source": [
    "---"
   ],
   "cell_type": "markdown",
   "metadata": {}
  },
  {
   "source": [
    "## Quay lại bước khám phá dữ liệu "
   ],
   "cell_type": "markdown",
   "metadata": {}
  },
  {
   "source": [
    "### Khám phá các cột giá trị số"
   ],
   "cell_type": "markdown",
   "metadata": {}
  },
  {
   "cell_type": "code",
   "execution_count": 17,
   "metadata": {},
   "outputs": [],
   "source": [
    "num_col_info_df = pd.DataFrame(columns=df.columns[df.dtypes == np.number], index=[\"missing_ratio\", \"min\", \"lower_quartile\", \"median\", \"upper_quartile\", \"max\"])\n",
    "num_col_info_df.drop(columns=['undefined','undefined.1','undefined.2'],inplace=True)"
   ]
  },
  {
   "cell_type": "code",
   "execution_count": 18,
   "metadata": {},
   "outputs": [
    {
     "output_type": "execute_result",
     "data": {
      "text/plain": [
       "               Capacity (MW) Year of Completion Latitude Longitude  \\\n",
       "missing_ratio            2.8               11.0      0.0       0.0   \n",
       "min                      0.2             1945.0      8.5     102.5   \n",
       "lower_quartile          24.0             2012.0     11.5     105.7   \n",
       "median                  50.0             2018.0     14.0     107.0   \n",
       "upper_quartile         269.5             2020.0     20.5     108.3   \n",
       "max                   9583.0             2031.0     23.2     109.3   \n",
       "\n",
       "               Avg. Annual Output (MWh)  \n",
       "missing_ratio                      61.1  \n",
       "min                              7000.0  \n",
       "lower_quartile                  60000.0  \n",
       "median                          80000.0  \n",
       "upper_quartile                 213321.0  \n",
       "max                          12000000.0  "
      ],
      "text/html": "<div>\n<style scoped>\n    .dataframe tbody tr th:only-of-type {\n        vertical-align: middle;\n    }\n\n    .dataframe tbody tr th {\n        vertical-align: top;\n    }\n\n    .dataframe thead th {\n        text-align: right;\n    }\n</style>\n<table border=\"1\" class=\"dataframe\">\n  <thead>\n    <tr style=\"text-align: right;\">\n      <th></th>\n      <th>Capacity (MW)</th>\n      <th>Year of Completion</th>\n      <th>Latitude</th>\n      <th>Longitude</th>\n      <th>Avg. Annual Output (MWh)</th>\n    </tr>\n  </thead>\n  <tbody>\n    <tr>\n      <th>missing_ratio</th>\n      <td>2.8</td>\n      <td>11.0</td>\n      <td>0.0</td>\n      <td>0.0</td>\n      <td>61.1</td>\n    </tr>\n    <tr>\n      <th>min</th>\n      <td>0.2</td>\n      <td>1945.0</td>\n      <td>8.5</td>\n      <td>102.5</td>\n      <td>7000.0</td>\n    </tr>\n    <tr>\n      <th>lower_quartile</th>\n      <td>24.0</td>\n      <td>2012.0</td>\n      <td>11.5</td>\n      <td>105.7</td>\n      <td>60000.0</td>\n    </tr>\n    <tr>\n      <th>median</th>\n      <td>50.0</td>\n      <td>2018.0</td>\n      <td>14.0</td>\n      <td>107.0</td>\n      <td>80000.0</td>\n    </tr>\n    <tr>\n      <th>upper_quartile</th>\n      <td>269.5</td>\n      <td>2020.0</td>\n      <td>20.5</td>\n      <td>108.3</td>\n      <td>213321.0</td>\n    </tr>\n    <tr>\n      <th>max</th>\n      <td>9583.0</td>\n      <td>2031.0</td>\n      <td>23.2</td>\n      <td>109.3</td>\n      <td>12000000.0</td>\n    </tr>\n  </tbody>\n</table>\n</div>"
     },
     "metadata": {},
     "execution_count": 18
    }
   ],
   "source": [
    "df_num=df[num_col_info_df.columns]\n",
    "num_col_info_df.loc['missing_ratio'] = (df_num.isna().sum()/len(df_num.index)*100).round(1)\n",
    "num_col_info_df.loc['min'] = df_num.min().round(1)\n",
    "num_col_info_df.loc['max'] = df_num.max().round(1)\n",
    "num_col_info_df.loc['lower_quartile'] = df_num.quantile(0.25).round(1)\n",
    "num_col_info_df.loc['upper_quartile'] = df_num.quantile(0.75).round(1)\n",
    "num_col_info_df.loc['median'] = df_num.median().round(1)\n",
    "num_col_info_df"
   ]
  },
  {
   "source": [
    "Các giá trị thiếu tập trung chủ yếu ở cột `Avg. Annual Output (MWh)` nên ta có thể drop cột đó"
   ],
   "cell_type": "markdown",
   "metadata": {}
  },
  {
   "cell_type": "code",
   "execution_count": 19,
   "metadata": {},
   "outputs": [],
   "source": [
    "cols_to_drop=['Avg. Annual Output (MWh)','undefined', 'undefined.1', 'undefined.2']"
   ]
  },
  {
   "source": [
    "### Khám phá các cột giá trị không phải số"
   ],
   "cell_type": "markdown",
   "metadata": {}
  },
  {
   "cell_type": "code",
   "execution_count": 20,
   "metadata": {},
   "outputs": [],
   "source": [
    "notnum_col_info_df = pd.DataFrame(columns=df.columns[df.dtypes != np.number], index=[\"missing_ratio\", \"num_values\",\"value_counts\", \"value_ratios\"])\n",
    "df_notnum=df[notnum_col_info_df.columns]"
   ]
  },
  {
   "cell_type": "code",
   "execution_count": 21,
   "metadata": {},
   "outputs": [],
   "source": [
    "multichoice_cols=['Country list of Sponsor/Developer', 'Sponsor/Developer Company' ,'Country list of Lender/Financier','Lender/Financier Company','Country list of Construction/EPC','Construction Company/EPC Participant','Data Source']"
   ]
  },
  {
   "source": [
    "notnum_col_info_df.loc['missing_ratio'] = (df_notnum.replace('Unknown',np.nan).isna().sum()/len(df_notnum.index)*100).round(1)\n",
    "for c in notnum_col_info_df.columns:\n",
    "    di=dict()\n",
    "    col_total_value=len(df_notnum[c].index)-df_notnum[c].isna().sum()\n",
    "    if c in multichoice_cols:\n",
    "        li=[]\n",
    "        for i in df_notnum[c]:\n",
    "            if type(i)==str:\n",
    "                li+=i.split(\"; \")\n",
    "        temp_set=set(li)\n",
    "        notnum_col_info_df[c]['num_values']=len(temp_set)\n",
    "        for i in temp_set:\n",
    "            di[i]=li.count(i)\n",
    "        notnum_col_info_df[c]['value_counts']=dict(sorted(di.items(), key=lambda x: x[1],reverse=True))\n",
    "        total=np.sum(list(di.values()))\n",
    "        for k, v in di.items():\n",
    "            di[k] = round(v * 100.0 / total,1)\n",
    "        notnum_col_info_df[c]['value_ratios']=dict(sorted(di.items(), key=lambda x: x[1],reverse=True))\n",
    "    else:\n",
    "        notnum_col_info_df[c]['num_values']=df_notnum[c].nunique(dropna=False)\n",
    "        value_set=df_notnum[c].unique()\n",
    "        notnum_col_info_df[c]['value_counts']=df_notnum[c].value_counts()\n",
    "        for i in value_set:\n",
    "            if type(i)==str:\n",
    "                di[i]=((list(df_notnum[c]).count(i)/col_total_value)*100).round(1)\n",
    "        notnum_col_info_df[c]['value_ratios']=dict(sorted(di.items(), key=lambda x: x[1],reverse=True))\n",
    "    notnum_col_info_df"
   ],
   "cell_type": "code",
   "metadata": {
    "tags": []
   },
   "execution_count": 23,
   "outputs": [
    {
     "output_type": "execute_result",
     "data": {
      "text/plain": [
       "                                                    Project Name  \\\n",
       "missing_ratio                                                0.0   \n",
       "num_values                                                   561   \n",
       "value_counts   Nam Cat                                       ...   \n",
       "value_ratios   {'Cam An Bắc (Nhà máy điện mặt trời xã Cam An ...   \n",
       "\n",
       "                                                         Subtype  \\\n",
       "missing_ratio                                                0.0   \n",
       "num_values                                                     8   \n",
       "value_counts   Hydro      246\n",
       "Solar      126\n",
       "Coal        81\n",
       "W...   \n",
       "value_ratios   {'Hydro': 43.7, 'Solar': 22.4, 'Coal': 14.4, '...   \n",
       "\n",
       "                                                  Current Status  \\\n",
       "missing_ratio                                                1.1   \n",
       "num_values                                                     6   \n",
       "value_counts   Operational           369\n",
       "Planned             ...   \n",
       "value_ratios   {'Operational': 65.5, 'Planned': 19.9, 'Under ...   \n",
       "\n",
       "                               Country list of Sponsor/Developer  \\\n",
       "missing_ratio                                                7.1   \n",
       "num_values                                                    27   \n",
       "value_counts   {'Vietnam': 474, 'Unknown': 40, 'Thailand': 17...   \n",
       "value_ratios   {'Vietnam': 75.7, 'Unknown': 6.4, 'Thailand': ...   \n",
       "\n",
       "                                       Sponsor/Developer Company  \\\n",
       "missing_ratio                                                6.2   \n",
       "num_values                                                   387   \n",
       "value_counts   {'EVN': 41, 'Unknown': 35, 'EVN (Vietnam)': 20...   \n",
       "value_ratios   {'EVN': 7.0, 'Unknown': 6.0, 'EVN (Vietnam)': ...   \n",
       "\n",
       "                                Country list of Lender/Financier  \\\n",
       "missing_ratio                                               82.2   \n",
       "num_values                                                    22   \n",
       "value_counts   {'Unknown': 463, 'Vietnam': 37, 'Japan': 27, '...   \n",
       "value_ratios   {'Unknown': 77.2, 'Vietnam': 6.2, 'Japan': 4.5...   \n",
       "\n",
       "                                        Lender/Financier Company  \\\n",
       "missing_ratio                                               82.4   \n",
       "num_values                                                   105   \n",
       "value_counts   {'Unknown': 464, 'JICA': 9, 'ADB': 7, 'USTDA':...   \n",
       "value_ratios   {'Unknown': 76.9, 'JICA': 1.5, 'ADB': 1.2, 'US...   \n",
       "\n",
       "                                Country list of Construction/EPC  \\\n",
       "missing_ratio                                               73.9   \n",
       "num_values                                                    17   \n",
       "value_counts   {'Unknown': 416, 'Vietnam': 67, 'China': 39, '...   \n",
       "value_ratios   {'Unknown': 69.9, 'Vietnam': 11.3, 'China': 6....   \n",
       "\n",
       "                            Construction Company/EPC Participant  \\\n",
       "missing_ratio                                               73.2   \n",
       "num_values                                                   133   \n",
       "value_counts   {'Unknown': 411, 'First Solar (Equipment)': 6,...   \n",
       "value_ratios   {'Unknown': 72.1, 'First Solar (Equipment)': 1...   \n",
       "\n",
       "                                                  Country  \\\n",
       "missing_ratio                                         0.0   \n",
       "num_values                                              1   \n",
       "value_counts   Vietnam    563\n",
       "Name: Country, dtype: int64   \n",
       "value_ratios                           {'Vietnam': 100.0}   \n",
       "\n",
       "                                                  Province/State  \\\n",
       "missing_ratio                                                0.0   \n",
       "num_values                                                    60   \n",
       "value_counts   Ninh Thuận           47\n",
       "Bình Thuận           3...   \n",
       "value_ratios   {'Ninh Thuận': 8.3, 'Bình Thuận': 5.5, 'Sơn La...   \n",
       "\n",
       "                                                        District  \\\n",
       "missing_ratio                                                0.0   \n",
       "num_values                                                   228   \n",
       "value_counts   Mường La       15\n",
       "Thuận Nam      15\n",
       "Hướng Hóa ...   \n",
       "value_ratios   {'Thuận Nam': 2.7, 'Mường La': 2.7, 'Hướng Hóa...   \n",
       "\n",
       "                                                       Tributary  \\\n",
       "missing_ratio                                                1.1   \n",
       "num_values                                                    61   \n",
       "value_counts   Black-Li Xian                                 ...   \n",
       "value_ratios   {'Black-Li Xian': 10.1, 'Vietnam Mekong Delta'...   \n",
       "\n",
       "                                                       Proximity  \\\n",
       "missing_ratio                                               70.3   \n",
       "num_values                                                     3   \n",
       "value_counts   Unknown                                       ...   \n",
       "value_ratios   {'Unknown': 70.1, 'Actual location unknown, cu...   \n",
       "\n",
       "                                                     Data Source  \\\n",
       "missing_ratio                                                1.2   \n",
       "num_values                                                    38   \n",
       "value_counts   {'Open Development Vietnam': 120, 'Sponsor Web...   \n",
       "value_ratios   {'Open Development Vietnam': 21.2, 'Sponsor We...   \n",
       "\n",
       "                                   Announcement/More Information  \\\n",
       "missing_ratio                                               16.9   \n",
       "num_values                                                   400   \n",
       "value_counts   Unknown                                       ...   \n",
       "value_ratios   {'Unknown': 16.6, 'http://www.evn.com.vn/userf...   \n",
       "\n",
       "                                                            Link  \\\n",
       "missing_ratio                                               70.3   \n",
       "num_values                                                   136   \n",
       "value_counts   Unknown                                       ...   \n",
       "value_ratios   {'Unknown': 70.3, 'https://en.evn.com.vn/userf...   \n",
       "\n",
       "                                                   Latest Update  \n",
       "missing_ratio                                               72.1  \n",
       "num_values                                                    17  \n",
       "value_counts   Unknown       406\n",
       "12/21/2020     51\n",
       "03/31/2021...  \n",
       "value_ratios   {'Unknown': 72.1, '12/21/2020': 9.1, '03/31/20...  "
      ],
      "text/html": "<div>\n<style scoped>\n    .dataframe tbody tr th:only-of-type {\n        vertical-align: middle;\n    }\n\n    .dataframe tbody tr th {\n        vertical-align: top;\n    }\n\n    .dataframe thead th {\n        text-align: right;\n    }\n</style>\n<table border=\"1\" class=\"dataframe\">\n  <thead>\n    <tr style=\"text-align: right;\">\n      <th></th>\n      <th>Project Name</th>\n      <th>Subtype</th>\n      <th>Current Status</th>\n      <th>Country list of Sponsor/Developer</th>\n      <th>Sponsor/Developer Company</th>\n      <th>Country list of Lender/Financier</th>\n      <th>Lender/Financier Company</th>\n      <th>Country list of Construction/EPC</th>\n      <th>Construction Company/EPC Participant</th>\n      <th>Country</th>\n      <th>Province/State</th>\n      <th>District</th>\n      <th>Tributary</th>\n      <th>Proximity</th>\n      <th>Data Source</th>\n      <th>Announcement/More Information</th>\n      <th>Link</th>\n      <th>Latest Update</th>\n    </tr>\n  </thead>\n  <tbody>\n    <tr>\n      <th>missing_ratio</th>\n      <td>0.0</td>\n      <td>0.0</td>\n      <td>1.1</td>\n      <td>7.1</td>\n      <td>6.2</td>\n      <td>82.2</td>\n      <td>82.4</td>\n      <td>73.9</td>\n      <td>73.2</td>\n      <td>0.0</td>\n      <td>0.0</td>\n      <td>0.0</td>\n      <td>1.1</td>\n      <td>70.3</td>\n      <td>1.2</td>\n      <td>16.9</td>\n      <td>70.3</td>\n      <td>72.1</td>\n    </tr>\n    <tr>\n      <th>num_values</th>\n      <td>561</td>\n      <td>8</td>\n      <td>6</td>\n      <td>27</td>\n      <td>387</td>\n      <td>22</td>\n      <td>105</td>\n      <td>17</td>\n      <td>133</td>\n      <td>1</td>\n      <td>60</td>\n      <td>228</td>\n      <td>61</td>\n      <td>3</td>\n      <td>38</td>\n      <td>400</td>\n      <td>136</td>\n      <td>17</td>\n    </tr>\n    <tr>\n      <th>value_counts</th>\n      <td>Nam Cat                                       ...</td>\n      <td>Hydro      246\nSolar      126\nCoal        81\nW...</td>\n      <td>Operational           369\nPlanned             ...</td>\n      <td>{'Vietnam': 474, 'Unknown': 40, 'Thailand': 17...</td>\n      <td>{'EVN': 41, 'Unknown': 35, 'EVN (Vietnam)': 20...</td>\n      <td>{'Unknown': 463, 'Vietnam': 37, 'Japan': 27, '...</td>\n      <td>{'Unknown': 464, 'JICA': 9, 'ADB': 7, 'USTDA':...</td>\n      <td>{'Unknown': 416, 'Vietnam': 67, 'China': 39, '...</td>\n      <td>{'Unknown': 411, 'First Solar (Equipment)': 6,...</td>\n      <td>Vietnam    563\nName: Country, dtype: int64</td>\n      <td>Ninh Thuận           47\nBình Thuận           3...</td>\n      <td>Mường La       15\nThuận Nam      15\nHướng Hóa ...</td>\n      <td>Black-Li Xian                                 ...</td>\n      <td>Unknown                                       ...</td>\n      <td>{'Open Development Vietnam': 120, 'Sponsor Web...</td>\n      <td>Unknown                                       ...</td>\n      <td>Unknown                                       ...</td>\n      <td>Unknown       406\n12/21/2020     51\n03/31/2021...</td>\n    </tr>\n    <tr>\n      <th>value_ratios</th>\n      <td>{'Cam An Bắc (Nhà máy điện mặt trời xã Cam An ...</td>\n      <td>{'Hydro': 43.7, 'Solar': 22.4, 'Coal': 14.4, '...</td>\n      <td>{'Operational': 65.5, 'Planned': 19.9, 'Under ...</td>\n      <td>{'Vietnam': 75.7, 'Unknown': 6.4, 'Thailand': ...</td>\n      <td>{'EVN': 7.0, 'Unknown': 6.0, 'EVN (Vietnam)': ...</td>\n      <td>{'Unknown': 77.2, 'Vietnam': 6.2, 'Japan': 4.5...</td>\n      <td>{'Unknown': 76.9, 'JICA': 1.5, 'ADB': 1.2, 'US...</td>\n      <td>{'Unknown': 69.9, 'Vietnam': 11.3, 'China': 6....</td>\n      <td>{'Unknown': 72.1, 'First Solar (Equipment)': 1...</td>\n      <td>{'Vietnam': 100.0}</td>\n      <td>{'Ninh Thuận': 8.3, 'Bình Thuận': 5.5, 'Sơn La...</td>\n      <td>{'Thuận Nam': 2.7, 'Mường La': 2.7, 'Hướng Hóa...</td>\n      <td>{'Black-Li Xian': 10.1, 'Vietnam Mekong Delta'...</td>\n      <td>{'Unknown': 70.1, 'Actual location unknown, cu...</td>\n      <td>{'Open Development Vietnam': 21.2, 'Sponsor We...</td>\n      <td>{'Unknown': 16.6, 'http://www.evn.com.vn/userf...</td>\n      <td>{'Unknown': 70.3, 'https://en.evn.com.vn/userf...</td>\n      <td>{'Unknown': 72.1, '12/21/2020': 9.1, '03/31/20...</td>\n    </tr>\n  </tbody>\n</table>\n</div>"
     },
     "metadata": {},
     "execution_count": 23
    }
   ]
  },
  {
   "source": [
    "- Các cột `Country list of Lender/Financier`, `Lender/Financier Company`, `Country list of Construction/EPC`, `Construction Company/EPC Participant` thiếu rất trầm trọng\n",
    "- Ta không cần quan tâm các cột `Data Source`, `Announcement/More Information`, `Link`, `Latest Update`\n",
    "- Cột `Proximity` đa phần là các giá trị `Actual location unknown, currently sited at locality in link/announcement` hay vô nghĩa\n",
    "\n",
    "\n",
    "***Ta sẽ drop tất cả các cột nêu trên***\n"
   ],
   "cell_type": "markdown",
   "metadata": {}
  },
  {
   "cell_type": "code",
   "execution_count": 24,
   "metadata": {},
   "outputs": [],
   "source": [
    "cols_to_drop+=['Country list of Lender/Financier','Lender/Financier Company','Country list of Construction/EPC','Construction Company/EPC Participant','Data Source','Announcement/More Information', 'Link', 'Latest Update','Proximity']"
   ]
  },
  {
   "source": [
    "---"
   ],
   "cell_type": "markdown",
   "metadata": {}
  },
  {
   "source": [
    "## Quay lại bước tiền xử lý"
   ],
   "cell_type": "markdown",
   "metadata": {}
  },
  {
   "source": [
    "Ta drop hết các cột đã chọn và tách riêng thống kê về các cột có giá trị multiple values"
   ],
   "cell_type": "markdown",
   "metadata": {}
  },
  {
   "cell_type": "code",
   "execution_count": 25,
   "metadata": {},
   "outputs": [],
   "source": [
    "df.drop(columns=cols_to_drop,inplace=True)"
   ]
  },
  {
   "cell_type": "code",
   "execution_count": 26,
   "metadata": {},
   "outputs": [],
   "source": [
    "sponsor_developer_countries=pd.DataFrame(notnum_col_info_df.loc['value_counts','Country list of Sponsor/Developer'].items(), columns=['Country','Counts']) \n",
    "sponsor_developer_companies=pd.DataFrame(notnum_col_info_df.loc['value_counts','Sponsor/Developer Company'].items(), columns=['Company','Counts']) \n",
    "sponsor_developer_countries.to_csv('sponsor_developer_countries.csv',index=False)\n",
    "sponsor_developer_companies.to_csv('sponsor_developer_companies.csv',index=False)\n",
    "\n",
    "\n"
   ]
  },
  {
   "source": [
    "---"
   ],
   "cell_type": "markdown",
   "metadata": {}
  },
  {
   "source": [
    "## Đặt câu hỏi "
   ],
   "cell_type": "markdown",
   "metadata": {}
  },
  {
   "source": [
    "Sau khi khám phá dữ liệu, ta đã hiểu hơn về dữ liệu. Bây giờ, ta sẽ thử trả lời một số câu hỏi bằng dữ liệu trên.\n",
    "\n",
    "**Một câu hỏi có thể có là:** Đất nước/Công ty nào tham gia phát triển nhiều dự án nhất ở Việt Nam, phân bố các dự án trên địa lý Việt Nam, tình hình hoạt động hiện tại và tương lai của ngành năng lượng Việt Nam, phân bố các dạng năng lượng hiện tại và trong tương lai...?\n",
    "\n"
   ],
   "cell_type": "markdown",
   "metadata": {}
  },
  {
   "source": [
    "---"
   ],
   "cell_type": "markdown",
   "metadata": {}
  },
  {
   "source": [
    "## Phân tích dữ liệu"
   ],
   "cell_type": "markdown",
   "metadata": {}
  },
  {
   "source": [
    "Ta tìm hiểu xem đất nước/công ty nào đã tích cực tham gia phát triển hệ thống năng lượng của Việt Nam"
   ],
   "cell_type": "markdown",
   "metadata": {}
  },
  {
   "cell_type": "code",
   "execution_count": 59,
   "metadata": {},
   "outputs": [
    {
     "output_type": "display_data",
     "data": {
      "text/plain": "<Figure size 1296x576 with 1 Axes>",
      "image/svg+xml": "<?xml version=\"1.0\" encoding=\"utf-8\" standalone=\"no\"?>\n<!DOCTYPE svg PUBLIC \"-//W3C//DTD SVG 1.1//EN\"\n  \"http://www.w3.org/Graphics/SVG/1.1/DTD/svg11.dtd\">\n<svg height=\"590.06125pt\" version=\"1.1\" viewBox=\"0 0 1067.871875 590.06125\" width=\"1067.871875pt\" xmlns=\"http://www.w3.org/2000/svg\" xmlns:xlink=\"http://www.w3.org/1999/xlink\">\n <metadata>\n  <rdf:RDF xmlns:cc=\"http://creativecommons.org/ns#\" xmlns:dc=\"http://purl.org/dc/elements/1.1/\" xmlns:rdf=\"http://www.w3.org/1999/02/22-rdf-syntax-ns#\">\n   <cc:Work>\n    <dc:type rdf:resource=\"http://purl.org/dc/dcmitype/StillImage\"/>\n    <dc:date>2021-07-06T21:10:11.615206</dc:date>\n    <dc:format>image/svg+xml</dc:format>\n    <dc:creator>\n     <cc:Agent>\n      <dc:title>Matplotlib v3.4.1, https://matplotlib.org/</dc:title>\n     </cc:Agent>\n    </dc:creator>\n   </cc:Work>\n  </rdf:RDF>\n </metadata>\n <defs>\n  <style type=\"text/css\">*{stroke-linecap:butt;stroke-linejoin:round;}</style>\n </defs>\n <g id=\"figure_1\">\n  <g id=\"patch_1\">\n   <path d=\"M 0 590.06125 \nL 1067.871875 590.06125 \nL 1067.871875 0 \nL 0 0 \nz\n\" style=\"fill:none;\"/>\n  </g>\n  <g id=\"axes_1\">\n   <g id=\"patch_2\">\n    <path d=\"M 56.271875 463.599375 \nL 1060.671875 463.599375 \nL 1060.671875 28.719375 \nL 56.271875 28.719375 \nz\n\" style=\"fill:#ffffff;\"/>\n   </g>\n   <g id=\"patch_3\">\n    <path clip-path=\"url(#p047e85374b)\" d=\"M 101.92642 463.599375 \nL 129.182866 463.599375 \nL 129.182866 49.427946 \nL 101.92642 49.427946 \nz\n\" style=\"fill:#1f77b4;\"/>\n   </g>\n   <g id=\"patch_4\">\n    <path clip-path=\"url(#p047e85374b)\" d=\"M 135.996977 463.599375 \nL 163.253422 463.599375 \nL 163.253422 428.6482 \nL 135.996977 428.6482 \nz\n\" style=\"fill:#1f77b4;\"/>\n   </g>\n   <g id=\"patch_5\">\n    <path clip-path=\"url(#p047e85374b)\" d=\"M 170.067533 463.599375 \nL 197.323978 463.599375 \nL 197.323978 448.745125 \nL 170.067533 448.745125 \nz\n\" style=\"fill:#1f77b4;\"/>\n   </g>\n   <g id=\"patch_6\">\n    <path clip-path=\"url(#p047e85374b)\" d=\"M 204.138089 463.599375 \nL 231.394534 463.599375 \nL 231.394534 451.366464 \nL 204.138089 451.366464 \nz\n\" style=\"fill:#1f77b4;\"/>\n   </g>\n   <g id=\"patch_7\">\n    <path clip-path=\"url(#p047e85374b)\" d=\"M 238.208646 463.599375 \nL 265.465091 463.599375 \nL 265.465091 453.114022 \nL 238.208646 453.114022 \nz\n\" style=\"fill:#1f77b4;\"/>\n   </g>\n   <g id=\"patch_8\">\n    <path clip-path=\"url(#p047e85374b)\" d=\"M 272.279202 463.599375 \nL 299.535647 463.599375 \nL 299.535647 455.735361 \nL 272.279202 455.735361 \nz\n\" style=\"fill:#1f77b4;\"/>\n   </g>\n   <g id=\"patch_9\">\n    <path clip-path=\"url(#p047e85374b)\" d=\"M 306.349758 463.599375 \nL 333.606203 463.599375 \nL 333.606203 457.482919 \nL 306.349758 457.482919 \nz\n\" style=\"fill:#1f77b4;\"/>\n   </g>\n   <g id=\"patch_10\">\n    <path clip-path=\"url(#p047e85374b)\" d=\"M 340.420315 463.599375 \nL 367.67676 463.599375 \nL 367.67676 457.482919 \nL 340.420315 457.482919 \nz\n\" style=\"fill:#1f77b4;\"/>\n   </g>\n   <g id=\"patch_11\">\n    <path clip-path=\"url(#p047e85374b)\" d=\"M 374.490871 463.599375 \nL 401.747316 463.599375 \nL 401.747316 458.356699 \nL 374.490871 458.356699 \nz\n\" style=\"fill:#1f77b4;\"/>\n   </g>\n   <g id=\"patch_12\">\n    <path clip-path=\"url(#p047e85374b)\" d=\"M 408.561427 463.599375 \nL 435.817872 463.599375 \nL 435.817872 459.230478 \nL 408.561427 459.230478 \nz\n\" style=\"fill:#1f77b4;\"/>\n   </g>\n   <g id=\"patch_13\">\n    <path clip-path=\"url(#p047e85374b)\" d=\"M 442.631984 463.599375 \nL 469.888429 463.599375 \nL 469.888429 460.104257 \nL 442.631984 460.104257 \nz\n\" style=\"fill:#1f77b4;\"/>\n   </g>\n   <g id=\"patch_14\">\n    <path clip-path=\"url(#p047e85374b)\" d=\"M 476.70254 463.599375 \nL 503.958985 463.599375 \nL 503.958985 460.104257 \nL 476.70254 460.104257 \nz\n\" style=\"fill:#1f77b4;\"/>\n   </g>\n   <g id=\"patch_15\">\n    <path clip-path=\"url(#p047e85374b)\" d=\"M 510.773096 463.599375 \nL 538.029541 463.599375 \nL 538.029541 460.978037 \nL 510.773096 460.978037 \nz\n\" style=\"fill:#1f77b4;\"/>\n   </g>\n   <g id=\"patch_16\">\n    <path clip-path=\"url(#p047e85374b)\" d=\"M 544.843652 463.599375 \nL 572.100098 463.599375 \nL 572.100098 460.978037 \nL 544.843652 460.978037 \nz\n\" style=\"fill:#1f77b4;\"/>\n   </g>\n   <g id=\"patch_17\">\n    <path clip-path=\"url(#p047e85374b)\" d=\"M 578.914209 463.599375 \nL 606.170654 463.599375 \nL 606.170654 460.978037 \nL 578.914209 460.978037 \nz\n\" style=\"fill:#1f77b4;\"/>\n   </g>\n   <g id=\"patch_18\">\n    <path clip-path=\"url(#p047e85374b)\" d=\"M 612.984765 463.599375 \nL 640.24121 463.599375 \nL 640.24121 460.978037 \nL 612.984765 460.978037 \nz\n\" style=\"fill:#1f77b4;\"/>\n   </g>\n   <g id=\"patch_19\">\n    <path clip-path=\"url(#p047e85374b)\" d=\"M 647.055321 463.599375 \nL 674.311766 463.599375 \nL 674.311766 461.851816 \nL 647.055321 461.851816 \nz\n\" style=\"fill:#1f77b4;\"/>\n   </g>\n   <g id=\"patch_20\">\n    <path clip-path=\"url(#p047e85374b)\" d=\"M 681.125878 463.599375 \nL 708.382323 463.599375 \nL 708.382323 461.851816 \nL 681.125878 461.851816 \nz\n\" style=\"fill:#1f77b4;\"/>\n   </g>\n   <g id=\"patch_21\">\n    <path clip-path=\"url(#p047e85374b)\" d=\"M 715.196434 463.599375 \nL 742.452879 463.599375 \nL 742.452879 461.851816 \nL 715.196434 461.851816 \nz\n\" style=\"fill:#1f77b4;\"/>\n   </g>\n   <g id=\"patch_22\">\n    <path clip-path=\"url(#p047e85374b)\" d=\"M 749.26699 463.599375 \nL 776.523435 463.599375 \nL 776.523435 461.851816 \nL 749.26699 461.851816 \nz\n\" style=\"fill:#1f77b4;\"/>\n   </g>\n   <g id=\"patch_23\">\n    <path clip-path=\"url(#p047e85374b)\" d=\"M 783.337547 463.599375 \nL 810.593992 463.599375 \nL 810.593992 462.725596 \nL 783.337547 462.725596 \nz\n\" style=\"fill:#1f77b4;\"/>\n   </g>\n   <g id=\"patch_24\">\n    <path clip-path=\"url(#p047e85374b)\" d=\"M 817.408103 463.599375 \nL 844.664548 463.599375 \nL 844.664548 462.725596 \nL 817.408103 462.725596 \nz\n\" style=\"fill:#1f77b4;\"/>\n   </g>\n   <g id=\"patch_25\">\n    <path clip-path=\"url(#p047e85374b)\" d=\"M 851.478659 463.599375 \nL 878.735104 463.599375 \nL 878.735104 462.725596 \nL 851.478659 462.725596 \nz\n\" style=\"fill:#1f77b4;\"/>\n   </g>\n   <g id=\"patch_26\">\n    <path clip-path=\"url(#p047e85374b)\" d=\"M 885.549216 463.599375 \nL 912.805661 463.599375 \nL 912.805661 462.725596 \nL 885.549216 462.725596 \nz\n\" style=\"fill:#1f77b4;\"/>\n   </g>\n   <g id=\"patch_27\">\n    <path clip-path=\"url(#p047e85374b)\" d=\"M 919.619772 463.599375 \nL 946.876217 463.599375 \nL 946.876217 462.725596 \nL 919.619772 462.725596 \nz\n\" style=\"fill:#1f77b4;\"/>\n   </g>\n   <g id=\"patch_28\">\n    <path clip-path=\"url(#p047e85374b)\" d=\"M 953.690328 463.599375 \nL 980.946773 463.599375 \nL 980.946773 462.725596 \nL 953.690328 462.725596 \nz\n\" style=\"fill:#1f77b4;\"/>\n   </g>\n   <g id=\"patch_29\">\n    <path clip-path=\"url(#p047e85374b)\" d=\"M 987.760884 463.599375 \nL 1015.01733 463.599375 \nL 1015.01733 462.725596 \nL 987.760884 462.725596 \nz\n\" style=\"fill:#1f77b4;\"/>\n   </g>\n   <g id=\"matplotlib.axis_1\">\n    <g id=\"xtick_1\">\n     <g id=\"line2d_1\">\n      <defs>\n       <path d=\"M 0 0 \nL 0 3.5 \n\" id=\"m11ffd26623\" style=\"stroke:#000000;stroke-width:0.8;\"/>\n      </defs>\n      <g>\n       <use style=\"stroke:#000000;stroke-width:0.8;\" x=\"115.554643\" xlink:href=\"#m11ffd26623\" y=\"463.599375\"/>\n      </g>\n     </g>\n     <g id=\"text_1\">\n      <!-- Vietnam -->\n      <g transform=\"translate(118.314018 512.272812)rotate(-90)scale(0.1 -0.1)\">\n       <defs>\n        <path d=\"M 1831 0 \nL 50 4666 \nL 709 4666 \nL 2188 738 \nL 3669 4666 \nL 4325 4666 \nL 2547 0 \nL 1831 0 \nz\n\" id=\"DejaVuSans-56\" transform=\"scale(0.015625)\"/>\n        <path d=\"M 603 3500 \nL 1178 3500 \nL 1178 0 \nL 603 0 \nL 603 3500 \nz\nM 603 4863 \nL 1178 4863 \nL 1178 4134 \nL 603 4134 \nL 603 4863 \nz\n\" id=\"DejaVuSans-69\" transform=\"scale(0.015625)\"/>\n        <path d=\"M 3597 1894 \nL 3597 1613 \nL 953 1613 \nQ 991 1019 1311 708 \nQ 1631 397 2203 397 \nQ 2534 397 2845 478 \nQ 3156 559 3463 722 \nL 3463 178 \nQ 3153 47 2828 -22 \nQ 2503 -91 2169 -91 \nQ 1331 -91 842 396 \nQ 353 884 353 1716 \nQ 353 2575 817 3079 \nQ 1281 3584 2069 3584 \nQ 2775 3584 3186 3129 \nQ 3597 2675 3597 1894 \nz\nM 3022 2063 \nQ 3016 2534 2758 2815 \nQ 2500 3097 2075 3097 \nQ 1594 3097 1305 2825 \nQ 1016 2553 972 2059 \nL 3022 2063 \nz\n\" id=\"DejaVuSans-65\" transform=\"scale(0.015625)\"/>\n        <path d=\"M 1172 4494 \nL 1172 3500 \nL 2356 3500 \nL 2356 3053 \nL 1172 3053 \nL 1172 1153 \nQ 1172 725 1289 603 \nQ 1406 481 1766 481 \nL 2356 481 \nL 2356 0 \nL 1766 0 \nQ 1100 0 847 248 \nQ 594 497 594 1153 \nL 594 3053 \nL 172 3053 \nL 172 3500 \nL 594 3500 \nL 594 4494 \nL 1172 4494 \nz\n\" id=\"DejaVuSans-74\" transform=\"scale(0.015625)\"/>\n        <path d=\"M 3513 2113 \nL 3513 0 \nL 2938 0 \nL 2938 2094 \nQ 2938 2591 2744 2837 \nQ 2550 3084 2163 3084 \nQ 1697 3084 1428 2787 \nQ 1159 2491 1159 1978 \nL 1159 0 \nL 581 0 \nL 581 3500 \nL 1159 3500 \nL 1159 2956 \nQ 1366 3272 1645 3428 \nQ 1925 3584 2291 3584 \nQ 2894 3584 3203 3211 \nQ 3513 2838 3513 2113 \nz\n\" id=\"DejaVuSans-6e\" transform=\"scale(0.015625)\"/>\n        <path d=\"M 2194 1759 \nQ 1497 1759 1228 1600 \nQ 959 1441 959 1056 \nQ 959 750 1161 570 \nQ 1363 391 1709 391 \nQ 2188 391 2477 730 \nQ 2766 1069 2766 1631 \nL 2766 1759 \nL 2194 1759 \nz\nM 3341 1997 \nL 3341 0 \nL 2766 0 \nL 2766 531 \nQ 2569 213 2275 61 \nQ 1981 -91 1556 -91 \nQ 1019 -91 701 211 \nQ 384 513 384 1019 \nQ 384 1609 779 1909 \nQ 1175 2209 1959 2209 \nL 2766 2209 \nL 2766 2266 \nQ 2766 2663 2505 2880 \nQ 2244 3097 1772 3097 \nQ 1472 3097 1187 3025 \nQ 903 2953 641 2809 \nL 641 3341 \nQ 956 3463 1253 3523 \nQ 1550 3584 1831 3584 \nQ 2591 3584 2966 3190 \nQ 3341 2797 3341 1997 \nz\n\" id=\"DejaVuSans-61\" transform=\"scale(0.015625)\"/>\n        <path d=\"M 3328 2828 \nQ 3544 3216 3844 3400 \nQ 4144 3584 4550 3584 \nQ 5097 3584 5394 3201 \nQ 5691 2819 5691 2113 \nL 5691 0 \nL 5113 0 \nL 5113 2094 \nQ 5113 2597 4934 2840 \nQ 4756 3084 4391 3084 \nQ 3944 3084 3684 2787 \nQ 3425 2491 3425 1978 \nL 3425 0 \nL 2847 0 \nL 2847 2094 \nQ 2847 2600 2669 2842 \nQ 2491 3084 2119 3084 \nQ 1678 3084 1418 2786 \nQ 1159 2488 1159 1978 \nL 1159 0 \nL 581 0 \nL 581 3500 \nL 1159 3500 \nL 1159 2956 \nQ 1356 3278 1631 3431 \nQ 1906 3584 2284 3584 \nQ 2666 3584 2933 3390 \nQ 3200 3197 3328 2828 \nz\n\" id=\"DejaVuSans-6d\" transform=\"scale(0.015625)\"/>\n       </defs>\n       <use xlink:href=\"#DejaVuSans-56\"/>\n       <use x=\"66.158203\" xlink:href=\"#DejaVuSans-69\"/>\n       <use x=\"93.941406\" xlink:href=\"#DejaVuSans-65\"/>\n       <use x=\"155.464844\" xlink:href=\"#DejaVuSans-74\"/>\n       <use x=\"194.673828\" xlink:href=\"#DejaVuSans-6e\"/>\n       <use x=\"258.052734\" xlink:href=\"#DejaVuSans-61\"/>\n       <use x=\"319.332031\" xlink:href=\"#DejaVuSans-6d\"/>\n      </g>\n     </g>\n    </g>\n    <g id=\"xtick_2\">\n     <g id=\"line2d_2\">\n      <g>\n       <use style=\"stroke:#000000;stroke-width:0.8;\" x=\"149.625199\" xlink:href=\"#m11ffd26623\" y=\"463.599375\"/>\n      </g>\n     </g>\n     <g id=\"text_2\">\n      <!-- Unknown -->\n      <g transform=\"translate(152.384574 517.018125)rotate(-90)scale(0.1 -0.1)\">\n       <defs>\n        <path d=\"M 556 4666 \nL 1191 4666 \nL 1191 1831 \nQ 1191 1081 1462 751 \nQ 1734 422 2344 422 \nQ 2950 422 3222 751 \nQ 3494 1081 3494 1831 \nL 3494 4666 \nL 4128 4666 \nL 4128 1753 \nQ 4128 841 3676 375 \nQ 3225 -91 2344 -91 \nQ 1459 -91 1007 375 \nQ 556 841 556 1753 \nL 556 4666 \nz\n\" id=\"DejaVuSans-55\" transform=\"scale(0.015625)\"/>\n        <path d=\"M 581 4863 \nL 1159 4863 \nL 1159 1991 \nL 2875 3500 \nL 3609 3500 \nL 1753 1863 \nL 3688 0 \nL 2938 0 \nL 1159 1709 \nL 1159 0 \nL 581 0 \nL 581 4863 \nz\n\" id=\"DejaVuSans-6b\" transform=\"scale(0.015625)\"/>\n        <path d=\"M 1959 3097 \nQ 1497 3097 1228 2736 \nQ 959 2375 959 1747 \nQ 959 1119 1226 758 \nQ 1494 397 1959 397 \nQ 2419 397 2687 759 \nQ 2956 1122 2956 1747 \nQ 2956 2369 2687 2733 \nQ 2419 3097 1959 3097 \nz\nM 1959 3584 \nQ 2709 3584 3137 3096 \nQ 3566 2609 3566 1747 \nQ 3566 888 3137 398 \nQ 2709 -91 1959 -91 \nQ 1206 -91 779 398 \nQ 353 888 353 1747 \nQ 353 2609 779 3096 \nQ 1206 3584 1959 3584 \nz\n\" id=\"DejaVuSans-6f\" transform=\"scale(0.015625)\"/>\n        <path d=\"M 269 3500 \nL 844 3500 \nL 1563 769 \nL 2278 3500 \nL 2956 3500 \nL 3675 769 \nL 4391 3500 \nL 4966 3500 \nL 4050 0 \nL 3372 0 \nL 2619 2869 \nL 1863 0 \nL 1184 0 \nL 269 3500 \nz\n\" id=\"DejaVuSans-77\" transform=\"scale(0.015625)\"/>\n       </defs>\n       <use xlink:href=\"#DejaVuSans-55\"/>\n       <use x=\"73.193359\" xlink:href=\"#DejaVuSans-6e\"/>\n       <use x=\"136.572266\" xlink:href=\"#DejaVuSans-6b\"/>\n       <use x=\"194.482422\" xlink:href=\"#DejaVuSans-6e\"/>\n       <use x=\"257.861328\" xlink:href=\"#DejaVuSans-6f\"/>\n       <use x=\"319.042969\" xlink:href=\"#DejaVuSans-77\"/>\n       <use x=\"400.830078\" xlink:href=\"#DejaVuSans-6e\"/>\n      </g>\n     </g>\n    </g>\n    <g id=\"xtick_3\">\n     <g id=\"line2d_3\">\n      <g>\n       <use style=\"stroke:#000000;stroke-width:0.8;\" x=\"183.695756\" xlink:href=\"#m11ffd26623\" y=\"463.599375\"/>\n      </g>\n     </g>\n     <g id=\"text_3\">\n      <!-- Thailand -->\n      <g transform=\"translate(186.455131 513.543125)rotate(-90)scale(0.1 -0.1)\">\n       <defs>\n        <path d=\"M -19 4666 \nL 3928 4666 \nL 3928 4134 \nL 2272 4134 \nL 2272 0 \nL 1638 0 \nL 1638 4134 \nL -19 4134 \nL -19 4666 \nz\n\" id=\"DejaVuSans-54\" transform=\"scale(0.015625)\"/>\n        <path d=\"M 3513 2113 \nL 3513 0 \nL 2938 0 \nL 2938 2094 \nQ 2938 2591 2744 2837 \nQ 2550 3084 2163 3084 \nQ 1697 3084 1428 2787 \nQ 1159 2491 1159 1978 \nL 1159 0 \nL 581 0 \nL 581 4863 \nL 1159 4863 \nL 1159 2956 \nQ 1366 3272 1645 3428 \nQ 1925 3584 2291 3584 \nQ 2894 3584 3203 3211 \nQ 3513 2838 3513 2113 \nz\n\" id=\"DejaVuSans-68\" transform=\"scale(0.015625)\"/>\n        <path d=\"M 603 4863 \nL 1178 4863 \nL 1178 0 \nL 603 0 \nL 603 4863 \nz\n\" id=\"DejaVuSans-6c\" transform=\"scale(0.015625)\"/>\n        <path d=\"M 2906 2969 \nL 2906 4863 \nL 3481 4863 \nL 3481 0 \nL 2906 0 \nL 2906 525 \nQ 2725 213 2448 61 \nQ 2172 -91 1784 -91 \nQ 1150 -91 751 415 \nQ 353 922 353 1747 \nQ 353 2572 751 3078 \nQ 1150 3584 1784 3584 \nQ 2172 3584 2448 3432 \nQ 2725 3281 2906 2969 \nz\nM 947 1747 \nQ 947 1113 1208 752 \nQ 1469 391 1925 391 \nQ 2381 391 2643 752 \nQ 2906 1113 2906 1747 \nQ 2906 2381 2643 2742 \nQ 2381 3103 1925 3103 \nQ 1469 3103 1208 2742 \nQ 947 2381 947 1747 \nz\n\" id=\"DejaVuSans-64\" transform=\"scale(0.015625)\"/>\n       </defs>\n       <use xlink:href=\"#DejaVuSans-54\"/>\n       <use x=\"61.083984\" xlink:href=\"#DejaVuSans-68\"/>\n       <use x=\"124.462891\" xlink:href=\"#DejaVuSans-61\"/>\n       <use x=\"185.742188\" xlink:href=\"#DejaVuSans-69\"/>\n       <use x=\"213.525391\" xlink:href=\"#DejaVuSans-6c\"/>\n       <use x=\"241.308594\" xlink:href=\"#DejaVuSans-61\"/>\n       <use x=\"302.587891\" xlink:href=\"#DejaVuSans-6e\"/>\n       <use x=\"365.966797\" xlink:href=\"#DejaVuSans-64\"/>\n      </g>\n     </g>\n    </g>\n    <g id=\"xtick_4\">\n     <g id=\"line2d_4\">\n      <g>\n       <use style=\"stroke:#000000;stroke-width:0.8;\" x=\"217.766312\" xlink:href=\"#m11ffd26623\" y=\"463.599375\"/>\n      </g>\n     </g>\n     <g id=\"text_4\">\n      <!-- Japan -->\n      <g transform=\"translate(220.525687 498.491562)rotate(-90)scale(0.1 -0.1)\">\n       <defs>\n        <path d=\"M 628 4666 \nL 1259 4666 \nL 1259 325 \nQ 1259 -519 939 -900 \nQ 619 -1281 -91 -1281 \nL -331 -1281 \nL -331 -750 \nL -134 -750 \nQ 284 -750 456 -515 \nQ 628 -281 628 325 \nL 628 4666 \nz\n\" id=\"DejaVuSans-4a\" transform=\"scale(0.015625)\"/>\n        <path d=\"M 1159 525 \nL 1159 -1331 \nL 581 -1331 \nL 581 3500 \nL 1159 3500 \nL 1159 2969 \nQ 1341 3281 1617 3432 \nQ 1894 3584 2278 3584 \nQ 2916 3584 3314 3078 \nQ 3713 2572 3713 1747 \nQ 3713 922 3314 415 \nQ 2916 -91 2278 -91 \nQ 1894 -91 1617 61 \nQ 1341 213 1159 525 \nz\nM 3116 1747 \nQ 3116 2381 2855 2742 \nQ 2594 3103 2138 3103 \nQ 1681 3103 1420 2742 \nQ 1159 2381 1159 1747 \nQ 1159 1113 1420 752 \nQ 1681 391 2138 391 \nQ 2594 391 2855 752 \nQ 3116 1113 3116 1747 \nz\n\" id=\"DejaVuSans-70\" transform=\"scale(0.015625)\"/>\n       </defs>\n       <use xlink:href=\"#DejaVuSans-4a\"/>\n       <use x=\"29.492188\" xlink:href=\"#DejaVuSans-61\"/>\n       <use x=\"90.771484\" xlink:href=\"#DejaVuSans-70\"/>\n       <use x=\"154.248047\" xlink:href=\"#DejaVuSans-61\"/>\n       <use x=\"215.527344\" xlink:href=\"#DejaVuSans-6e\"/>\n      </g>\n     </g>\n    </g>\n    <g id=\"xtick_5\">\n     <g id=\"line2d_5\">\n      <g>\n       <use style=\"stroke:#000000;stroke-width:0.8;\" x=\"251.836868\" xlink:href=\"#m11ffd26623\" y=\"463.599375\"/>\n      </g>\n     </g>\n     <g id=\"text_5\">\n      <!-- South Korea -->\n      <g transform=\"translate(254.596243 531.18375)rotate(-90)scale(0.1 -0.1)\">\n       <defs>\n        <path d=\"M 3425 4513 \nL 3425 3897 \nQ 3066 4069 2747 4153 \nQ 2428 4238 2131 4238 \nQ 1616 4238 1336 4038 \nQ 1056 3838 1056 3469 \nQ 1056 3159 1242 3001 \nQ 1428 2844 1947 2747 \nL 2328 2669 \nQ 3034 2534 3370 2195 \nQ 3706 1856 3706 1288 \nQ 3706 609 3251 259 \nQ 2797 -91 1919 -91 \nQ 1588 -91 1214 -16 \nQ 841 59 441 206 \nL 441 856 \nQ 825 641 1194 531 \nQ 1563 422 1919 422 \nQ 2459 422 2753 634 \nQ 3047 847 3047 1241 \nQ 3047 1584 2836 1778 \nQ 2625 1972 2144 2069 \nL 1759 2144 \nQ 1053 2284 737 2584 \nQ 422 2884 422 3419 \nQ 422 4038 858 4394 \nQ 1294 4750 2059 4750 \nQ 2388 4750 2728 4690 \nQ 3069 4631 3425 4513 \nz\n\" id=\"DejaVuSans-53\" transform=\"scale(0.015625)\"/>\n        <path d=\"M 544 1381 \nL 544 3500 \nL 1119 3500 \nL 1119 1403 \nQ 1119 906 1312 657 \nQ 1506 409 1894 409 \nQ 2359 409 2629 706 \nQ 2900 1003 2900 1516 \nL 2900 3500 \nL 3475 3500 \nL 3475 0 \nL 2900 0 \nL 2900 538 \nQ 2691 219 2414 64 \nQ 2138 -91 1772 -91 \nQ 1169 -91 856 284 \nQ 544 659 544 1381 \nz\nM 1991 3584 \nL 1991 3584 \nz\n\" id=\"DejaVuSans-75\" transform=\"scale(0.015625)\"/>\n        <path id=\"DejaVuSans-20\" transform=\"scale(0.015625)\"/>\n        <path d=\"M 628 4666 \nL 1259 4666 \nL 1259 2694 \nL 3353 4666 \nL 4166 4666 \nL 1850 2491 \nL 4331 0 \nL 3500 0 \nL 1259 2247 \nL 1259 0 \nL 628 0 \nL 628 4666 \nz\n\" id=\"DejaVuSans-4b\" transform=\"scale(0.015625)\"/>\n        <path d=\"M 2631 2963 \nQ 2534 3019 2420 3045 \nQ 2306 3072 2169 3072 \nQ 1681 3072 1420 2755 \nQ 1159 2438 1159 1844 \nL 1159 0 \nL 581 0 \nL 581 3500 \nL 1159 3500 \nL 1159 2956 \nQ 1341 3275 1631 3429 \nQ 1922 3584 2338 3584 \nQ 2397 3584 2469 3576 \nQ 2541 3569 2628 3553 \nL 2631 2963 \nz\n\" id=\"DejaVuSans-72\" transform=\"scale(0.015625)\"/>\n       </defs>\n       <use xlink:href=\"#DejaVuSans-53\"/>\n       <use x=\"63.476562\" xlink:href=\"#DejaVuSans-6f\"/>\n       <use x=\"124.658203\" xlink:href=\"#DejaVuSans-75\"/>\n       <use x=\"188.037109\" xlink:href=\"#DejaVuSans-74\"/>\n       <use x=\"227.246094\" xlink:href=\"#DejaVuSans-68\"/>\n       <use x=\"290.625\" xlink:href=\"#DejaVuSans-20\"/>\n       <use x=\"322.412109\" xlink:href=\"#DejaVuSans-4b\"/>\n       <use x=\"382.988281\" xlink:href=\"#DejaVuSans-6f\"/>\n       <use x=\"444.169922\" xlink:href=\"#DejaVuSans-72\"/>\n       <use x=\"483.033203\" xlink:href=\"#DejaVuSans-65\"/>\n       <use x=\"544.556641\" xlink:href=\"#DejaVuSans-61\"/>\n      </g>\n     </g>\n    </g>\n    <g id=\"xtick_6\">\n     <g id=\"line2d_6\">\n      <g>\n       <use style=\"stroke:#000000;stroke-width:0.8;\" x=\"285.907425\" xlink:href=\"#m11ffd26623\" y=\"463.599375\"/>\n      </g>\n     </g>\n     <g id=\"text_6\">\n      <!-- Finland -->\n      <g transform=\"translate(288.6668 506.33375)rotate(-90)scale(0.1 -0.1)\">\n       <defs>\n        <path d=\"M 628 4666 \nL 3309 4666 \nL 3309 4134 \nL 1259 4134 \nL 1259 2759 \nL 3109 2759 \nL 3109 2228 \nL 1259 2228 \nL 1259 0 \nL 628 0 \nL 628 4666 \nz\n\" id=\"DejaVuSans-46\" transform=\"scale(0.015625)\"/>\n       </defs>\n       <use xlink:href=\"#DejaVuSans-46\"/>\n       <use x=\"50.269531\" xlink:href=\"#DejaVuSans-69\"/>\n       <use x=\"78.052734\" xlink:href=\"#DejaVuSans-6e\"/>\n       <use x=\"141.431641\" xlink:href=\"#DejaVuSans-6c\"/>\n       <use x=\"169.214844\" xlink:href=\"#DejaVuSans-61\"/>\n       <use x=\"230.494141\" xlink:href=\"#DejaVuSans-6e\"/>\n       <use x=\"293.873047\" xlink:href=\"#DejaVuSans-64\"/>\n      </g>\n     </g>\n    </g>\n    <g id=\"xtick_7\">\n     <g id=\"line2d_7\">\n      <g>\n       <use style=\"stroke:#000000;stroke-width:0.8;\" x=\"319.977981\" xlink:href=\"#m11ffd26623\" y=\"463.599375\"/>\n      </g>\n     </g>\n     <g id=\"text_7\">\n      <!-- USA -->\n      <g transform=\"translate(322.737356 491.294688)rotate(-90)scale(0.1 -0.1)\">\n       <defs>\n        <path d=\"M 2188 4044 \nL 1331 1722 \nL 3047 1722 \nL 2188 4044 \nz\nM 1831 4666 \nL 2547 4666 \nL 4325 0 \nL 3669 0 \nL 3244 1197 \nL 1141 1197 \nL 716 0 \nL 50 0 \nL 1831 4666 \nz\n\" id=\"DejaVuSans-41\" transform=\"scale(0.015625)\"/>\n       </defs>\n       <use xlink:href=\"#DejaVuSans-55\"/>\n       <use x=\"73.193359\" xlink:href=\"#DejaVuSans-53\"/>\n       <use x=\"138.544922\" xlink:href=\"#DejaVuSans-41\"/>\n      </g>\n     </g>\n    </g>\n    <g id=\"xtick_8\">\n     <g id=\"line2d_8\">\n      <g>\n       <use style=\"stroke:#000000;stroke-width:0.8;\" x=\"354.048537\" xlink:href=\"#m11ffd26623\" y=\"463.599375\"/>\n      </g>\n     </g>\n     <g id=\"text_8\">\n      <!-- China -->\n      <g transform=\"translate(356.807912 499.163437)rotate(-90)scale(0.1 -0.1)\">\n       <defs>\n        <path d=\"M 4122 4306 \nL 4122 3641 \nQ 3803 3938 3442 4084 \nQ 3081 4231 2675 4231 \nQ 1875 4231 1450 3742 \nQ 1025 3253 1025 2328 \nQ 1025 1406 1450 917 \nQ 1875 428 2675 428 \nQ 3081 428 3442 575 \nQ 3803 722 4122 1019 \nL 4122 359 \nQ 3791 134 3420 21 \nQ 3050 -91 2638 -91 \nQ 1578 -91 968 557 \nQ 359 1206 359 2328 \nQ 359 3453 968 4101 \nQ 1578 4750 2638 4750 \nQ 3056 4750 3426 4639 \nQ 3797 4528 4122 4306 \nz\n\" id=\"DejaVuSans-43\" transform=\"scale(0.015625)\"/>\n       </defs>\n       <use xlink:href=\"#DejaVuSans-43\"/>\n       <use x=\"69.824219\" xlink:href=\"#DejaVuSans-68\"/>\n       <use x=\"133.203125\" xlink:href=\"#DejaVuSans-69\"/>\n       <use x=\"160.986328\" xlink:href=\"#DejaVuSans-6e\"/>\n       <use x=\"224.365234\" xlink:href=\"#DejaVuSans-61\"/>\n      </g>\n     </g>\n    </g>\n    <g id=\"xtick_9\">\n     <g id=\"line2d_9\">\n      <g>\n       <use style=\"stroke:#000000;stroke-width:0.8;\" x=\"388.119093\" xlink:href=\"#m11ffd26623\" y=\"463.599375\"/>\n      </g>\n     </g>\n     <g id=\"text_9\">\n      <!-- Singapore -->\n      <g transform=\"translate(390.878468 521.04625)rotate(-90)scale(0.1 -0.1)\">\n       <defs>\n        <path d=\"M 2906 1791 \nQ 2906 2416 2648 2759 \nQ 2391 3103 1925 3103 \nQ 1463 3103 1205 2759 \nQ 947 2416 947 1791 \nQ 947 1169 1205 825 \nQ 1463 481 1925 481 \nQ 2391 481 2648 825 \nQ 2906 1169 2906 1791 \nz\nM 3481 434 \nQ 3481 -459 3084 -895 \nQ 2688 -1331 1869 -1331 \nQ 1566 -1331 1297 -1286 \nQ 1028 -1241 775 -1147 \nL 775 -588 \nQ 1028 -725 1275 -790 \nQ 1522 -856 1778 -856 \nQ 2344 -856 2625 -561 \nQ 2906 -266 2906 331 \nL 2906 616 \nQ 2728 306 2450 153 \nQ 2172 0 1784 0 \nQ 1141 0 747 490 \nQ 353 981 353 1791 \nQ 353 2603 747 3093 \nQ 1141 3584 1784 3584 \nQ 2172 3584 2450 3431 \nQ 2728 3278 2906 2969 \nL 2906 3500 \nL 3481 3500 \nL 3481 434 \nz\n\" id=\"DejaVuSans-67\" transform=\"scale(0.015625)\"/>\n       </defs>\n       <use xlink:href=\"#DejaVuSans-53\"/>\n       <use x=\"63.476562\" xlink:href=\"#DejaVuSans-69\"/>\n       <use x=\"91.259766\" xlink:href=\"#DejaVuSans-6e\"/>\n       <use x=\"154.638672\" xlink:href=\"#DejaVuSans-67\"/>\n       <use x=\"218.115234\" xlink:href=\"#DejaVuSans-61\"/>\n       <use x=\"279.394531\" xlink:href=\"#DejaVuSans-70\"/>\n       <use x=\"342.871094\" xlink:href=\"#DejaVuSans-6f\"/>\n       <use x=\"404.052734\" xlink:href=\"#DejaVuSans-72\"/>\n       <use x=\"442.916016\" xlink:href=\"#DejaVuSans-65\"/>\n      </g>\n     </g>\n    </g>\n    <g id=\"xtick_10\">\n     <g id=\"line2d_10\">\n      <g>\n       <use style=\"stroke:#000000;stroke-width:0.8;\" x=\"422.18965\" xlink:href=\"#m11ffd26623\" y=\"463.599375\"/>\n      </g>\n     </g>\n     <g id=\"text_10\">\n      <!-- India -->\n      <g transform=\"translate(424.949025 495.141562)rotate(-90)scale(0.1 -0.1)\">\n       <defs>\n        <path d=\"M 628 4666 \nL 1259 4666 \nL 1259 0 \nL 628 0 \nL 628 4666 \nz\n\" id=\"DejaVuSans-49\" transform=\"scale(0.015625)\"/>\n       </defs>\n       <use xlink:href=\"#DejaVuSans-49\"/>\n       <use x=\"29.492188\" xlink:href=\"#DejaVuSans-6e\"/>\n       <use x=\"92.871094\" xlink:href=\"#DejaVuSans-64\"/>\n       <use x=\"156.347656\" xlink:href=\"#DejaVuSans-69\"/>\n       <use x=\"184.130859\" xlink:href=\"#DejaVuSans-61\"/>\n      </g>\n     </g>\n    </g>\n    <g id=\"xtick_11\">\n     <g id=\"line2d_11\">\n      <g>\n       <use style=\"stroke:#000000;stroke-width:0.8;\" x=\"456.260206\" xlink:href=\"#m11ffd26623\" y=\"463.599375\"/>\n      </g>\n     </g>\n     <g id=\"text_11\">\n      <!-- Taipei, Taiwan -->\n      <g transform=\"translate(459.019581 539.607188)rotate(-90)scale(0.1 -0.1)\">\n       <defs>\n        <path d=\"M 750 794 \nL 1409 794 \nL 1409 256 \nL 897 -744 \nL 494 -744 \nL 750 256 \nL 750 794 \nz\n\" id=\"DejaVuSans-2c\" transform=\"scale(0.015625)\"/>\n       </defs>\n       <use xlink:href=\"#DejaVuSans-54\"/>\n       <use x=\"44.583984\" xlink:href=\"#DejaVuSans-61\"/>\n       <use x=\"105.863281\" xlink:href=\"#DejaVuSans-69\"/>\n       <use x=\"133.646484\" xlink:href=\"#DejaVuSans-70\"/>\n       <use x=\"197.123047\" xlink:href=\"#DejaVuSans-65\"/>\n       <use x=\"258.646484\" xlink:href=\"#DejaVuSans-69\"/>\n       <use x=\"286.429688\" xlink:href=\"#DejaVuSans-2c\"/>\n       <use x=\"318.216797\" xlink:href=\"#DejaVuSans-20\"/>\n       <use x=\"350.003906\" xlink:href=\"#DejaVuSans-54\"/>\n       <use x=\"394.587891\" xlink:href=\"#DejaVuSans-61\"/>\n       <use x=\"455.867188\" xlink:href=\"#DejaVuSans-69\"/>\n       <use x=\"483.650391\" xlink:href=\"#DejaVuSans-77\"/>\n       <use x=\"565.4375\" xlink:href=\"#DejaVuSans-61\"/>\n       <use x=\"626.716797\" xlink:href=\"#DejaVuSans-6e\"/>\n      </g>\n     </g>\n    </g>\n    <g id=\"xtick_12\">\n     <g id=\"line2d_12\">\n      <g>\n       <use style=\"stroke:#000000;stroke-width:0.8;\" x=\"490.330762\" xlink:href=\"#m11ffd26623\" y=\"463.599375\"/>\n      </g>\n     </g>\n     <g id=\"text_12\">\n      <!-- Philippines -->\n      <g transform=\"translate(493.090137 524.475937)rotate(-90)scale(0.1 -0.1)\">\n       <defs>\n        <path d=\"M 1259 4147 \nL 1259 2394 \nL 2053 2394 \nQ 2494 2394 2734 2622 \nQ 2975 2850 2975 3272 \nQ 2975 3691 2734 3919 \nQ 2494 4147 2053 4147 \nL 1259 4147 \nz\nM 628 4666 \nL 2053 4666 \nQ 2838 4666 3239 4311 \nQ 3641 3956 3641 3272 \nQ 3641 2581 3239 2228 \nQ 2838 1875 2053 1875 \nL 1259 1875 \nL 1259 0 \nL 628 0 \nL 628 4666 \nz\n\" id=\"DejaVuSans-50\" transform=\"scale(0.015625)\"/>\n        <path d=\"M 2834 3397 \nL 2834 2853 \nQ 2591 2978 2328 3040 \nQ 2066 3103 1784 3103 \nQ 1356 3103 1142 2972 \nQ 928 2841 928 2578 \nQ 928 2378 1081 2264 \nQ 1234 2150 1697 2047 \nL 1894 2003 \nQ 2506 1872 2764 1633 \nQ 3022 1394 3022 966 \nQ 3022 478 2636 193 \nQ 2250 -91 1575 -91 \nQ 1294 -91 989 -36 \nQ 684 19 347 128 \nL 347 722 \nQ 666 556 975 473 \nQ 1284 391 1588 391 \nQ 1994 391 2212 530 \nQ 2431 669 2431 922 \nQ 2431 1156 2273 1281 \nQ 2116 1406 1581 1522 \nL 1381 1569 \nQ 847 1681 609 1914 \nQ 372 2147 372 2553 \nQ 372 3047 722 3315 \nQ 1072 3584 1716 3584 \nQ 2034 3584 2315 3537 \nQ 2597 3491 2834 3397 \nz\n\" id=\"DejaVuSans-73\" transform=\"scale(0.015625)\"/>\n       </defs>\n       <use xlink:href=\"#DejaVuSans-50\"/>\n       <use x=\"60.302734\" xlink:href=\"#DejaVuSans-68\"/>\n       <use x=\"123.681641\" xlink:href=\"#DejaVuSans-69\"/>\n       <use x=\"151.464844\" xlink:href=\"#DejaVuSans-6c\"/>\n       <use x=\"179.248047\" xlink:href=\"#DejaVuSans-69\"/>\n       <use x=\"207.03125\" xlink:href=\"#DejaVuSans-70\"/>\n       <use x=\"270.507812\" xlink:href=\"#DejaVuSans-70\"/>\n       <use x=\"333.984375\" xlink:href=\"#DejaVuSans-69\"/>\n       <use x=\"361.767578\" xlink:href=\"#DejaVuSans-6e\"/>\n       <use x=\"425.146484\" xlink:href=\"#DejaVuSans-65\"/>\n       <use x=\"486.669922\" xlink:href=\"#DejaVuSans-73\"/>\n      </g>\n     </g>\n    </g>\n    <g id=\"xtick_13\">\n     <g id=\"line2d_13\">\n      <g>\n       <use style=\"stroke:#000000;stroke-width:0.8;\" x=\"524.401319\" xlink:href=\"#m11ffd26623\" y=\"463.599375\"/>\n      </g>\n     </g>\n     <g id=\"text_13\">\n      <!-- Hong Kong, China -->\n      <g transform=\"translate(527.160694 559.885312)rotate(-90)scale(0.1 -0.1)\">\n       <defs>\n        <path d=\"M 628 4666 \nL 1259 4666 \nL 1259 2753 \nL 3553 2753 \nL 3553 4666 \nL 4184 4666 \nL 4184 0 \nL 3553 0 \nL 3553 2222 \nL 1259 2222 \nL 1259 0 \nL 628 0 \nL 628 4666 \nz\n\" id=\"DejaVuSans-48\" transform=\"scale(0.015625)\"/>\n       </defs>\n       <use xlink:href=\"#DejaVuSans-48\"/>\n       <use x=\"75.195312\" xlink:href=\"#DejaVuSans-6f\"/>\n       <use x=\"136.376953\" xlink:href=\"#DejaVuSans-6e\"/>\n       <use x=\"199.755859\" xlink:href=\"#DejaVuSans-67\"/>\n       <use x=\"263.232422\" xlink:href=\"#DejaVuSans-20\"/>\n       <use x=\"295.019531\" xlink:href=\"#DejaVuSans-4b\"/>\n       <use x=\"355.595703\" xlink:href=\"#DejaVuSans-6f\"/>\n       <use x=\"416.777344\" xlink:href=\"#DejaVuSans-6e\"/>\n       <use x=\"480.15625\" xlink:href=\"#DejaVuSans-67\"/>\n       <use x=\"543.632812\" xlink:href=\"#DejaVuSans-2c\"/>\n       <use x=\"575.419922\" xlink:href=\"#DejaVuSans-20\"/>\n       <use x=\"607.207031\" xlink:href=\"#DejaVuSans-43\"/>\n       <use x=\"677.03125\" xlink:href=\"#DejaVuSans-68\"/>\n       <use x=\"740.410156\" xlink:href=\"#DejaVuSans-69\"/>\n       <use x=\"768.193359\" xlink:href=\"#DejaVuSans-6e\"/>\n       <use x=\"831.572266\" xlink:href=\"#DejaVuSans-61\"/>\n      </g>\n     </g>\n    </g>\n    <g id=\"xtick_14\">\n     <g id=\"line2d_14\">\n      <g>\n       <use style=\"stroke:#000000;stroke-width:0.8;\" x=\"558.471875\" xlink:href=\"#m11ffd26623\" y=\"463.599375\"/>\n      </g>\n     </g>\n     <g id=\"text_14\">\n      <!-- France -->\n      <g transform=\"translate(561.23125 503.854062)rotate(-90)scale(0.1 -0.1)\">\n       <defs>\n        <path d=\"M 3122 3366 \nL 3122 2828 \nQ 2878 2963 2633 3030 \nQ 2388 3097 2138 3097 \nQ 1578 3097 1268 2742 \nQ 959 2388 959 1747 \nQ 959 1106 1268 751 \nQ 1578 397 2138 397 \nQ 2388 397 2633 464 \nQ 2878 531 3122 666 \nL 3122 134 \nQ 2881 22 2623 -34 \nQ 2366 -91 2075 -91 \nQ 1284 -91 818 406 \nQ 353 903 353 1747 \nQ 353 2603 823 3093 \nQ 1294 3584 2113 3584 \nQ 2378 3584 2631 3529 \nQ 2884 3475 3122 3366 \nz\n\" id=\"DejaVuSans-63\" transform=\"scale(0.015625)\"/>\n       </defs>\n       <use xlink:href=\"#DejaVuSans-46\"/>\n       <use x=\"50.269531\" xlink:href=\"#DejaVuSans-72\"/>\n       <use x=\"91.382812\" xlink:href=\"#DejaVuSans-61\"/>\n       <use x=\"152.662109\" xlink:href=\"#DejaVuSans-6e\"/>\n       <use x=\"216.041016\" xlink:href=\"#DejaVuSans-63\"/>\n       <use x=\"271.021484\" xlink:href=\"#DejaVuSans-65\"/>\n      </g>\n     </g>\n    </g>\n    <g id=\"xtick_15\">\n     <g id=\"line2d_15\">\n      <g>\n       <use style=\"stroke:#000000;stroke-width:0.8;\" x=\"592.542431\" xlink:href=\"#m11ffd26623\" y=\"463.599375\"/>\n      </g>\n     </g>\n     <g id=\"text_15\">\n      <!-- Malaysia -->\n      <g transform=\"translate(595.301806 514.29625)rotate(-90)scale(0.1 -0.1)\">\n       <defs>\n        <path d=\"M 628 4666 \nL 1569 4666 \nL 2759 1491 \nL 3956 4666 \nL 4897 4666 \nL 4897 0 \nL 4281 0 \nL 4281 4097 \nL 3078 897 \nL 2444 897 \nL 1241 4097 \nL 1241 0 \nL 628 0 \nL 628 4666 \nz\n\" id=\"DejaVuSans-4d\" transform=\"scale(0.015625)\"/>\n        <path d=\"M 2059 -325 \nQ 1816 -950 1584 -1140 \nQ 1353 -1331 966 -1331 \nL 506 -1331 \nL 506 -850 \nL 844 -850 \nQ 1081 -850 1212 -737 \nQ 1344 -625 1503 -206 \nL 1606 56 \nL 191 3500 \nL 800 3500 \nL 1894 763 \nL 2988 3500 \nL 3597 3500 \nL 2059 -325 \nz\n\" id=\"DejaVuSans-79\" transform=\"scale(0.015625)\"/>\n       </defs>\n       <use xlink:href=\"#DejaVuSans-4d\"/>\n       <use x=\"86.279297\" xlink:href=\"#DejaVuSans-61\"/>\n       <use x=\"147.558594\" xlink:href=\"#DejaVuSans-6c\"/>\n       <use x=\"175.341797\" xlink:href=\"#DejaVuSans-61\"/>\n       <use x=\"236.621094\" xlink:href=\"#DejaVuSans-79\"/>\n       <use x=\"295.800781\" xlink:href=\"#DejaVuSans-73\"/>\n       <use x=\"347.900391\" xlink:href=\"#DejaVuSans-69\"/>\n       <use x=\"375.683594\" xlink:href=\"#DejaVuSans-61\"/>\n      </g>\n     </g>\n    </g>\n    <g id=\"xtick_16\">\n     <g id=\"line2d_16\">\n      <g>\n       <use style=\"stroke:#000000;stroke-width:0.8;\" x=\"626.612988\" xlink:href=\"#m11ffd26623\" y=\"463.599375\"/>\n      </g>\n     </g>\n     <g id=\"text_16\">\n      <!-- United Kingdom -->\n      <g transform=\"translate(629.372363 550.863438)rotate(-90)scale(0.1 -0.1)\">\n       <use xlink:href=\"#DejaVuSans-55\"/>\n       <use x=\"73.193359\" xlink:href=\"#DejaVuSans-6e\"/>\n       <use x=\"136.572266\" xlink:href=\"#DejaVuSans-69\"/>\n       <use x=\"164.355469\" xlink:href=\"#DejaVuSans-74\"/>\n       <use x=\"203.564453\" xlink:href=\"#DejaVuSans-65\"/>\n       <use x=\"265.087891\" xlink:href=\"#DejaVuSans-64\"/>\n       <use x=\"328.564453\" xlink:href=\"#DejaVuSans-20\"/>\n       <use x=\"360.351562\" xlink:href=\"#DejaVuSans-4b\"/>\n       <use x=\"425.927734\" xlink:href=\"#DejaVuSans-69\"/>\n       <use x=\"453.710938\" xlink:href=\"#DejaVuSans-6e\"/>\n       <use x=\"517.089844\" xlink:href=\"#DejaVuSans-67\"/>\n       <use x=\"580.566406\" xlink:href=\"#DejaVuSans-64\"/>\n       <use x=\"644.042969\" xlink:href=\"#DejaVuSans-6f\"/>\n       <use x=\"705.224609\" xlink:href=\"#DejaVuSans-6d\"/>\n      </g>\n     </g>\n    </g>\n    <g id=\"xtick_17\">\n     <g id=\"line2d_17\">\n      <g>\n       <use style=\"stroke:#000000;stroke-width:0.8;\" x=\"660.683544\" xlink:href=\"#m11ffd26623\" y=\"463.599375\"/>\n      </g>\n     </g>\n     <g id=\"text_17\">\n      <!-- Saudi Arabia -->\n      <g transform=\"translate(663.442919 534.0525)rotate(-90)scale(0.1 -0.1)\">\n       <defs>\n        <path d=\"M 3116 1747 \nQ 3116 2381 2855 2742 \nQ 2594 3103 2138 3103 \nQ 1681 3103 1420 2742 \nQ 1159 2381 1159 1747 \nQ 1159 1113 1420 752 \nQ 1681 391 2138 391 \nQ 2594 391 2855 752 \nQ 3116 1113 3116 1747 \nz\nM 1159 2969 \nQ 1341 3281 1617 3432 \nQ 1894 3584 2278 3584 \nQ 2916 3584 3314 3078 \nQ 3713 2572 3713 1747 \nQ 3713 922 3314 415 \nQ 2916 -91 2278 -91 \nQ 1894 -91 1617 61 \nQ 1341 213 1159 525 \nL 1159 0 \nL 581 0 \nL 581 4863 \nL 1159 4863 \nL 1159 2969 \nz\n\" id=\"DejaVuSans-62\" transform=\"scale(0.015625)\"/>\n       </defs>\n       <use xlink:href=\"#DejaVuSans-53\"/>\n       <use x=\"63.476562\" xlink:href=\"#DejaVuSans-61\"/>\n       <use x=\"124.755859\" xlink:href=\"#DejaVuSans-75\"/>\n       <use x=\"188.134766\" xlink:href=\"#DejaVuSans-64\"/>\n       <use x=\"251.611328\" xlink:href=\"#DejaVuSans-69\"/>\n       <use x=\"279.394531\" xlink:href=\"#DejaVuSans-20\"/>\n       <use x=\"311.181641\" xlink:href=\"#DejaVuSans-41\"/>\n       <use x=\"379.589844\" xlink:href=\"#DejaVuSans-72\"/>\n       <use x=\"420.703125\" xlink:href=\"#DejaVuSans-61\"/>\n       <use x=\"481.982422\" xlink:href=\"#DejaVuSans-62\"/>\n       <use x=\"545.458984\" xlink:href=\"#DejaVuSans-69\"/>\n       <use x=\"573.242188\" xlink:href=\"#DejaVuSans-61\"/>\n      </g>\n     </g>\n    </g>\n    <g id=\"xtick_18\">\n     <g id=\"line2d_18\">\n      <g>\n       <use style=\"stroke:#000000;stroke-width:0.8;\" x=\"694.7541\" xlink:href=\"#m11ffd26623\" y=\"463.599375\"/>\n      </g>\n     </g>\n     <g id=\"text_18\">\n      <!-- Netherlands -->\n      <g transform=\"translate(697.513475 531.557187)rotate(-90)scale(0.1 -0.1)\">\n       <defs>\n        <path d=\"M 628 4666 \nL 1478 4666 \nL 3547 763 \nL 3547 4666 \nL 4159 4666 \nL 4159 0 \nL 3309 0 \nL 1241 3903 \nL 1241 0 \nL 628 0 \nL 628 4666 \nz\n\" id=\"DejaVuSans-4e\" transform=\"scale(0.015625)\"/>\n       </defs>\n       <use xlink:href=\"#DejaVuSans-4e\"/>\n       <use x=\"74.804688\" xlink:href=\"#DejaVuSans-65\"/>\n       <use x=\"136.328125\" xlink:href=\"#DejaVuSans-74\"/>\n       <use x=\"175.537109\" xlink:href=\"#DejaVuSans-68\"/>\n       <use x=\"238.916016\" xlink:href=\"#DejaVuSans-65\"/>\n       <use x=\"300.439453\" xlink:href=\"#DejaVuSans-72\"/>\n       <use x=\"341.552734\" xlink:href=\"#DejaVuSans-6c\"/>\n       <use x=\"369.335938\" xlink:href=\"#DejaVuSans-61\"/>\n       <use x=\"430.615234\" xlink:href=\"#DejaVuSans-6e\"/>\n       <use x=\"493.994141\" xlink:href=\"#DejaVuSans-64\"/>\n       <use x=\"557.470703\" xlink:href=\"#DejaVuSans-73\"/>\n      </g>\n     </g>\n    </g>\n    <g id=\"xtick_19\">\n     <g id=\"line2d_19\">\n      <g>\n       <use style=\"stroke:#000000;stroke-width:0.8;\" x=\"728.824657\" xlink:href=\"#m11ffd26623\" y=\"463.599375\"/>\n      </g>\n     </g>\n     <g id=\"text_19\">\n      <!-- Greece -->\n      <g transform=\"translate(731.584032 506.191562)rotate(-90)scale(0.1 -0.1)\">\n       <defs>\n        <path d=\"M 3809 666 \nL 3809 1919 \nL 2778 1919 \nL 2778 2438 \nL 4434 2438 \nL 4434 434 \nQ 4069 175 3628 42 \nQ 3188 -91 2688 -91 \nQ 1594 -91 976 548 \nQ 359 1188 359 2328 \nQ 359 3472 976 4111 \nQ 1594 4750 2688 4750 \nQ 3144 4750 3555 4637 \nQ 3966 4525 4313 4306 \nL 4313 3634 \nQ 3963 3931 3569 4081 \nQ 3175 4231 2741 4231 \nQ 1884 4231 1454 3753 \nQ 1025 3275 1025 2328 \nQ 1025 1384 1454 906 \nQ 1884 428 2741 428 \nQ 3075 428 3337 486 \nQ 3600 544 3809 666 \nz\n\" id=\"DejaVuSans-47\" transform=\"scale(0.015625)\"/>\n       </defs>\n       <use xlink:href=\"#DejaVuSans-47\"/>\n       <use x=\"77.490234\" xlink:href=\"#DejaVuSans-72\"/>\n       <use x=\"116.353516\" xlink:href=\"#DejaVuSans-65\"/>\n       <use x=\"177.876953\" xlink:href=\"#DejaVuSans-65\"/>\n       <use x=\"239.400391\" xlink:href=\"#DejaVuSans-63\"/>\n       <use x=\"294.380859\" xlink:href=\"#DejaVuSans-65\"/>\n      </g>\n     </g>\n    </g>\n    <g id=\"xtick_20\">\n     <g id=\"line2d_20\">\n      <g>\n       <use style=\"stroke:#000000;stroke-width:0.8;\" x=\"762.895213\" xlink:href=\"#m11ffd26623\" y=\"463.599375\"/>\n      </g>\n     </g>\n     <g id=\"text_20\">\n      <!-- Russia -->\n      <g transform=\"translate(765.654588 502.760312)rotate(-90)scale(0.1 -0.1)\">\n       <defs>\n        <path d=\"M 2841 2188 \nQ 3044 2119 3236 1894 \nQ 3428 1669 3622 1275 \nL 4263 0 \nL 3584 0 \nL 2988 1197 \nQ 2756 1666 2539 1819 \nQ 2322 1972 1947 1972 \nL 1259 1972 \nL 1259 0 \nL 628 0 \nL 628 4666 \nL 2053 4666 \nQ 2853 4666 3247 4331 \nQ 3641 3997 3641 3322 \nQ 3641 2881 3436 2590 \nQ 3231 2300 2841 2188 \nz\nM 1259 4147 \nL 1259 2491 \nL 2053 2491 \nQ 2509 2491 2742 2702 \nQ 2975 2913 2975 3322 \nQ 2975 3731 2742 3939 \nQ 2509 4147 2053 4147 \nL 1259 4147 \nz\n\" id=\"DejaVuSans-52\" transform=\"scale(0.015625)\"/>\n       </defs>\n       <use xlink:href=\"#DejaVuSans-52\"/>\n       <use x=\"64.982422\" xlink:href=\"#DejaVuSans-75\"/>\n       <use x=\"128.361328\" xlink:href=\"#DejaVuSans-73\"/>\n       <use x=\"180.460938\" xlink:href=\"#DejaVuSans-73\"/>\n       <use x=\"232.560547\" xlink:href=\"#DejaVuSans-69\"/>\n       <use x=\"260.34375\" xlink:href=\"#DejaVuSans-61\"/>\n      </g>\n     </g>\n    </g>\n    <g id=\"xtick_21\">\n     <g id=\"line2d_21\">\n      <g>\n       <use style=\"stroke:#000000;stroke-width:0.8;\" x=\"796.965769\" xlink:href=\"#m11ffd26623\" y=\"463.599375\"/>\n      </g>\n     </g>\n     <g id=\"text_21\">\n      <!-- Spain -->\n      <g transform=\"translate(799.725144 498.54)rotate(-90)scale(0.1 -0.1)\">\n       <use xlink:href=\"#DejaVuSans-53\"/>\n       <use x=\"63.476562\" xlink:href=\"#DejaVuSans-70\"/>\n       <use x=\"126.953125\" xlink:href=\"#DejaVuSans-61\"/>\n       <use x=\"188.232422\" xlink:href=\"#DejaVuSans-69\"/>\n       <use x=\"216.015625\" xlink:href=\"#DejaVuSans-6e\"/>\n      </g>\n     </g>\n    </g>\n    <g id=\"xtick_22\">\n     <g id=\"line2d_22\">\n      <g>\n       <use style=\"stroke:#000000;stroke-width:0.8;\" x=\"831.036325\" xlink:href=\"#m11ffd26623\" y=\"463.599375\"/>\n      </g>\n     </g>\n     <g id=\"text_22\">\n      <!-- Switzerland -->\n      <g transform=\"translate(833.7957 528.929062)rotate(-90)scale(0.1 -0.1)\">\n       <defs>\n        <path d=\"M 353 3500 \nL 3084 3500 \nL 3084 2975 \nL 922 459 \nL 3084 459 \nL 3084 0 \nL 275 0 \nL 275 525 \nL 2438 3041 \nL 353 3041 \nL 353 3500 \nz\n\" id=\"DejaVuSans-7a\" transform=\"scale(0.015625)\"/>\n       </defs>\n       <use xlink:href=\"#DejaVuSans-53\"/>\n       <use x=\"63.476562\" xlink:href=\"#DejaVuSans-77\"/>\n       <use x=\"145.263672\" xlink:href=\"#DejaVuSans-69\"/>\n       <use x=\"173.046875\" xlink:href=\"#DejaVuSans-74\"/>\n       <use x=\"212.255859\" xlink:href=\"#DejaVuSans-7a\"/>\n       <use x=\"264.746094\" xlink:href=\"#DejaVuSans-65\"/>\n       <use x=\"326.269531\" xlink:href=\"#DejaVuSans-72\"/>\n       <use x=\"367.382812\" xlink:href=\"#DejaVuSans-6c\"/>\n       <use x=\"395.166016\" xlink:href=\"#DejaVuSans-61\"/>\n       <use x=\"456.445312\" xlink:href=\"#DejaVuSans-6e\"/>\n       <use x=\"519.824219\" xlink:href=\"#DejaVuSans-64\"/>\n      </g>\n     </g>\n    </g>\n    <g id=\"xtick_23\">\n     <g id=\"line2d_23\">\n      <g>\n       <use style=\"stroke:#000000;stroke-width:0.8;\" x=\"865.106882\" xlink:href=\"#m11ffd26623\" y=\"463.599375\"/>\n      </g>\n     </g>\n     <g id=\"text_23\">\n      <!-- Germany -->\n      <g transform=\"translate(867.866257 516.561875)rotate(-90)scale(0.1 -0.1)\">\n       <use xlink:href=\"#DejaVuSans-47\"/>\n       <use x=\"77.490234\" xlink:href=\"#DejaVuSans-65\"/>\n       <use x=\"139.013672\" xlink:href=\"#DejaVuSans-72\"/>\n       <use x=\"178.376953\" xlink:href=\"#DejaVuSans-6d\"/>\n       <use x=\"275.789062\" xlink:href=\"#DejaVuSans-61\"/>\n       <use x=\"337.068359\" xlink:href=\"#DejaVuSans-6e\"/>\n       <use x=\"400.447266\" xlink:href=\"#DejaVuSans-79\"/>\n      </g>\n     </g>\n    </g>\n    <g id=\"xtick_24\">\n     <g id=\"line2d_24\">\n      <g>\n       <use style=\"stroke:#000000;stroke-width:0.8;\" x=\"899.177438\" xlink:href=\"#m11ffd26623\" y=\"463.599375\"/>\n      </g>\n     </g>\n     <g id=\"text_24\">\n      <!-- Austria -->\n      <g transform=\"translate(901.936813 505.924375)rotate(-90)scale(0.1 -0.1)\">\n       <use xlink:href=\"#DejaVuSans-41\"/>\n       <use x=\"68.408203\" xlink:href=\"#DejaVuSans-75\"/>\n       <use x=\"131.787109\" xlink:href=\"#DejaVuSans-73\"/>\n       <use x=\"183.886719\" xlink:href=\"#DejaVuSans-74\"/>\n       <use x=\"223.095703\" xlink:href=\"#DejaVuSans-72\"/>\n       <use x=\"264.208984\" xlink:href=\"#DejaVuSans-69\"/>\n       <use x=\"291.992188\" xlink:href=\"#DejaVuSans-61\"/>\n      </g>\n     </g>\n    </g>\n    <g id=\"xtick_25\">\n     <g id=\"line2d_25\">\n      <g>\n       <use style=\"stroke:#000000;stroke-width:0.8;\" x=\"933.247994\" xlink:href=\"#m11ffd26623\" y=\"463.599375\"/>\n      </g>\n     </g>\n     <g id=\"text_25\">\n      <!-- Denmark -->\n      <g transform=\"translate(936.007369 516.560313)rotate(-90)scale(0.1 -0.1)\">\n       <defs>\n        <path d=\"M 1259 4147 \nL 1259 519 \nL 2022 519 \nQ 2988 519 3436 956 \nQ 3884 1394 3884 2338 \nQ 3884 3275 3436 3711 \nQ 2988 4147 2022 4147 \nL 1259 4147 \nz\nM 628 4666 \nL 1925 4666 \nQ 3281 4666 3915 4102 \nQ 4550 3538 4550 2338 \nQ 4550 1131 3912 565 \nQ 3275 0 1925 0 \nL 628 0 \nL 628 4666 \nz\n\" id=\"DejaVuSans-44\" transform=\"scale(0.015625)\"/>\n       </defs>\n       <use xlink:href=\"#DejaVuSans-44\"/>\n       <use x=\"77.001953\" xlink:href=\"#DejaVuSans-65\"/>\n       <use x=\"138.525391\" xlink:href=\"#DejaVuSans-6e\"/>\n       <use x=\"201.904297\" xlink:href=\"#DejaVuSans-6d\"/>\n       <use x=\"299.316406\" xlink:href=\"#DejaVuSans-61\"/>\n       <use x=\"360.595703\" xlink:href=\"#DejaVuSans-72\"/>\n       <use x=\"401.708984\" xlink:href=\"#DejaVuSans-6b\"/>\n      </g>\n     </g>\n    </g>\n    <g id=\"xtick_26\">\n     <g id=\"line2d_26\">\n      <g>\n       <use style=\"stroke:#000000;stroke-width:0.8;\" x=\"967.318551\" xlink:href=\"#m11ffd26623\" y=\"463.599375\"/>\n      </g>\n     </g>\n     <g id=\"text_26\">\n      <!-- Canada -->\n      <g transform=\"translate(970.077926 508.6525)rotate(-90)scale(0.1 -0.1)\">\n       <use xlink:href=\"#DejaVuSans-43\"/>\n       <use x=\"69.824219\" xlink:href=\"#DejaVuSans-61\"/>\n       <use x=\"131.103516\" xlink:href=\"#DejaVuSans-6e\"/>\n       <use x=\"194.482422\" xlink:href=\"#DejaVuSans-61\"/>\n       <use x=\"255.761719\" xlink:href=\"#DejaVuSans-64\"/>\n       <use x=\"319.238281\" xlink:href=\"#DejaVuSans-61\"/>\n      </g>\n     </g>\n    </g>\n    <g id=\"xtick_27\">\n     <g id=\"line2d_27\">\n      <g>\n       <use style=\"stroke:#000000;stroke-width:0.8;\" x=\"1001.389107\" xlink:href=\"#m11ffd26623\" y=\"463.599375\"/>\n      </g>\n     </g>\n     <g id=\"text_27\">\n      <!-- Laos -->\n      <g transform=\"translate(1004.148482 493.6275)rotate(-90)scale(0.1 -0.1)\">\n       <defs>\n        <path d=\"M 628 4666 \nL 1259 4666 \nL 1259 531 \nL 3531 531 \nL 3531 0 \nL 628 0 \nL 628 4666 \nz\n\" id=\"DejaVuSans-4c\" transform=\"scale(0.015625)\"/>\n       </defs>\n       <use xlink:href=\"#DejaVuSans-4c\"/>\n       <use x=\"55.712891\" xlink:href=\"#DejaVuSans-61\"/>\n       <use x=\"116.992188\" xlink:href=\"#DejaVuSans-6f\"/>\n       <use x=\"178.173828\" xlink:href=\"#DejaVuSans-73\"/>\n      </g>\n     </g>\n    </g>\n    <g id=\"text_28\">\n     <!-- Các quốc gia -->\n     <g transform=\"translate(500.400781 579.117813)scale(0.18 -0.18)\">\n      <defs>\n       <path d=\"M 2194 1759 \nQ 1497 1759 1228 1600 \nQ 959 1441 959 1056 \nQ 959 750 1161 570 \nQ 1363 391 1709 391 \nQ 2188 391 2477 730 \nQ 2766 1069 2766 1631 \nL 2766 1759 \nL 2194 1759 \nz\nM 3341 1997 \nL 3341 0 \nL 2766 0 \nL 2766 531 \nQ 2569 213 2275 61 \nQ 1981 -91 1556 -91 \nQ 1019 -91 701 211 \nQ 384 513 384 1019 \nQ 384 1609 779 1909 \nQ 1175 2209 1959 2209 \nL 2766 2209 \nL 2766 2266 \nQ 2766 2663 2505 2880 \nQ 2244 3097 1772 3097 \nQ 1472 3097 1187 3025 \nQ 903 2953 641 2809 \nL 641 3341 \nQ 956 3463 1253 3523 \nQ 1550 3584 1831 3584 \nQ 2591 3584 2966 3190 \nQ 3341 2797 3341 1997 \nz\nM 2291 5119 \nL 2913 5119 \nL 1894 3944 \nL 1416 3944 \nL 2291 5119 \nz\n\" id=\"DejaVuSans-e1\" transform=\"scale(0.015625)\"/>\n       <path d=\"M 947 1747 \nQ 947 1113 1208 752 \nQ 1469 391 1925 391 \nQ 2381 391 2643 752 \nQ 2906 1113 2906 1747 \nQ 2906 2381 2643 2742 \nQ 2381 3103 1925 3103 \nQ 1469 3103 1208 2742 \nQ 947 2381 947 1747 \nz\nM 2906 525 \nQ 2725 213 2448 61 \nQ 2172 -91 1784 -91 \nQ 1150 -91 751 415 \nQ 353 922 353 1747 \nQ 353 2572 751 3078 \nQ 1150 3584 1784 3584 \nQ 2172 3584 2448 3432 \nQ 2725 3281 2906 2969 \nL 2906 3500 \nL 3481 3500 \nL 3481 -1331 \nL 2906 -1331 \nL 2906 525 \nz\n\" id=\"DejaVuSans-71\" transform=\"scale(0.015625)\"/>\n       <path d=\"M 1663 4775 \nL 2250 4775 \nL 2909 3944 \nL 2475 3944 \nL 1956 4500 \nL 1438 3944 \nL 1003 3944 \nL 1663 4775 \nz\nM 3266 5416 \nL 3844 5416 \nL 3131 4591 \nL 2653 4591 \nL 3266 5416 \nz\nM 1959 3097 \nQ 1497 3097 1228 2736 \nQ 959 2375 959 1747 \nQ 959 1119 1226 758 \nQ 1494 397 1959 397 \nQ 2419 397 2687 759 \nQ 2956 1122 2956 1747 \nQ 2956 2369 2687 2733 \nQ 2419 3097 1959 3097 \nz\nM 1959 3584 \nQ 2709 3584 3137 3096 \nQ 3566 2609 3566 1747 \nQ 3566 888 3137 398 \nQ 2709 -91 1959 -91 \nQ 1206 -91 779 398 \nQ 353 888 353 1747 \nQ 353 2609 779 3096 \nQ 1206 3584 1959 3584 \nz\n\" id=\"DejaVuSans-1ed1\" transform=\"scale(0.015625)\"/>\n      </defs>\n      <use xlink:href=\"#DejaVuSans-43\"/>\n      <use x=\"69.824219\" xlink:href=\"#DejaVuSans-e1\"/>\n      <use x=\"131.103516\" xlink:href=\"#DejaVuSans-63\"/>\n      <use x=\"186.083984\" xlink:href=\"#DejaVuSans-20\"/>\n      <use x=\"217.871094\" xlink:href=\"#DejaVuSans-71\"/>\n      <use x=\"281.347656\" xlink:href=\"#DejaVuSans-75\"/>\n      <use x=\"344.726562\" xlink:href=\"#DejaVuSans-1ed1\"/>\n      <use x=\"405.908203\" xlink:href=\"#DejaVuSans-63\"/>\n      <use x=\"460.888672\" xlink:href=\"#DejaVuSans-20\"/>\n      <use x=\"492.675781\" xlink:href=\"#DejaVuSans-67\"/>\n      <use x=\"556.152344\" xlink:href=\"#DejaVuSans-69\"/>\n      <use x=\"583.935547\" xlink:href=\"#DejaVuSans-61\"/>\n     </g>\n    </g>\n   </g>\n   <g id=\"matplotlib.axis_2\">\n    <g id=\"ytick_1\">\n     <g id=\"line2d_28\">\n      <defs>\n       <path d=\"M 0 0 \nL -3.5 0 \n\" id=\"m80f798aca2\" style=\"stroke:#000000;stroke-width:0.8;\"/>\n      </defs>\n      <g>\n       <use style=\"stroke:#000000;stroke-width:0.8;\" x=\"56.271875\" xlink:href=\"#m80f798aca2\" y=\"463.599375\"/>\n      </g>\n     </g>\n     <g id=\"text_29\">\n      <!-- 0 -->\n      <g transform=\"translate(42.909375 467.398594)scale(0.1 -0.1)\">\n       <defs>\n        <path d=\"M 2034 4250 \nQ 1547 4250 1301 3770 \nQ 1056 3291 1056 2328 \nQ 1056 1369 1301 889 \nQ 1547 409 2034 409 \nQ 2525 409 2770 889 \nQ 3016 1369 3016 2328 \nQ 3016 3291 2770 3770 \nQ 2525 4250 2034 4250 \nz\nM 2034 4750 \nQ 2819 4750 3233 4129 \nQ 3647 3509 3647 2328 \nQ 3647 1150 3233 529 \nQ 2819 -91 2034 -91 \nQ 1250 -91 836 529 \nQ 422 1150 422 2328 \nQ 422 3509 836 4129 \nQ 1250 4750 2034 4750 \nz\n\" id=\"DejaVuSans-30\" transform=\"scale(0.015625)\"/>\n       </defs>\n       <use xlink:href=\"#DejaVuSans-30\"/>\n      </g>\n     </g>\n    </g>\n    <g id=\"ytick_2\">\n     <g id=\"line2d_29\">\n      <g>\n       <use style=\"stroke:#000000;stroke-width:0.8;\" x=\"56.271875\" xlink:href=\"#m80f798aca2\" y=\"376.221436\"/>\n      </g>\n     </g>\n     <g id=\"text_30\">\n      <!-- 100 -->\n      <g transform=\"translate(30.184375 380.020655)scale(0.1 -0.1)\">\n       <defs>\n        <path d=\"M 794 531 \nL 1825 531 \nL 1825 4091 \nL 703 3866 \nL 703 4441 \nL 1819 4666 \nL 2450 4666 \nL 2450 531 \nL 3481 531 \nL 3481 0 \nL 794 0 \nL 794 531 \nz\n\" id=\"DejaVuSans-31\" transform=\"scale(0.015625)\"/>\n       </defs>\n       <use xlink:href=\"#DejaVuSans-31\"/>\n       <use x=\"63.623047\" xlink:href=\"#DejaVuSans-30\"/>\n       <use x=\"127.246094\" xlink:href=\"#DejaVuSans-30\"/>\n      </g>\n     </g>\n    </g>\n    <g id=\"ytick_3\">\n     <g id=\"line2d_30\">\n      <g>\n       <use style=\"stroke:#000000;stroke-width:0.8;\" x=\"56.271875\" xlink:href=\"#m80f798aca2\" y=\"288.843498\"/>\n      </g>\n     </g>\n     <g id=\"text_31\">\n      <!-- 200 -->\n      <g transform=\"translate(30.184375 292.642717)scale(0.1 -0.1)\">\n       <defs>\n        <path d=\"M 1228 531 \nL 3431 531 \nL 3431 0 \nL 469 0 \nL 469 531 \nQ 828 903 1448 1529 \nQ 2069 2156 2228 2338 \nQ 2531 2678 2651 2914 \nQ 2772 3150 2772 3378 \nQ 2772 3750 2511 3984 \nQ 2250 4219 1831 4219 \nQ 1534 4219 1204 4116 \nQ 875 4013 500 3803 \nL 500 4441 \nQ 881 4594 1212 4672 \nQ 1544 4750 1819 4750 \nQ 2544 4750 2975 4387 \nQ 3406 4025 3406 3419 \nQ 3406 3131 3298 2873 \nQ 3191 2616 2906 2266 \nQ 2828 2175 2409 1742 \nQ 1991 1309 1228 531 \nz\n\" id=\"DejaVuSans-32\" transform=\"scale(0.015625)\"/>\n       </defs>\n       <use xlink:href=\"#DejaVuSans-32\"/>\n       <use x=\"63.623047\" xlink:href=\"#DejaVuSans-30\"/>\n       <use x=\"127.246094\" xlink:href=\"#DejaVuSans-30\"/>\n      </g>\n     </g>\n    </g>\n    <g id=\"ytick_4\">\n     <g id=\"line2d_31\">\n      <g>\n       <use style=\"stroke:#000000;stroke-width:0.8;\" x=\"56.271875\" xlink:href=\"#m80f798aca2\" y=\"201.465559\"/>\n      </g>\n     </g>\n     <g id=\"text_32\">\n      <!-- 300 -->\n      <g transform=\"translate(30.184375 205.264778)scale(0.1 -0.1)\">\n       <defs>\n        <path d=\"M 2597 2516 \nQ 3050 2419 3304 2112 \nQ 3559 1806 3559 1356 \nQ 3559 666 3084 287 \nQ 2609 -91 1734 -91 \nQ 1441 -91 1130 -33 \nQ 819 25 488 141 \nL 488 750 \nQ 750 597 1062 519 \nQ 1375 441 1716 441 \nQ 2309 441 2620 675 \nQ 2931 909 2931 1356 \nQ 2931 1769 2642 2001 \nQ 2353 2234 1838 2234 \nL 1294 2234 \nL 1294 2753 \nL 1863 2753 \nQ 2328 2753 2575 2939 \nQ 2822 3125 2822 3475 \nQ 2822 3834 2567 4026 \nQ 2313 4219 1838 4219 \nQ 1578 4219 1281 4162 \nQ 984 4106 628 3988 \nL 628 4550 \nQ 988 4650 1302 4700 \nQ 1616 4750 1894 4750 \nQ 2613 4750 3031 4423 \nQ 3450 4097 3450 3541 \nQ 3450 3153 3228 2886 \nQ 3006 2619 2597 2516 \nz\n\" id=\"DejaVuSans-33\" transform=\"scale(0.015625)\"/>\n       </defs>\n       <use xlink:href=\"#DejaVuSans-33\"/>\n       <use x=\"63.623047\" xlink:href=\"#DejaVuSans-30\"/>\n       <use x=\"127.246094\" xlink:href=\"#DejaVuSans-30\"/>\n      </g>\n     </g>\n    </g>\n    <g id=\"ytick_5\">\n     <g id=\"line2d_32\">\n      <g>\n       <use style=\"stroke:#000000;stroke-width:0.8;\" x=\"56.271875\" xlink:href=\"#m80f798aca2\" y=\"114.087621\"/>\n      </g>\n     </g>\n     <g id=\"text_33\">\n      <!-- 400 -->\n      <g transform=\"translate(30.184375 117.88684)scale(0.1 -0.1)\">\n       <defs>\n        <path d=\"M 2419 4116 \nL 825 1625 \nL 2419 1625 \nL 2419 4116 \nz\nM 2253 4666 \nL 3047 4666 \nL 3047 1625 \nL 3713 1625 \nL 3713 1100 \nL 3047 1100 \nL 3047 0 \nL 2419 0 \nL 2419 1100 \nL 313 1100 \nL 313 1709 \nL 2253 4666 \nz\n\" id=\"DejaVuSans-34\" transform=\"scale(0.015625)\"/>\n       </defs>\n       <use xlink:href=\"#DejaVuSans-34\"/>\n       <use x=\"63.623047\" xlink:href=\"#DejaVuSans-30\"/>\n       <use x=\"127.246094\" xlink:href=\"#DejaVuSans-30\"/>\n      </g>\n     </g>\n    </g>\n    <g id=\"text_34\">\n     <!-- Số lần tham gia -->\n     <g transform=\"translate(22.440938 316.923281)rotate(-90)scale(0.18 -0.18)\">\n      <defs>\n       <path d=\"M 2194 1759 \nQ 1497 1759 1228 1600 \nQ 959 1441 959 1056 \nQ 959 750 1161 570 \nQ 1363 391 1709 391 \nQ 2188 391 2477 730 \nQ 2766 1069 2766 1631 \nL 2766 1759 \nL 2194 1759 \nz\nM 3341 1997 \nL 3341 0 \nL 2766 0 \nL 2766 531 \nQ 2569 213 2275 61 \nQ 1981 -91 1556 -91 \nQ 1019 -91 701 211 \nQ 384 513 384 1019 \nQ 384 1609 779 1909 \nQ 1175 2209 1959 2209 \nL 2766 2209 \nL 2766 2266 \nQ 2766 2663 2505 2880 \nQ 2244 3097 1772 3097 \nQ 1472 3097 1187 3025 \nQ 903 2953 641 2809 \nL 641 3341 \nQ 956 3463 1253 3523 \nQ 1550 3584 1831 3584 \nQ 2591 3584 2966 3190 \nQ 3341 2797 3341 1997 \nz\nM 2591 5419 \nL 3203 4594 \nL 2725 4594 \nL 2006 5419 \nL 2591 5419 \nz\nM 1556 4778 \nL 2144 4778 \nL 2803 3947 \nL 2369 3947 \nL 1850 4503 \nL 1331 3947 \nL 897 3947 \nL 1556 4778 \nz\n\" id=\"DejaVuSans-1ea7\" transform=\"scale(0.015625)\"/>\n      </defs>\n      <use xlink:href=\"#DejaVuSans-53\"/>\n      <use x=\"63.476562\" xlink:href=\"#DejaVuSans-1ed1\"/>\n      <use x=\"124.658203\" xlink:href=\"#DejaVuSans-20\"/>\n      <use x=\"156.445312\" xlink:href=\"#DejaVuSans-6c\"/>\n      <use x=\"184.228516\" xlink:href=\"#DejaVuSans-1ea7\"/>\n      <use x=\"245.507812\" xlink:href=\"#DejaVuSans-6e\"/>\n      <use x=\"308.886719\" xlink:href=\"#DejaVuSans-20\"/>\n      <use x=\"340.673828\" xlink:href=\"#DejaVuSans-74\"/>\n      <use x=\"379.882812\" xlink:href=\"#DejaVuSans-68\"/>\n      <use x=\"443.261719\" xlink:href=\"#DejaVuSans-61\"/>\n      <use x=\"504.541016\" xlink:href=\"#DejaVuSans-6d\"/>\n      <use x=\"601.953125\" xlink:href=\"#DejaVuSans-20\"/>\n      <use x=\"633.740234\" xlink:href=\"#DejaVuSans-67\"/>\n      <use x=\"697.216797\" xlink:href=\"#DejaVuSans-69\"/>\n      <use x=\"725\" xlink:href=\"#DejaVuSans-61\"/>\n     </g>\n    </g>\n   </g>\n   <g id=\"patch_30\">\n    <path d=\"M 56.271875 463.599375 \nL 56.271875 28.719375 \n\" style=\"fill:none;stroke:#000000;stroke-linecap:square;stroke-linejoin:miter;stroke-width:0.8;\"/>\n   </g>\n   <g id=\"patch_31\">\n    <path d=\"M 1060.671875 463.599375 \nL 1060.671875 28.719375 \n\" style=\"fill:none;stroke:#000000;stroke-linecap:square;stroke-linejoin:miter;stroke-width:0.8;\"/>\n   </g>\n   <g id=\"patch_32\">\n    <path d=\"M 56.271875 463.599375 \nL 1060.671875 463.599375 \n\" style=\"fill:none;stroke:#000000;stroke-linecap:square;stroke-linejoin:miter;stroke-width:0.8;\"/>\n   </g>\n   <g id=\"patch_33\">\n    <path d=\"M 56.271875 28.719375 \nL 1060.671875 28.719375 \n\" style=\"fill:none;stroke:#000000;stroke-linecap:square;stroke-linejoin:miter;stroke-width:0.8;\"/>\n   </g>\n   <g id=\"text_35\">\n    <!-- Biểu đồ cột thể hiện số lần các quốc gia tham gia vào tài trợ và phát triển các dự án -->\n    <g transform=\"translate(178.806875 22.719375)scale(0.18 -0.18)\">\n     <defs>\n      <path d=\"M 1259 2228 \nL 1259 519 \nL 2272 519 \nQ 2781 519 3026 730 \nQ 3272 941 3272 1375 \nQ 3272 1813 3026 2020 \nQ 2781 2228 2272 2228 \nL 1259 2228 \nz\nM 1259 4147 \nL 1259 2741 \nL 2194 2741 \nQ 2656 2741 2882 2914 \nQ 3109 3088 3109 3444 \nQ 3109 3797 2882 3972 \nQ 2656 4147 2194 4147 \nL 1259 4147 \nz\nM 628 4666 \nL 2241 4666 \nQ 2963 4666 3353 4366 \nQ 3744 4066 3744 3513 \nQ 3744 3084 3544 2831 \nQ 3344 2578 2956 2516 \nQ 3422 2416 3680 2098 \nQ 3938 1781 3938 1306 \nQ 3938 681 3513 340 \nQ 3088 0 2303 0 \nL 628 0 \nL 628 4666 \nz\n\" id=\"DejaVuSans-42\" transform=\"scale(0.015625)\"/>\n      <path d=\"M 3597 1894 \nL 3597 1613 \nL 953 1613 \nQ 991 1019 1311 708 \nQ 1631 397 2203 397 \nQ 2534 397 2845 478 \nQ 3156 559 3463 722 \nL 3463 178 \nQ 3153 47 2828 -22 \nQ 2503 -91 2169 -91 \nQ 1331 -91 842 396 \nQ 353 884 353 1716 \nQ 353 2575 817 3079 \nQ 1281 3584 2069 3584 \nQ 2775 3584 3186 3129 \nQ 3597 2675 3597 1894 \nz\nM 3022 2063 \nQ 3016 2534 2758 2815 \nQ 2500 3097 2075 3097 \nQ 1594 3097 1305 2825 \nQ 1016 2553 972 2059 \nL 3022 2063 \nz\nM 2472 5359 \nQ 2822 5518 3150 5518 \nQ 3475 5518 3673 5385 \nQ 3872 5253 3872 5043 \nQ 3872 4853 3597 4650 \nL 3459 4550 \nQ 3350 4468 3338 4440 \nQ 3316 4390 3316 4290 \nL 2944 4290 \nL 2944 4328 \nQ 2944 4453 2991 4537 \nQ 3038 4622 3197 4737 \nL 3338 4843 \nQ 3481 4950 3481 5075 \nQ 3481 5140 3384 5196 \nQ 3288 5253 3066 5253 \nQ 2784 5253 2472 5090 \nL 2472 5359 \nz\nM 1744 4775 \nL 2331 4775 \nL 2991 3944 \nL 2556 3944 \nL 2038 4500 \nL 1519 3944 \nL 1084 3944 \nL 1744 4775 \nz\n\" id=\"DejaVuSans-1ec3\" transform=\"scale(0.015625)\"/>\n      <path d=\"M 2906 2969 \nL 2906 4013 \nL 1888 4013 \nL 1888 4403 \nL 2906 4403 \nL 2906 4863 \nL 3481 4863 \nL 3481 4403 \nL 3963 4403 \nL 3963 4013 \nL 3481 4013 \nL 3481 0 \nL 2906 0 \nL 2906 525 \nQ 2725 213 2448 61 \nQ 2172 -91 1784 -91 \nQ 1150 -91 751 415 \nQ 353 922 353 1747 \nQ 353 2572 751 3078 \nQ 1150 3584 1784 3584 \nQ 2172 3584 2448 3432 \nQ 2725 3281 2906 2969 \nz\nM 947 1747 \nQ 947 1113 1208 752 \nQ 1469 391 1925 391 \nQ 2381 391 2643 752 \nQ 2906 1113 2906 1747 \nQ 2906 2381 2643 2742 \nQ 2381 3103 1925 3103 \nQ 1469 3103 1208 2742 \nQ 947 2381 947 1747 \nz\n\" id=\"DejaVuSans-111\" transform=\"scale(0.015625)\"/>\n      <path d=\"M 2694 5419 \nL 3306 4594 \nL 2828 4594 \nL 2109 5419 \nL 2694 5419 \nz\nM 1659 4778 \nL 2247 4778 \nL 2906 3947 \nL 2472 3947 \nL 1953 4503 \nL 1434 3947 \nL 1000 3947 \nL 1659 4778 \nz\nM 1959 3097 \nQ 1497 3097 1228 2736 \nQ 959 2375 959 1747 \nQ 959 1119 1226 758 \nQ 1494 397 1959 397 \nQ 2419 397 2687 759 \nQ 2956 1122 2956 1747 \nQ 2956 2369 2687 2733 \nQ 2419 3097 1959 3097 \nz\nM 1959 3584 \nQ 2709 3584 3137 3096 \nQ 3566 2609 3566 1747 \nQ 3566 888 3137 398 \nQ 2709 -91 1959 -91 \nQ 1206 -91 779 398 \nQ 353 888 353 1747 \nQ 353 2609 779 3096 \nQ 1206 3584 1959 3584 \nz\n\" id=\"DejaVuSans-1ed3\" transform=\"scale(0.015625)\"/>\n      <path d=\"M 1666 -441 \nL 2241 -441 \nL 2241 -1172 \nL 1666 -1172 \nL 1666 -441 \nz\nM 1959 3097 \nQ 1497 3097 1228 2736 \nQ 959 2375 959 1747 \nQ 959 1119 1226 758 \nQ 1494 397 1959 397 \nQ 2419 397 2687 759 \nQ 2956 1122 2956 1747 \nQ 2956 2369 2687 2733 \nQ 2419 3097 1959 3097 \nz\nM 1959 3584 \nQ 2709 3584 3137 3096 \nQ 3566 2609 3566 1747 \nQ 3566 888 3137 398 \nQ 2709 -91 1959 -91 \nQ 1206 -91 779 398 \nQ 353 888 353 1747 \nQ 353 2609 779 3096 \nQ 1206 3584 1959 3584 \nz\nM 1666 -441 \nL 2241 -441 \nL 2241 -1172 \nL 1666 -1172 \nL 1666 -441 \nz\nM 1728 5119 \nL 2191 5119 \nL 2956 3944 \nL 2522 3944 \nL 1959 4709 \nL 1397 3944 \nL 963 3944 \nL 1728 5119 \nz\n\" id=\"DejaVuSans-1ed9\" transform=\"scale(0.015625)\"/>\n      <path d=\"M 1741 -441 \nL 2316 -441 \nL 2316 -1172 \nL 1741 -1172 \nL 1741 -441 \nz\nM 3597 1894 \nL 3597 1613 \nL 953 1613 \nQ 991 1019 1311 708 \nQ 1631 397 2203 397 \nQ 2534 397 2845 478 \nQ 3156 559 3463 722 \nL 3463 178 \nQ 3153 47 2828 -22 \nQ 2503 -91 2169 -91 \nQ 1331 -91 842 396 \nQ 353 884 353 1716 \nQ 353 2575 817 3079 \nQ 1281 3584 2069 3584 \nQ 2775 3584 3186 3129 \nQ 3597 2675 3597 1894 \nz\nM 3022 2063 \nQ 3016 2534 2758 2815 \nQ 2500 3097 2075 3097 \nQ 1594 3097 1305 2825 \nQ 1016 2553 972 2059 \nL 3022 2063 \nz\nM 1741 -441 \nL 2316 -441 \nL 2316 -1172 \nL 1741 -1172 \nL 1741 -441 \nz\nM 1803 5119 \nL 2266 5119 \nL 3031 3944 \nL 2597 3944 \nL 2034 4709 \nL 1472 3944 \nL 1038 3944 \nL 1803 5119 \nz\n\" id=\"DejaVuSans-1ec7\" transform=\"scale(0.015625)\"/>\n      <path d=\"M 191 3500 \nL 800 3500 \nL 1894 563 \nL 2988 3500 \nL 3597 3500 \nL 2284 0 \nL 1503 0 \nL 191 3500 \nz\n\" id=\"DejaVuSans-76\" transform=\"scale(0.015625)\"/>\n      <path d=\"M 2194 1759 \nQ 1497 1759 1228 1600 \nQ 959 1441 959 1056 \nQ 959 750 1161 570 \nQ 1363 391 1709 391 \nQ 2188 391 2477 730 \nQ 2766 1069 2766 1631 \nL 2766 1759 \nL 2194 1759 \nz\nM 3341 1997 \nL 3341 0 \nL 2766 0 \nL 2766 531 \nQ 2569 213 2275 61 \nQ 1981 -91 1556 -91 \nQ 1019 -91 701 211 \nQ 384 513 384 1019 \nQ 384 1609 779 1909 \nQ 1175 2209 1959 2209 \nL 2766 2209 \nL 2766 2266 \nQ 2766 2663 2505 2880 \nQ 2244 3097 1772 3097 \nQ 1472 3097 1187 3025 \nQ 903 2953 641 2809 \nL 641 3341 \nQ 956 3463 1253 3523 \nQ 1550 3584 1831 3584 \nQ 2591 3584 2966 3190 \nQ 3341 2797 3341 1997 \nz\nM 1403 5119 \nL 2284 3950 \nL 1806 3950 \nL 788 5119 \nL 1403 5119 \nz\n\" id=\"DejaVuSans-e0\" transform=\"scale(0.015625)\"/>\n      <path d=\"M 2625 3106 \nL 2625 3478 \nQ 2816 3337 2953 3270 \nQ 3091 3203 3188 3203 \nQ 3331 3203 3403 3289 \nQ 3475 3375 3475 3543 \nQ 3475 3643 3451 3740 \nQ 3428 3837 3381 3934 \nL 3797 3934 \nQ 3828 3815 3843 3709 \nQ 3859 3603 3859 3509 \nQ 3859 3128 3723 2948 \nQ 3588 2768 3297 2768 \nQ 3147 2768 2983 2851 \nQ 2819 2934 2625 3106 \nz\nM 1975 3097 \nQ 1513 3097 1244 2736 \nQ 975 2375 975 1747 \nQ 975 1119 1242 758 \nQ 1509 397 1975 397 \nQ 2434 397 2703 759 \nQ 2972 1122 2972 1747 \nQ 2972 2369 2703 2733 \nQ 2434 3097 1975 3097 \nz\nM 1975 3584 \nQ 2725 3584 3153 3096 \nQ 3581 2609 3581 1747 \nQ 3581 888 3153 398 \nQ 2725 -91 1975 -91 \nQ 1222 -91 795 398 \nQ 369 888 369 1747 \nQ 369 2609 795 3096 \nQ 1222 3584 1975 3584 \nz\nM 1666 -441 \nL 2241 -441 \nL 2241 -1172 \nL 1666 -1172 \nL 1666 -441 \nz\n\" id=\"DejaVuSans-1ee3\" transform=\"scale(0.015625)\"/>\n      <path d=\"M 3094 3106 \nL 3094 3478 \nQ 3284 3337 3421 3270 \nQ 3559 3203 3656 3203 \nQ 3800 3203 3872 3289 \nQ 3944 3375 3944 3543 \nQ 3944 3643 3920 3740 \nQ 3897 3837 3850 3934 \nL 4266 3934 \nQ 4297 3815 4312 3709 \nQ 4328 3603 4328 3509 \nQ 4328 3128 4192 2948 \nQ 4056 2768 3766 2768 \nQ 3616 2768 3452 2851 \nQ 3288 2934 3094 3106 \nz\nM 550 1381 \nL 550 3500 \nL 1125 3500 \nL 1125 1403 \nQ 1125 906 1319 657 \nQ 1513 409 1900 409 \nQ 2366 409 2636 706 \nQ 2906 1003 2906 1516 \nL 2906 3500 \nL 3481 3500 \nL 3481 0 \nL 2906 0 \nL 2906 538 \nQ 2697 219 2420 64 \nQ 2144 -91 1778 -91 \nQ 1175 -91 862 284 \nQ 550 659 550 1381 \nz\nM 1997 3584 \nL 1997 3584 \nz\nM 1691 -441 \nL 2266 -441 \nL 2266 -1172 \nL 1691 -1172 \nL 1691 -441 \nz\n\" id=\"DejaVuSans-1ef1\" transform=\"scale(0.015625)\"/>\n     </defs>\n     <use xlink:href=\"#DejaVuSans-42\"/>\n     <use x=\"68.603516\" xlink:href=\"#DejaVuSans-69\"/>\n     <use x=\"96.386719\" xlink:href=\"#DejaVuSans-1ec3\"/>\n     <use x=\"157.910156\" xlink:href=\"#DejaVuSans-75\"/>\n     <use x=\"221.289062\" xlink:href=\"#DejaVuSans-20\"/>\n     <use x=\"253.076172\" xlink:href=\"#DejaVuSans-111\"/>\n     <use x=\"316.552734\" xlink:href=\"#DejaVuSans-1ed3\"/>\n     <use x=\"377.734375\" xlink:href=\"#DejaVuSans-20\"/>\n     <use x=\"409.521484\" xlink:href=\"#DejaVuSans-63\"/>\n     <use x=\"464.501953\" xlink:href=\"#DejaVuSans-1ed9\"/>\n     <use x=\"525.683594\" xlink:href=\"#DejaVuSans-74\"/>\n     <use x=\"564.892578\" xlink:href=\"#DejaVuSans-20\"/>\n     <use x=\"596.679688\" xlink:href=\"#DejaVuSans-74\"/>\n     <use x=\"635.888672\" xlink:href=\"#DejaVuSans-68\"/>\n     <use x=\"699.267578\" xlink:href=\"#DejaVuSans-1ec3\"/>\n     <use x=\"760.791016\" xlink:href=\"#DejaVuSans-20\"/>\n     <use x=\"792.578125\" xlink:href=\"#DejaVuSans-68\"/>\n     <use x=\"855.957031\" xlink:href=\"#DejaVuSans-69\"/>\n     <use x=\"883.740234\" xlink:href=\"#DejaVuSans-1ec7\"/>\n     <use x=\"945.263672\" xlink:href=\"#DejaVuSans-6e\"/>\n     <use x=\"1008.642578\" xlink:href=\"#DejaVuSans-20\"/>\n     <use x=\"1040.429688\" xlink:href=\"#DejaVuSans-73\"/>\n     <use x=\"1092.529297\" xlink:href=\"#DejaVuSans-1ed1\"/>\n     <use x=\"1153.710938\" xlink:href=\"#DejaVuSans-20\"/>\n     <use x=\"1185.498047\" xlink:href=\"#DejaVuSans-6c\"/>\n     <use x=\"1213.28125\" xlink:href=\"#DejaVuSans-1ea7\"/>\n     <use x=\"1274.560547\" xlink:href=\"#DejaVuSans-6e\"/>\n     <use x=\"1337.939453\" xlink:href=\"#DejaVuSans-20\"/>\n     <use x=\"1369.726562\" xlink:href=\"#DejaVuSans-63\"/>\n     <use x=\"1424.707031\" xlink:href=\"#DejaVuSans-e1\"/>\n     <use x=\"1485.986328\" xlink:href=\"#DejaVuSans-63\"/>\n     <use x=\"1540.966797\" xlink:href=\"#DejaVuSans-20\"/>\n     <use x=\"1572.753906\" xlink:href=\"#DejaVuSans-71\"/>\n     <use x=\"1636.230469\" xlink:href=\"#DejaVuSans-75\"/>\n     <use x=\"1699.609375\" xlink:href=\"#DejaVuSans-1ed1\"/>\n     <use x=\"1760.791016\" xlink:href=\"#DejaVuSans-63\"/>\n     <use x=\"1815.771484\" xlink:href=\"#DejaVuSans-20\"/>\n     <use x=\"1847.558594\" xlink:href=\"#DejaVuSans-67\"/>\n     <use x=\"1911.035156\" xlink:href=\"#DejaVuSans-69\"/>\n     <use x=\"1938.818359\" xlink:href=\"#DejaVuSans-61\"/>\n     <use x=\"2000.097656\" xlink:href=\"#DejaVuSans-20\"/>\n     <use x=\"2031.884766\" xlink:href=\"#DejaVuSans-74\"/>\n     <use x=\"2071.09375\" xlink:href=\"#DejaVuSans-68\"/>\n     <use x=\"2134.472656\" xlink:href=\"#DejaVuSans-61\"/>\n     <use x=\"2195.751953\" xlink:href=\"#DejaVuSans-6d\"/>\n     <use x=\"2293.164062\" xlink:href=\"#DejaVuSans-20\"/>\n     <use x=\"2324.951172\" xlink:href=\"#DejaVuSans-67\"/>\n     <use x=\"2388.427734\" xlink:href=\"#DejaVuSans-69\"/>\n     <use x=\"2416.210938\" xlink:href=\"#DejaVuSans-61\"/>\n     <use x=\"2477.490234\" xlink:href=\"#DejaVuSans-20\"/>\n     <use x=\"2509.277344\" xlink:href=\"#DejaVuSans-76\"/>\n     <use x=\"2568.457031\" xlink:href=\"#DejaVuSans-e0\"/>\n     <use x=\"2629.736328\" xlink:href=\"#DejaVuSans-6f\"/>\n     <use x=\"2690.917969\" xlink:href=\"#DejaVuSans-20\"/>\n     <use x=\"2722.705078\" xlink:href=\"#DejaVuSans-74\"/>\n     <use x=\"2761.914062\" xlink:href=\"#DejaVuSans-e0\"/>\n     <use x=\"2823.193359\" xlink:href=\"#DejaVuSans-69\"/>\n     <use x=\"2850.976562\" xlink:href=\"#DejaVuSans-20\"/>\n     <use x=\"2882.763672\" xlink:href=\"#DejaVuSans-74\"/>\n     <use x=\"2921.972656\" xlink:href=\"#DejaVuSans-72\"/>\n     <use x=\"2963.085938\" xlink:href=\"#DejaVuSans-1ee3\"/>\n     <use x=\"3024.267578\" xlink:href=\"#DejaVuSans-20\"/>\n     <use x=\"3056.054688\" xlink:href=\"#DejaVuSans-76\"/>\n     <use x=\"3115.234375\" xlink:href=\"#DejaVuSans-e0\"/>\n     <use x=\"3176.513672\" xlink:href=\"#DejaVuSans-20\"/>\n     <use x=\"3208.300781\" xlink:href=\"#DejaVuSans-70\"/>\n     <use x=\"3271.777344\" xlink:href=\"#DejaVuSans-68\"/>\n     <use x=\"3335.15625\" xlink:href=\"#DejaVuSans-e1\"/>\n     <use x=\"3396.435547\" xlink:href=\"#DejaVuSans-74\"/>\n     <use x=\"3435.644531\" xlink:href=\"#DejaVuSans-20\"/>\n     <use x=\"3467.431641\" xlink:href=\"#DejaVuSans-74\"/>\n     <use x=\"3506.640625\" xlink:href=\"#DejaVuSans-72\"/>\n     <use x=\"3547.753906\" xlink:href=\"#DejaVuSans-69\"/>\n     <use x=\"3575.537109\" xlink:href=\"#DejaVuSans-1ec3\"/>\n     <use x=\"3637.060547\" xlink:href=\"#DejaVuSans-6e\"/>\n     <use x=\"3700.439453\" xlink:href=\"#DejaVuSans-20\"/>\n     <use x=\"3732.226562\" xlink:href=\"#DejaVuSans-63\"/>\n     <use x=\"3787.207031\" xlink:href=\"#DejaVuSans-e1\"/>\n     <use x=\"3848.486328\" xlink:href=\"#DejaVuSans-63\"/>\n     <use x=\"3903.466797\" xlink:href=\"#DejaVuSans-20\"/>\n     <use x=\"3935.253906\" xlink:href=\"#DejaVuSans-64\"/>\n     <use x=\"3998.730469\" xlink:href=\"#DejaVuSans-1ef1\"/>\n     <use x=\"4062.109375\" xlink:href=\"#DejaVuSans-20\"/>\n     <use x=\"4093.896484\" xlink:href=\"#DejaVuSans-e1\"/>\n     <use x=\"4155.175781\" xlink:href=\"#DejaVuSans-6e\"/>\n    </g>\n   </g>\n  </g>\n </g>\n <defs>\n  <clipPath id=\"p047e85374b\">\n   <rect height=\"434.88\" width=\"1004.4\" x=\"56.271875\" y=\"28.719375\"/>\n  </clipPath>\n </defs>\n</svg>\n",
      "image/png": "[encoded data removed]"
     },
     "metadata": {
      "needs_background": "light"
     }
    }
   ],
   "source": [
    "fig, ax = plt.subplots(figsize=(18,8))\n",
    "ax.bar(sponsor_developer_countries['Country'],sponsor_developer_countries['Counts'])\n",
    "ax.xaxis.set_tick_params(rotation=90)\n",
    "ax.set_title('Biểu đồ cột thể hiện số lần các quốc gia tham gia vào tài trợ và phát triển các dự án',fontsize=18)\n",
    "ax.set_xlabel('Các quốc gia',fontsize=18)\n",
    "ax.set_ylabel('Số lần tham gia',fontsize=18)\n",
    "plt.show()\n"
   ]
  },
  {
   "source": [
    "Do có quá nhiều công ty đã tham gia phát triển hệ thống năng lượng ở Việt Nam nên ta sẽ chỉ quan tâm các công ty có sự tham gia nhiều nhất"
   ],
   "cell_type": "markdown",
   "metadata": {}
  },
  {
   "cell_type": "code",
   "execution_count": 95,
   "metadata": {},
   "outputs": [
    {
     "output_type": "execute_result",
     "data": {
      "text/plain": [
       "                                             Company  Counts\n",
       "0                                                EVN      41\n",
       "1                                            Unknown      35\n",
       "2                                      EVN (Vietnam)      20\n",
       "3                          Vietnam Electricity (EVN)       8\n",
       "4  Công ty cổ phần Thiên Tân Solar Ninh Thuận – t...       6\n",
       "5                  Cty CP năng lượng Sông Lam Sơn La       4\n",
       "6                                             Others     470"
      ],
      "text/html": "<div>\n<style scoped>\n    .dataframe tbody tr th:only-of-type {\n        vertical-align: middle;\n    }\n\n    .dataframe tbody tr th {\n        vertical-align: top;\n    }\n\n    .dataframe thead th {\n        text-align: right;\n    }\n</style>\n<table border=\"1\" class=\"dataframe\">\n  <thead>\n    <tr style=\"text-align: right;\">\n      <th></th>\n      <th>Company</th>\n      <th>Counts</th>\n    </tr>\n  </thead>\n  <tbody>\n    <tr>\n      <th>0</th>\n      <td>EVN</td>\n      <td>41</td>\n    </tr>\n    <tr>\n      <th>1</th>\n      <td>Unknown</td>\n      <td>35</td>\n    </tr>\n    <tr>\n      <th>2</th>\n      <td>EVN (Vietnam)</td>\n      <td>20</td>\n    </tr>\n    <tr>\n      <th>3</th>\n      <td>Vietnam Electricity (EVN)</td>\n      <td>8</td>\n    </tr>\n    <tr>\n      <th>4</th>\n      <td>Công ty cổ phần Thiên Tân Solar Ninh Thuận – t...</td>\n      <td>6</td>\n    </tr>\n    <tr>\n      <th>5</th>\n      <td>Cty CP năng lượng Sông Lam Sơn La</td>\n      <td>4</td>\n    </tr>\n    <tr>\n      <th>6</th>\n      <td>Others</td>\n      <td>470</td>\n    </tr>\n  </tbody>\n</table>\n</div>"
     },
     "metadata": {},
     "execution_count": 95
    }
   ],
   "source": [
    "tmp_df=sponsor_developer_companies[:6]\n",
    "tmp_df=tmp_df.append({'Company':'Others','Counts':sponsor_developer_companies[6:]['Counts'].sum()},ignore_index=True)\n",
    "tmp_df"
   ]
  },
  {
   "cell_type": "code",
   "execution_count": 91,
   "metadata": {},
   "outputs": [
    {
     "output_type": "execute_result",
     "data": {
      "text/plain": [
       "                                             Company  Counts\n",
       "0                                                EVN      41\n",
       "1                                            Unknown      35\n",
       "2                                      EVN (Vietnam)      20\n",
       "3                          Vietnam Electricity (EVN)       8\n",
       "4  Công ty cổ phần Thiên Tân Solar Ninh Thuận – t...       6\n",
       "5                  Cty CP năng lượng Sông Lam Sơn La       4\n",
       "6                                             Others     470"
      ],
      "text/html": "<div>\n<style scoped>\n    .dataframe tbody tr th:only-of-type {\n        vertical-align: middle;\n    }\n\n    .dataframe tbody tr th {\n        vertical-align: top;\n    }\n\n    .dataframe thead th {\n        text-align: right;\n    }\n</style>\n<table border=\"1\" class=\"dataframe\">\n  <thead>\n    <tr style=\"text-align: right;\">\n      <th></th>\n      <th>Company</th>\n      <th>Counts</th>\n    </tr>\n  </thead>\n  <tbody>\n    <tr>\n      <th>0</th>\n      <td>EVN</td>\n      <td>41</td>\n    </tr>\n    <tr>\n      <th>1</th>\n      <td>Unknown</td>\n      <td>35</td>\n    </tr>\n    <tr>\n      <th>2</th>\n      <td>EVN (Vietnam)</td>\n      <td>20</td>\n    </tr>\n    <tr>\n      <th>3</th>\n      <td>Vietnam Electricity (EVN)</td>\n      <td>8</td>\n    </tr>\n    <tr>\n      <th>4</th>\n      <td>Công ty cổ phần Thiên Tân Solar Ninh Thuận – t...</td>\n      <td>6</td>\n    </tr>\n    <tr>\n      <th>5</th>\n      <td>Cty CP năng lượng Sông Lam Sơn La</td>\n      <td>4</td>\n    </tr>\n    <tr>\n      <th>6</th>\n      <td>Others</td>\n      <td>470</td>\n    </tr>\n  </tbody>\n</table>\n</div>"
     },
     "metadata": {},
     "execution_count": 91
    }
   ],
   "source": [
    "\n",
    "\n",
    "\n"
   ]
  },
  {
   "cell_type": "code",
   "execution_count": 85,
   "metadata": {},
   "outputs": [
    {
     "output_type": "execute_result",
     "data": {
      "text/plain": [
       "                                               Company  Counts\n",
       "0                                                  EVN      41\n",
       "1                                              Unknown      35\n",
       "2                                        EVN (Vietnam)      20\n",
       "3                            Vietnam Electricity (EVN)       8\n",
       "4    Công ty cổ phần Thiên Tân Solar Ninh Thuận – t...       6\n",
       "..                                                 ...     ...\n",
       "382            Son Da, Hoang Lien Hydropower (Vietnam)       1\n",
       "383  Keangnam Enterprises, Hanoi Industrial Constru...       1\n",
       "384                       Geruco Song Con Hydropower G       1\n",
       "385                             Petrovietnam (Vietnam)       1\n",
       "386                            Dak Me Hydro Power JSC.       1\n",
       "\n",
       "[387 rows x 2 columns]"
      ],
      "text/html": "<div>\n<style scoped>\n    .dataframe tbody tr th:only-of-type {\n        vertical-align: middle;\n    }\n\n    .dataframe tbody tr th {\n        vertical-align: top;\n    }\n\n    .dataframe thead th {\n        text-align: right;\n    }\n</style>\n<table border=\"1\" class=\"dataframe\">\n  <thead>\n    <tr style=\"text-align: right;\">\n      <th></th>\n      <th>Company</th>\n      <th>Counts</th>\n    </tr>\n  </thead>\n  <tbody>\n    <tr>\n      <th>0</th>\n      <td>EVN</td>\n      <td>41</td>\n    </tr>\n    <tr>\n      <th>1</th>\n      <td>Unknown</td>\n      <td>35</td>\n    </tr>\n    <tr>\n      <th>2</th>\n      <td>EVN (Vietnam)</td>\n      <td>20</td>\n    </tr>\n    <tr>\n      <th>3</th>\n      <td>Vietnam Electricity (EVN)</td>\n      <td>8</td>\n    </tr>\n    <tr>\n      <th>4</th>\n      <td>Công ty cổ phần Thiên Tân Solar Ninh Thuận – t...</td>\n      <td>6</td>\n    </tr>\n    <tr>\n      <th>...</th>\n      <td>...</td>\n      <td>...</td>\n    </tr>\n    <tr>\n      <th>382</th>\n      <td>Son Da, Hoang Lien Hydropower (Vietnam)</td>\n      <td>1</td>\n    </tr>\n    <tr>\n      <th>383</th>\n      <td>Keangnam Enterprises, Hanoi Industrial Constru...</td>\n      <td>1</td>\n    </tr>\n    <tr>\n      <th>384</th>\n      <td>Geruco Song Con Hydropower G</td>\n      <td>1</td>\n    </tr>\n    <tr>\n      <th>385</th>\n      <td>Petrovietnam (Vietnam)</td>\n      <td>1</td>\n    </tr>\n    <tr>\n      <th>386</th>\n      <td>Dak Me Hydro Power JSC.</td>\n      <td>1</td>\n    </tr>\n  </tbody>\n</table>\n<p>387 rows × 2 columns</p>\n</div>"
     },
     "metadata": {},
     "execution_count": 85
    }
   ],
   "source": [
    "sponsor_developer_companies"
   ]
  },
  {
   "cell_type": "code",
   "execution_count": 96,
   "metadata": {},
   "outputs": [
    {
     "output_type": "stream",
     "name": "stdout",
     "text": [
      "\n",
      "Please wait a moment while I gather a list of all available modules...\n",
      "\n",
      "/home/dailoi/.local/lib/python3.8/site-packages/IPython/kernel/__init__.py:12: ShimWarning: The `IPython.kernel` package has been deprecated since IPython 4.0.You should import from ipykernel or jupyter_client instead.\n",
      "  warn(\"The `IPython.kernel` package has been deprecated since IPython 4.0.\"\n",
      "/home/dailoi/miniconda3/envs/p4ds-env/lib/python3.8/pkgutil.py:107: VisibleDeprecationWarning: zmq.eventloop.minitornado is deprecated in pyzmq 14.0 and will be removed.\n",
      "    Install tornado itself to use zmq with the tornado IOLoop.\n",
      "    \n",
      "  yield from walk_packages(path, info.name+'.', onerror)\n",
      "/home/dailoi/miniconda3/envs/p4ds-env/lib/python3.8/site-packages/jupyter_server/transutils.py:13: FutureWarning: The alias `_()` will be deprecated. Use `_i18n()` instead.\n",
      "  warnings.warn(warn_msg, FutureWarning)\n",
      "/home/dailoi/miniconda3/envs/p4ds-env/lib/python3.8/pkgutil.py:92: MatplotlibDeprecationWarning: \n",
      "The matplotlib.compat module was deprecated in Matplotlib 3.3 and will be removed two minor releases later.\n",
      "  __import__(info.name)\n",
      "/home/dailoi/miniconda3/envs/p4ds-env/lib/python3.8/site-packages/sqlalchemy/sql/coercions.py:307: SAWarning: implicitly coercing SELECT object to scalar subquery; please use the .scalar_subquery() method to produce a scalar subquery.\n",
      "  util.warn(\n",
      "IPython             asyncore            json5               requests\n",
      "Levenshtein         atexit              jsonschema          resource\n",
      "OpenSSL             attr                jupyter             rlcompleter\n",
      "PIL                 audioop             jupyter_client      rmagic\n",
      "PyQt5               autoreload          jupyter_console     runJediLanguageServer\n",
      "__future__          babel               jupyter_contrib_core runpy\n",
      "_abc                backcall            jupyter_contrib_nbextensions sched\n",
      "_ast                backports           jupyter_core        secrets\n",
      "_asyncio            base64              jupyter_highlight_selected_word select\n",
      "_bisect             bdb                 jupyter_nbextensions_configurator selectors\n",
      "_blake2             binascii            jupyter_packaging   send2trash\n",
      "_bootlocale         binhex              jupyter_server      setuptools\n",
      "_bz2                bisect              jupyter_server_mathjax shell_exec\n",
      "_cffi_backend       bleach              jupyterlab          shelve\n",
      "_codecs             brotli              jupyterlab_pygments shlex\n",
      "_codecs_cn          builtins            jupyterlab_server   shutil\n",
      "_codecs_hk          bz2                 jupyterlab_widgets  signal\n",
      "_codecs_iso2022     cProfile            keyword             sipconfig\n",
      "_codecs_jp          calendar            kiwisolver          sipdistutils\n",
      "_codecs_kr          certifi             latex_envs          site\n",
      "_codecs_tw          cffi                lib2to3             six\n",
      "_collections        cgi                 linecache           smmap\n",
      "_collections_abc    cgitb               locale              smtpd\n",
      "_compat_pickle      chardet             logging             smtplib\n",
      "_compression        chunk               lxml                sndhdr\n",
      "_contextvars        cmath               lzma                sniffio\n",
      "_crypt              cmd                 mailbox             socket\n",
      "_csv                code                mailcap             socketserver\n",
      "_ctypes             codecs              mako                socks\n",
      "_ctypes_test        codeop              markupsafe          sockshandler\n",
      "_curses             collections         marshal             spwd\n",
      "_curses_panel       colorama            math                sqlalchemy\n",
      "_datetime           colorsys            matplotlib          sqlite3\n",
      "_decimal            compileall          matplotlib_inline   sre_compile\n",
      "_distutils_hack     completion          mimetypes           sre_constants\n",
      "_dummy_thread       concurrent          mistune             sre_parse\n",
      "_elementtree        configparser        mmap                ssl\n",
      "_functools          contextlib          modulefinder        stat\n",
      "_hashlib            contextvars         multiprocessing     statistics\n",
      "_heapq              copy                nb_conda            storemagic\n",
      "_imp                copyreg             nb_conda_kernels    string\n",
      "_io                 crypt               nbclassic           stringprep\n",
      "_json               cryptography        nbclient            struct\n",
      "_locale             csv                 nbconvert           subprocess\n",
      "_lsprof             ctypes              nbdime              sunau\n",
      "_lzma               curses              nbformat            symbol\n",
      "_markupbase         cycler              nbgrader            symbolProvider\n",
      "_md5                cythonmagic         nest_asyncio        sympyprinting\n",
      "_multibytecodec     dataclasses         netrc               symtable\n",
      "_multiprocessing    datetime            nis                 sys\n",
      "_opcode             dateutil            nntplib             sysconfig\n",
      "_operator           dbm                 normalizeForInterpreter syslog\n",
      "_osx_support        decimal             normalizeSelection  tabnanny\n",
      "_pickle             decorator           notebook            tarfile\n",
      "_posixshmem         defusedxml          ntpath              telnetlib\n",
      "_posixsubprocess    deprecation         nturl2path          tempfile\n",
      "_py_abc             difflib             numbers             terminado\n",
      "_pydecimal          dis                 numpy               termios\n",
      "_pyio               distutils           olefile             test\n",
      "_pyrsistent_version doctest             opcode              testlauncher\n",
      "_queue              dummy_threading     openpyxl            testpath\n",
      "_random             easy_install        operator            tests\n",
      "_sha1               editor              optparse            textwrap\n",
      "_sha256             email               os                  this\n",
      "_sha3               encodings           ossaudiodev         threading\n",
      "_sha512             ensurepip           packaging           time\n",
      "_signal             entrypoints         pandas              timeit\n",
      "_sitebuiltins       enum                pandocfilters       tkinter\n",
      "_socket             errno               parser              token\n",
      "_sqlite3            et_xmlfile          parso               tokenize\n",
      "_sre                faulthandler        pathlib             tomlkit\n",
      "_ssl                fcntl               pdb                 tornado\n",
      "_stat               filecmp             pexpect             trace\n",
      "_statistics         fileinput           pickle              traceback\n",
      "_string             fnmatch             pickleshare         tracemalloc\n",
      "_strptime           formatter           pickletools         traitlets\n",
      "_struct             fractions           pip                 tty\n",
      "_symtable           ftplib              pipes               turtle\n",
      "_sysconfigdata__linux_x86_64-linux-gnu functools           pkg_resources       turtledemo\n",
      "_sysconfigdata_aarch64_conda_cos7_linux_gnu fuzzywuzzy          pkgutil             types\n",
      "_sysconfigdata_aarch64_conda_linux_gnu gc                  platform            typing\n",
      "_sysconfigdata_arm64_apple_darwin20_0_0 genericpath         plistlib            typing_extensions\n",
      "_sysconfigdata_i686_conda_cos6_linux_gnu getopt              poplib              unicodedata\n",
      "_sysconfigdata_i686_conda_linux_gnu getpass             posix               unittest\n",
      "_sysconfigdata_powerpc64le_conda_cos7_linux_gnu gettext             posixpath           urllib\n",
      "_sysconfigdata_powerpc64le_conda_linux_gnu git                 pprint              urllib3\n",
      "_sysconfigdata_x86_64_apple_darwin13_4_0 gitdb               printEnvVariables   uu\n",
      "_sysconfigdata_x86_64_conda_cos6_linux_gnu glob                printEnvVariablesToFile uuid\n",
      "_sysconfigdata_x86_64_conda_linux_gnu greenlet            profile             venv\n",
      "_testbuffer         grp                 prometheus_client   visualstudio_py_testlauncher\n",
      "_testcapi           gzip                prompt_toolkit      vscode_datascience_helpers\n",
      "_testimportmultiple hashlib             pstats              warnings\n",
      "_testinternalcapi   heapq               pty                 wave\n",
      "_testmultiphase     hmac                ptyprocess          wcwidth\n",
      "_thread             html                pvectorc            weakref\n",
      "_threading_local    http                pwd                 webbrowser\n",
      "_tkinter            idlelib             py_compile          webencodings\n",
      "_tracemalloc        idna                pyclbr              wheel\n",
      "_warnings           imaplib             pycparser           widgetsnbextension\n",
      "_weakref            imghdr              pydoc               wsgiref\n",
      "_weakrefset         imp                 pydoc_data          xdrlib\n",
      "_xxsubinterpreters  importlib           pyexpat             xlrd\n",
      "_xxtestfuzz         importlib_metadata  pygments            xml\n",
      "_yaml               inspect             pylab               xmlrpc\n",
      "abc                 install_debugpy     pyls_jsonrpc        xxlimited\n",
      "aifc                interpreterInfo     pyparsing           xxsubtype\n",
      "alembic             io                  pyrsistent          yaml\n",
      "antigravity         ipaddress           pytz                zipapp\n",
      "anyio               ipykernel           qtconsole           zipfile\n",
      "argon2              ipykernel_launcher  qtpy                zipimport\n",
      "argparse            ipython_genutils    queue               zipp\n",
      "array               ipywidgets          quopri              zlib\n",
      "ast                 itertools           random              zmq\n",
      "async_generator     jedi                re                  \n",
      "asynchat            jinja2              readline            \n",
      "asyncio             json                reprlib             \n",
      "\n",
      "Enter any module name to get more help.  Or, type \"modules spam\" to search\n",
      "for modules whose name or summary contain the string \"spam\".\n",
      "\n"
     ]
    }
   ],
   "source": [
    "help(\"modules\")"
   ]
  },
  {
   "cell_type": "code",
   "execution_count": null,
   "metadata": {},
   "outputs": [],
   "source": []
  }
 ]
}