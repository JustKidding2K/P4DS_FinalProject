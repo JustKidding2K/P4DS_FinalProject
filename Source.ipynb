{
 "metadata": {
  "orig_nbformat": 4,
  "kernelspec": {
   "name": "p4ds-env",
   "display_name": "p4ds",
   "language": "python"
  },
  "interpreter": {
   "hash": "46d4720d40e0a71b805ed3e7108db4f212334269ed9fe038b25d9fa91f0cdb66"
  }
 },
 "nbformat": 4,
 "nbformat_minor": 2,
 "cells": [
  {
   "source": [
    "# Lập trình cho Khoa học dữ liệu - Đồ án cuối kì\n",
    "\n",
    "18120198 - Nguyễn Huỳnh Đại Lợi\n",
    "\n",
    "18120212 - Huỳnh Long Nam"
   ],
   "cell_type": "markdown",
   "metadata": {}
  },
  {
   "source": [
    "---"
   ],
   "cell_type": "markdown",
   "metadata": {}
  },
  {
   "source": [
    "## Import"
   ],
   "cell_type": "markdown",
   "metadata": {}
  },
  {
   "cell_type": "code",
   "execution_count": 221,
   "metadata": {},
   "outputs": [],
   "source": [
    "%matplotlib inline\n",
    "import matplotlib.pyplot as plt\n",
    "import numpy as np\n",
    "import pandas as pd "
   ]
  },
  {
   "source": [
    "## Thu thập dữ liệu"
   ],
   "cell_type": "markdown",
   "metadata": {}
  },
  {
   "source": [
    "Dữ liệu được trích từ bộ dữ liệu [Mekong Infrastructure Tracker](https://www.stimson.org/project/mekong-infrastructure/). Bộ dữ liệu cho ta một cái nhìn về cơ sở hạ tầng cho năng lượng, giao thông, nguồn nước ở đồng bằng sông Mekong.\n",
    "\n",
    "Trong bài này, chúng em sử dụng dữ liệu về Việt Nam thôi nên sẽ sử dụng filter có sẵn của nguồn để điều chỉnh chỉ lấy dữ liệu các cơ sở của Việt Nam. Dữ liệu được tải qua công cụ tracker của nguồn [ở đây](https://www.stimson.org/2020/mekong-infrastructure-tracker-tool/).\n",
    "\n",
    "File `mekong-power-generation.xlsx` được đính kèm là file đã được tải về(lần cuối tải về là ngày 7/5/2021) và là dữ liệu sẽ được sử dụng."
   ],
   "cell_type": "markdown",
   "metadata": {}
  },
  {
   "source": [
    "---"
   ],
   "cell_type": "markdown",
   "metadata": {}
  },
  {
   "source": [
    "## Khám phá dữ liệu"
   ],
   "cell_type": "markdown",
   "metadata": {}
  },
  {
   "source": [
    "### Đọc dữ liệu từ file"
   ],
   "cell_type": "markdown",
   "metadata": {}
  },
  {
   "cell_type": "code",
   "execution_count": 222,
   "metadata": {},
   "outputs": [
    {
     "output_type": "execute_result",
     "data": {
      "text/plain": [
       "                                        Project Name Subtype Current Status  \\\n",
       "0                                             A Luoi   Hydro    Operational   \n",
       "1                                            A Vuong   Hydro    Operational   \n",
       "2                                              Amata     Oil    Operational   \n",
       "3  An Khanh - Bac Giang (Nhà máy Nhiệt điện An Kh...    Coal        Planned   \n",
       "4         An Khanh I (Nhà máy nhiệt điện An Khánh I)    Coal    Operational   \n",
       "\n",
       "   Capacity (MW)  Year of Completion  undefined  \\\n",
       "0          170.0              2012.0        NaN   \n",
       "1          210.0              2008.0        NaN   \n",
       "2           13.0                 NaN        NaN   \n",
       "3          650.0              2023.0        NaN   \n",
       "4          120.0              2015.0        NaN   \n",
       "\n",
       "  Country list of Sponsor/Developer               Sponsor/Developer Company  \\\n",
       "0                           Vietnam           Central Region Hydropower JSC   \n",
       "1                           Vietnam                 A Vuong Hydro Power JSC   \n",
       "2                               NaN                                     NaN   \n",
       "3                           Vietnam  An Khanh - Bac Giang Thermal Power JSC   \n",
       "4                           Vietnam                An Khanh Electricity JSC   \n",
       "\n",
       "  Country list of Lender/Financier  \\\n",
       "0                              NaN   \n",
       "1                              NaN   \n",
       "2                              NaN   \n",
       "3                            China   \n",
       "4                   China; Vietnam   \n",
       "\n",
       "                            Lender/Financier Company  ...  \\\n",
       "0                                                NaN  ...   \n",
       "1                                                NaN  ...   \n",
       "2                                                NaN  ...   \n",
       "3  China Development Bank (CDB); Industrial and C...  ...   \n",
       "4  China Communications Bank; Bank of China, Chin...  ...   \n",
       "\n",
       "                           Tributary  Latitude Longitude  \\\n",
       "0                             Sekong  16.19762  107.1619   \n",
       "1                         Song Giang  15.79980  107.6171   \n",
       "2                           Dong Nai  10.94710  106.9000   \n",
       "3  Song Cau-Song Thuong-Song Luc Nam  21.23212  106.3596   \n",
       "4  Song Cau-Song Thuong-Song Luc Nam  21.59691  105.7666   \n",
       "\n",
       "                                           Proximity Avg. Annual Output (MWh)  \\\n",
       "0                                                                               \n",
       "1                                                                               \n",
       "2                                                                               \n",
       "3  Actual location unknown, currently sited at lo...                  5000000   \n",
       "4                                                                      800000   \n",
       "\n",
       "   undefined.2                Data Source  \\\n",
       "0          NaN        Vietnam Electricity   \n",
       "1          NaN                  Wikipedia   \n",
       "2          NaN  World Resources Institute   \n",
       "3          NaN            Sponsor Website   \n",
       "4          NaN                    AidData   \n",
       "\n",
       "                       Announcement/More Information  \\\n",
       "0  https://en.evn.com.vn/userfile/User/huongbtt/f...   \n",
       "1  https://www.licogi166.vn/en/cong-trinh-thuy-di...   \n",
       "2  http://www.evn.com.vn/userfile/files/2017/3/An...   \n",
       "3  http://danviet.vn/doanh-nghiep/nhiet-dien-an-k...   \n",
       "4  https://vietnamnews.vn/economy/219017/an-khanh...   \n",
       "\n",
       "                                                Link Latest Update  \n",
       "0  https://wle-mekong.cgiar.org/construction-of-n...    03/31/2021  \n",
       "1                                                       03/31/2021  \n",
       "2                                                                   \n",
       "3                                                                   \n",
       "4  http://nhietdienankhanh.com.vn/gioi-thieu/gioi...    03/29/2021  \n",
       "\n",
       "[5 rows x 26 columns]"
      ],
      "text/html": "<div>\n<style scoped>\n    .dataframe tbody tr th:only-of-type {\n        vertical-align: middle;\n    }\n\n    .dataframe tbody tr th {\n        vertical-align: top;\n    }\n\n    .dataframe thead th {\n        text-align: right;\n    }\n</style>\n<table border=\"1\" class=\"dataframe\">\n  <thead>\n    <tr style=\"text-align: right;\">\n      <th></th>\n      <th>Project Name</th>\n      <th>Subtype</th>\n      <th>Current Status</th>\n      <th>Capacity (MW)</th>\n      <th>Year of Completion</th>\n      <th>undefined</th>\n      <th>Country list of Sponsor/Developer</th>\n      <th>Sponsor/Developer Company</th>\n      <th>Country list of Lender/Financier</th>\n      <th>Lender/Financier Company</th>\n      <th>...</th>\n      <th>Tributary</th>\n      <th>Latitude</th>\n      <th>Longitude</th>\n      <th>Proximity</th>\n      <th>Avg. Annual Output (MWh)</th>\n      <th>undefined.2</th>\n      <th>Data Source</th>\n      <th>Announcement/More Information</th>\n      <th>Link</th>\n      <th>Latest Update</th>\n    </tr>\n  </thead>\n  <tbody>\n    <tr>\n      <th>0</th>\n      <td>A Luoi</td>\n      <td>Hydro</td>\n      <td>Operational</td>\n      <td>170.0</td>\n      <td>2012.0</td>\n      <td>NaN</td>\n      <td>Vietnam</td>\n      <td>Central Region Hydropower JSC</td>\n      <td>NaN</td>\n      <td>NaN</td>\n      <td>...</td>\n      <td>Sekong</td>\n      <td>16.19762</td>\n      <td>107.1619</td>\n      <td></td>\n      <td></td>\n      <td>NaN</td>\n      <td>Vietnam Electricity</td>\n      <td>https://en.evn.com.vn/userfile/User/huongbtt/f...</td>\n      <td>https://wle-mekong.cgiar.org/construction-of-n...</td>\n      <td>03/31/2021</td>\n    </tr>\n    <tr>\n      <th>1</th>\n      <td>A Vuong</td>\n      <td>Hydro</td>\n      <td>Operational</td>\n      <td>210.0</td>\n      <td>2008.0</td>\n      <td>NaN</td>\n      <td>Vietnam</td>\n      <td>A Vuong Hydro Power JSC</td>\n      <td>NaN</td>\n      <td>NaN</td>\n      <td>...</td>\n      <td>Song Giang</td>\n      <td>15.79980</td>\n      <td>107.6171</td>\n      <td></td>\n      <td></td>\n      <td>NaN</td>\n      <td>Wikipedia</td>\n      <td>https://www.licogi166.vn/en/cong-trinh-thuy-di...</td>\n      <td></td>\n      <td>03/31/2021</td>\n    </tr>\n    <tr>\n      <th>2</th>\n      <td>Amata</td>\n      <td>Oil</td>\n      <td>Operational</td>\n      <td>13.0</td>\n      <td>NaN</td>\n      <td>NaN</td>\n      <td>NaN</td>\n      <td>NaN</td>\n      <td>NaN</td>\n      <td>NaN</td>\n      <td>...</td>\n      <td>Dong Nai</td>\n      <td>10.94710</td>\n      <td>106.9000</td>\n      <td></td>\n      <td></td>\n      <td>NaN</td>\n      <td>World Resources Institute</td>\n      <td>http://www.evn.com.vn/userfile/files/2017/3/An...</td>\n      <td></td>\n      <td></td>\n    </tr>\n    <tr>\n      <th>3</th>\n      <td>An Khanh - Bac Giang (Nhà máy Nhiệt điện An Kh...</td>\n      <td>Coal</td>\n      <td>Planned</td>\n      <td>650.0</td>\n      <td>2023.0</td>\n      <td>NaN</td>\n      <td>Vietnam</td>\n      <td>An Khanh - Bac Giang Thermal Power JSC</td>\n      <td>China</td>\n      <td>China Development Bank (CDB); Industrial and C...</td>\n      <td>...</td>\n      <td>Song Cau-Song Thuong-Song Luc Nam</td>\n      <td>21.23212</td>\n      <td>106.3596</td>\n      <td>Actual location unknown, currently sited at lo...</td>\n      <td>5000000</td>\n      <td>NaN</td>\n      <td>Sponsor Website</td>\n      <td>http://danviet.vn/doanh-nghiep/nhiet-dien-an-k...</td>\n      <td></td>\n      <td></td>\n    </tr>\n    <tr>\n      <th>4</th>\n      <td>An Khanh I (Nhà máy nhiệt điện An Khánh I)</td>\n      <td>Coal</td>\n      <td>Operational</td>\n      <td>120.0</td>\n      <td>2015.0</td>\n      <td>NaN</td>\n      <td>Vietnam</td>\n      <td>An Khanh Electricity JSC</td>\n      <td>China; Vietnam</td>\n      <td>China Communications Bank; Bank of China, Chin...</td>\n      <td>...</td>\n      <td>Song Cau-Song Thuong-Song Luc Nam</td>\n      <td>21.59691</td>\n      <td>105.7666</td>\n      <td></td>\n      <td>800000</td>\n      <td>NaN</td>\n      <td>AidData</td>\n      <td>https://vietnamnews.vn/economy/219017/an-khanh...</td>\n      <td>http://nhietdienankhanh.com.vn/gioi-thieu/gioi...</td>\n      <td>03/29/2021</td>\n    </tr>\n  </tbody>\n</table>\n<p>5 rows × 26 columns</p>\n</div>"
     },
     "metadata": {},
     "execution_count": 222
    }
   ],
   "source": [
    "df=pd.read_excel(\"mekong-power-generation.xlsx\")\n",
    "df.head()"
   ]
  },
  {
   "source": [
    "### Kích thước dữ liệu"
   ],
   "cell_type": "markdown",
   "metadata": {}
  },
  {
   "cell_type": "code",
   "execution_count": 223,
   "metadata": {},
   "outputs": [
    {
     "output_type": "execute_result",
     "data": {
      "text/plain": [
       "(563, 26)"
      ]
     },
     "metadata": {},
     "execution_count": 223
    }
   ],
   "source": [
    "shape = df.shape\n",
    "shape"
   ]
  },
  {
   "source": [
    "### Tìm hiểu về các thuộc tính của dữ liệu sử dụng"
   ],
   "cell_type": "markdown",
   "metadata": {}
  },
  {
   "source": [
    "Dữ liệu gồm:\n",
    "- 563 dòng tương ứng với 551 dự án năng lượng tại Việt Nam\n",
    "- 26 cột, gồm các cột sau:"
   ],
   "cell_type": "markdown",
   "metadata": {}
  },
  {
   "cell_type": "code",
   "execution_count": 224,
   "metadata": {},
   "outputs": [
    {
     "output_type": "execute_result",
     "data": {
      "text/plain": [
       "['Project Name',\n",
       " 'Subtype',\n",
       " 'Current Status',\n",
       " 'Capacity (MW)',\n",
       " 'Year of Completion',\n",
       " 'undefined',\n",
       " 'Country list of Sponsor/Developer',\n",
       " 'Sponsor/Developer Company',\n",
       " 'Country list of Lender/Financier',\n",
       " 'Lender/Financier Company',\n",
       " 'Country list of Construction/EPC',\n",
       " 'Construction Company/EPC Participant',\n",
       " 'Country',\n",
       " 'Province/State',\n",
       " 'District',\n",
       " 'undefined.1',\n",
       " 'Tributary',\n",
       " 'Latitude',\n",
       " 'Longitude',\n",
       " 'Proximity',\n",
       " 'Avg. Annual Output (MWh)',\n",
       " 'undefined.2',\n",
       " 'Data Source',\n",
       " 'Announcement/More Information',\n",
       " 'Link',\n",
       " 'Latest Update']"
      ]
     },
     "metadata": {},
     "execution_count": 224
    }
   ],
   "source": [
    "df.columns.to_list()"
   ]
  },
  {
   "source": [
    "Xét bộ dữ liệu tải về, các cột undefined/undefined.1/undefined.2 là các cột vô nghĩa(có thể là lỗi của nguồn dữ liệu), theo sự tìm hiểu của nhóm thì các cột có ý nghĩa mang nội dung sau:\n",
    "- Project Name: tên dự án\n",
    "- Subtype: loại năng lượng (than, thủy điện, mặt trời, sinh học,...)\n",
    "- Current Status: tình trạng hiện tại (lên kế hoạch, đang thi công, đã bị hủy,...)\n",
    "- Capacity (MW): công suất \n",
    "- Year of Completion: năm hoàn thành\n",
    "- Country list of Sponsor/Developer: các quốc gia tài trợ, phát triển\n",
    "- Sponsor/Developer Company: các công ty tài trợ, phát triển\n",
    "- Country list of Lender/Financier: các quốc gia cho vay \n",
    "- Lender/Financier Company: các công ty cho vay \n",
    "- Country list of Construction/EPC*: các quốc gia tham gia vào xây dựng, tổng thầu xây dựng\n",
    "- Construction Company/EPC Participant: công ty,tổng thầu xây dựng\n",
    "- Country: dự án đặt tại quốc gia nào\n",
    "- Province/State: dự án đặt tại tỉnh/bang nào\n",
    "- District: dự án đặt tại huyện nào \n",
    "- Tributary: phụ lưu của dự án\n",
    "- Latitude: vĩ độ\n",
    "- Longitude: kinh độ\n",
    "- Proximity: Phạm vi dự án\n",
    "- Avg. Annual Output (MWh): sản lượng hàng năm\n",
    "- Data Source: nguồn dữ liệu\n",
    "- Announcement/More Information: Link thông tin dự án\n",
    "- Link: Link thông tin dự án\n",
    "- Latest Update: Lần cuối cập nhật\n",
    "\n",
    "\n",
    " `*EPC (viết tắt của từ Engineering, Procurement and Construction) có nghĩa là xây dựng một hợp đồng xây dựng mà nhà thầu thực hiện toàn bộ các công việc kỹ thuật, cung ứng vật tư, thiết bị đến việc thi công xây dựng công trình, hạng mục và chạy thử nghiệm bàn giao cho chủ đầu tư`"
   ],
   "cell_type": "markdown",
   "metadata": {}
  },
  {
   "source": [
    "### Kiểm tra dữ liệu có bị lặp không"
   ],
   "cell_type": "markdown",
   "metadata": {}
  },
  {
   "cell_type": "code",
   "execution_count": 225,
   "metadata": {},
   "outputs": [
    {
     "output_type": "execute_result",
     "data": {
      "text/plain": [
       "Empty DataFrame\n",
       "Columns: [Project Name, Subtype, Current Status, Capacity (MW), Year of Completion, undefined, Country list of Sponsor/Developer, Sponsor/Developer Company, Country list of Lender/Financier, Lender/Financier Company, Country list of Construction/EPC, Construction Company/EPC Participant, Country, Province/State, District, undefined.1, Tributary, Latitude, Longitude, Proximity, Avg. Annual Output (MWh), undefined.2, Data Source, Announcement/More Information, Link, Latest Update]\n",
       "Index: []\n",
       "\n",
       "[0 rows x 26 columns]"
      ],
      "text/html": "<div>\n<style scoped>\n    .dataframe tbody tr th:only-of-type {\n        vertical-align: middle;\n    }\n\n    .dataframe tbody tr th {\n        vertical-align: top;\n    }\n\n    .dataframe thead th {\n        text-align: right;\n    }\n</style>\n<table border=\"1\" class=\"dataframe\">\n  <thead>\n    <tr style=\"text-align: right;\">\n      <th></th>\n      <th>Project Name</th>\n      <th>Subtype</th>\n      <th>Current Status</th>\n      <th>Capacity (MW)</th>\n      <th>Year of Completion</th>\n      <th>undefined</th>\n      <th>Country list of Sponsor/Developer</th>\n      <th>Sponsor/Developer Company</th>\n      <th>Country list of Lender/Financier</th>\n      <th>Lender/Financier Company</th>\n      <th>...</th>\n      <th>Tributary</th>\n      <th>Latitude</th>\n      <th>Longitude</th>\n      <th>Proximity</th>\n      <th>Avg. Annual Output (MWh)</th>\n      <th>undefined.2</th>\n      <th>Data Source</th>\n      <th>Announcement/More Information</th>\n      <th>Link</th>\n      <th>Latest Update</th>\n    </tr>\n  </thead>\n  <tbody>\n  </tbody>\n</table>\n<p>0 rows × 26 columns</p>\n</div>"
     },
     "metadata": {},
     "execution_count": 225
    }
   ],
   "source": [
    "df[df.duplicated()]"
   ]
  },
  {
   "source": [
    "Dữ liệu có vẻ không có dòng nào bị trùng với nhau"
   ],
   "cell_type": "markdown",
   "metadata": {}
  },
  {
   "source": [
    "### Kiểm tra kiểu dữ liệu mỗi thuộc tính và xử lí các thuộc tính có vấn đề về kiểu dữ liệu"
   ],
   "cell_type": "markdown",
   "metadata": {}
  },
  {
   "cell_type": "code",
   "execution_count": 226,
   "metadata": {},
   "outputs": [
    {
     "output_type": "execute_result",
     "data": {
      "text/plain": [
       "Project Name                             object\n",
       "Subtype                                  object\n",
       "Current Status                           object\n",
       "Capacity (MW)                           float64\n",
       "Year of Completion                      float64\n",
       "undefined                               float64\n",
       "Country list of Sponsor/Developer        object\n",
       "Sponsor/Developer Company                object\n",
       "Country list of Lender/Financier         object\n",
       "Lender/Financier Company                 object\n",
       "Country list of Construction/EPC         object\n",
       "Construction Company/EPC Participant     object\n",
       "Country                                  object\n",
       "Province/State                           object\n",
       "District                                 object\n",
       "undefined.1                             float64\n",
       "Tributary                                object\n",
       "Latitude                                float64\n",
       "Longitude                               float64\n",
       "Proximity                                object\n",
       "Avg. Annual Output (MWh)                 object\n",
       "undefined.2                             float64\n",
       "Data Source                              object\n",
       "Announcement/More Information            object\n",
       "Link                                     object\n",
       "Latest Update                            object\n",
       "dtype: object"
      ]
     },
     "metadata": {},
     "execution_count": 226
    }
   ],
   "source": [
    "dtypes = df.dtypes\n",
    "dtypes"
   ]
  },
  {
   "source": [
    "Thuộc tính `Avg. Annual Output (MWh)` thuộc kiểu dữ liệu object trong khi phải là kiểu dữ liệu số"
   ],
   "cell_type": "markdown",
   "metadata": {}
  },
  {
   "cell_type": "code",
   "execution_count": 227,
   "metadata": {},
   "outputs": [
    {
     "output_type": "execute_result",
     "data": {
      "text/plain": [
       "array([' ', '5000000', '800000', '694000', nan, '639000', '80000',\n",
       "       '70000', '100000', '60000', '250000', '545000', '600000', '84000',\n",
       "       '77000', '64800', '44000', '74000', '12500', '10000', '73904',\n",
       "       '378000', '120000', '94710', '25000', '32000', '56300', '76000',\n",
       "       '13000', '93200', '217642', '220500', '752510', '69000', '53000',\n",
       "       '65000', '11400', '69100', '15780', '115000', '636800', '143000',\n",
       "       '40000', '105000', '68000', '85800', '37000', '75000', '110000',\n",
       "       '338000', '688000', '45000', '66003', '161000', '720000', '72820',\n",
       "       '4000000', '1350000', '1930000', '3900000', '140000', '82000',\n",
       "       '63650', '31860', '30000', '73000', '55000', '50800', '8160000',\n",
       "       '280000', '334148', '132000', '1904000', '123329', '81135',\n",
       "       '965000', '17500', '328000', '21000', '105870', '63500', '4690000',\n",
       "       '22036', '67630', '28000', '54000', '79000', '46300', '19000',\n",
       "       '18000', '12000', '59000', '56000', '127500', '48850', '146000',\n",
       "       '61000', '130000', '36000', '209000', '42000', '1900000', '530000',\n",
       "       '520000', '25400', '2400000', '104130', '80975', '7800000',\n",
       "       '3300000', '331500', '2500000', '13450', '331200', '724000',\n",
       "       '76373', '379030', ' 425770', '199000', '121000', '62000',\n",
       "       '155000', '7000', '230000', '83000', '150000', '308000', '165000',\n",
       "       '57600', '50500', '242000', '85000', '173500', '220000', '450000',\n",
       "       '22000', '75127', '12720', '96000', '114510', '9470', '1094200',\n",
       "       '85640', '31000', '1018610', '1000000', '184000', '76920',\n",
       "       '103000', '61570', '145000', '63000', '9000000', '10500', '68400',\n",
       "       '12000000', '76200', '3680000', '99000'], dtype=object)"
      ]
     },
     "metadata": {},
     "execution_count": 227
    }
   ],
   "source": [
    "df['Avg. Annual Output (MWh)'].unique()"
   ]
  },
  {
   "source": [
    "Có vẻ trong bộ dữ liệu có pha lẫn giá trị khoảng trắng '$~~$' thay vì rỗng. Ta kiểm tra còn thuộc tính nào khác chứa chuỗi '$~~$' nữa không"
   ],
   "cell_type": "markdown",
   "metadata": {}
  },
  {
   "cell_type": "code",
   "execution_count": 228,
   "metadata": {},
   "outputs": [
    {
     "output_type": "execute_result",
     "data": {
      "text/plain": [
       "Project Name                              0\n",
       "Subtype                                   0\n",
       "Current Status                            0\n",
       "Capacity (MW)                             0\n",
       "Year of Completion                        0\n",
       "undefined                                 0\n",
       "Country list of Sponsor/Developer         0\n",
       "Sponsor/Developer Company                 0\n",
       "Country list of Lender/Financier          0\n",
       "Lender/Financier Company                  0\n",
       "Country list of Construction/EPC          0\n",
       "Construction Company/EPC Participant    387\n",
       "Country                                   0\n",
       "Province/State                            0\n",
       "District                                  0\n",
       "undefined.1                               0\n",
       "Tributary                                 0\n",
       "Latitude                                  0\n",
       "Longitude                                 0\n",
       "Proximity                               366\n",
       "Avg. Annual Output (MWh)                311\n",
       "undefined.2                               0\n",
       "Data Source                               7\n",
       "Announcement/More Information            58\n",
       "Link                                    387\n",
       "Latest Update                           406\n",
       "dtype: int64"
      ]
     },
     "metadata": {},
     "execution_count": 228
    }
   ],
   "source": [
    "space_count=df.isin([' ']).sum(axis=0)\n",
    "space_count"
   ]
  },
  {
   "source": [
    "---"
   ],
   "cell_type": "markdown",
   "metadata": {}
  },
  {
   "source": [
    "## Tiền xử lý"
   ],
   "cell_type": "markdown",
   "metadata": {}
  },
  {
   "source": [
    "Ta thực hiện tiền xử lý để thay các giá trị chuỗi khoảng trắng ' ' thành giá trị `nan` và chuyển cột `Avg. Annual Output (MWh)` thành dạng `float`"
   ],
   "cell_type": "markdown",
   "metadata": {}
  },
  {
   "cell_type": "code",
   "execution_count": 229,
   "metadata": {},
   "outputs": [],
   "source": [
    "columns_that_contains_spaces=space_count[space_count>0].index\n",
    "df.loc[:,columns_that_contains_spaces]=df.loc[:,columns_that_contains_spaces].replace({' ':np.nan})\n",
    "df['Avg. Annual Output (MWh)']=df['Avg. Annual Output (MWh)'].astype(float)"
   ]
  },
  {
   "source": [
    "Sau khi thay các khoảng trống ấy bằng giá trị `nan` thì đã không còn vấn đề khoảng trắng cũng như về kiểu dữ liệu"
   ],
   "cell_type": "markdown",
   "metadata": {}
  },
  {
   "cell_type": "code",
   "execution_count": 230,
   "metadata": {},
   "outputs": [
    {
     "output_type": "execute_result",
     "data": {
      "text/plain": [
       "Project Name                            0\n",
       "Subtype                                 0\n",
       "Current Status                          0\n",
       "Capacity (MW)                           0\n",
       "Year of Completion                      0\n",
       "undefined                               0\n",
       "Country list of Sponsor/Developer       0\n",
       "Sponsor/Developer Company               0\n",
       "Country list of Lender/Financier        0\n",
       "Lender/Financier Company                0\n",
       "Country list of Construction/EPC        0\n",
       "Construction Company/EPC Participant    0\n",
       "Country                                 0\n",
       "Province/State                          0\n",
       "District                                0\n",
       "undefined.1                             0\n",
       "Tributary                               0\n",
       "Latitude                                0\n",
       "Longitude                               0\n",
       "Proximity                               0\n",
       "Avg. Annual Output (MWh)                0\n",
       "undefined.2                             0\n",
       "Data Source                             0\n",
       "Announcement/More Information           0\n",
       "Link                                    0\n",
       "Latest Update                           0\n",
       "dtype: int64"
      ]
     },
     "metadata": {},
     "execution_count": 230
    }
   ],
   "source": [
    "df.isin([' ']).sum(axis=0)"
   ]
  },
  {
   "cell_type": "code",
   "execution_count": 231,
   "metadata": {},
   "outputs": [
    {
     "output_type": "execute_result",
     "data": {
      "text/plain": [
       "Project Name                             object\n",
       "Subtype                                  object\n",
       "Current Status                           object\n",
       "Capacity (MW)                           float64\n",
       "Year of Completion                      float64\n",
       "undefined                               float64\n",
       "Country list of Sponsor/Developer        object\n",
       "Sponsor/Developer Company                object\n",
       "Country list of Lender/Financier         object\n",
       "Lender/Financier Company                 object\n",
       "Country list of Construction/EPC         object\n",
       "Construction Company/EPC Participant     object\n",
       "Country                                  object\n",
       "Province/State                           object\n",
       "District                                 object\n",
       "undefined.1                             float64\n",
       "Tributary                                object\n",
       "Latitude                                float64\n",
       "Longitude                               float64\n",
       "Proximity                                object\n",
       "Avg. Annual Output (MWh)                float64\n",
       "undefined.2                             float64\n",
       "Data Source                              object\n",
       "Announcement/More Information            object\n",
       "Link                                     object\n",
       "Latest Update                            object\n",
       "dtype: object"
      ]
     },
     "metadata": {},
     "execution_count": 231
    }
   ],
   "source": [
    "df.dtypes"
   ]
  },
  {
   "source": [
    "Đối với các cột không phải kiểu dữ liệu số ta sẽ fillna bằng giá trị 'Unknown'"
   ],
   "cell_type": "markdown",
   "metadata": {}
  },
  {
   "cell_type": "code",
   "execution_count": 232,
   "metadata": {},
   "outputs": [],
   "source": [
    "df.loc[:,df.columns[df.dtypes != np.number]]=df[df.columns[df.dtypes != np.number]].fillna('Unknown')"
   ]
  },
  {
   "cell_type": "code",
   "execution_count": 233,
   "metadata": {},
   "outputs": [
    {
     "output_type": "execute_result",
     "data": {
      "text/plain": [
       "                                          Project Name Subtype Current Status  \\\n",
       "0                                               A Luoi   Hydro    Operational   \n",
       "1                                              A Vuong   Hydro    Operational   \n",
       "2                                                Amata     Oil    Operational   \n",
       "3    An Khanh - Bac Giang (Nhà máy Nhiệt điện An Kh...    Coal        Planned   \n",
       "4           An Khanh I (Nhà máy nhiệt điện An Khánh I)    Coal    Operational   \n",
       "..                                                 ...     ...            ...   \n",
       "558                        Yang Bac Wind Power Project    Wind        Planned   \n",
       "559          Yen Dinh (Nhà máy Điện mặt trời Yên Định)   Solar    Operational   \n",
       "560                                             ZaHung   Hydro    Operational   \n",
       "561                                      Đa Nhim Hydro   Hydro    Operational   \n",
       "562                            Đa Nhim Hydro Expansion   Hydro    Operational   \n",
       "\n",
       "    Country list of Sponsor/Developer  \\\n",
       "0                             Vietnam   \n",
       "1                             Vietnam   \n",
       "2                             Unknown   \n",
       "3                             Vietnam   \n",
       "4                             Vietnam   \n",
       "..                                ...   \n",
       "558                           Vietnam   \n",
       "559                           Vietnam   \n",
       "560                           Vietnam   \n",
       "561                           Vietnam   \n",
       "562                           Vietnam   \n",
       "\n",
       "                             Sponsor/Developer Company  \\\n",
       "0                        Central Region Hydropower JSC   \n",
       "1                              A Vuong Hydro Power JSC   \n",
       "2                                              Unknown   \n",
       "3               An Khanh - Bac Giang Thermal Power JSC   \n",
       "4                             An Khanh Electricity JSC   \n",
       "..                                                 ...   \n",
       "558                                   Tasco Energy JSC   \n",
       "559  Công ty CP Năng lượng Sông Lam Sơn La; Công ty...   \n",
       "560                               EVN and Za Hung JSC.   \n",
       "561   EVN, Da Nhim - Ham Thuan - Da Mi Hydropower JSC.   \n",
       "562           Da Nhim-Ham Thuan- Da Mi Hydro Power JSC   \n",
       "\n",
       "    Country list of Lender/Financier  \\\n",
       "0                            Unknown   \n",
       "1                            Unknown   \n",
       "2                            Unknown   \n",
       "3                              China   \n",
       "4                     China; Vietnam   \n",
       "..                               ...   \n",
       "558                          Unknown   \n",
       "559                          Unknown   \n",
       "560                          Unknown   \n",
       "561                            Japan   \n",
       "562                            Japan   \n",
       "\n",
       "                              Lender/Financier Company  \\\n",
       "0                                              Unknown   \n",
       "1                                              Unknown   \n",
       "2                                              Unknown   \n",
       "3    China Development Bank (CDB); Industrial and C...   \n",
       "4    China Communications Bank; Bank of China, Chin...   \n",
       "..                                                 ...   \n",
       "558                                            Unknown   \n",
       "559                                            Unknown   \n",
       "560                                            Unknown   \n",
       "561                                               JICA   \n",
       "562                                               JICA   \n",
       "\n",
       "    Country list of Construction/EPC    Construction Company/EPC Participant  \\\n",
       "0                            Vietnam                               VINAINCON   \n",
       "1                     Japan; Vietnam                        Sumitomo, Licogi   \n",
       "2                            Unknown                                 Unknown   \n",
       "3                            Unknown                                 Unknown   \n",
       "4                              China  China People Electricity and Gas Group   \n",
       "..                               ...                                     ...   \n",
       "558                          Unknown                                 _x0008_   \n",
       "559                      South Korea                                 Unknown   \n",
       "560                          Unknown                                 Unknown   \n",
       "561                            Japan                             Hazama Corp   \n",
       "562                              USA                                      GE   \n",
       "\n",
       "     Country  Province/State    District                          Tributary  \\\n",
       "0    Vietnam  Thừa Thiên Huế      A Lưới                             Sekong   \n",
       "1    Vietnam       Quảng Nam  Đông Giang                         Song Giang   \n",
       "2    Vietnam        Đồng Nai    Biên Hòa                           Dong Nai   \n",
       "3    Vietnam       Bắc Giang     Lục Nam  Song Cau-Song Thuong-Song Luc Nam   \n",
       "4    Vietnam     Thái Nguyên      Đại Từ  Song Cau-Song Thuong-Song Luc Nam   \n",
       "..       ...             ...         ...                                ...   \n",
       "558  Vietnam         Gia Lai      Đăk Pơ               Song Da Rang-Song Ba   \n",
       "559  Vietnam       Thanh Hóa    Yên Định                        Ma mainstem   \n",
       "560  Vietnam       Quảng Nam  Đông Giang                         Song Giang   \n",
       "561  Vietnam        Lâm Đồng   Đơn Dương                           Dong Nai   \n",
       "562  Vietnam        Lâm Đồng   Đơn Dương                           Dong Nai   \n",
       "\n",
       "                                             Proximity  \\\n",
       "0                                              Unknown   \n",
       "1                                              Unknown   \n",
       "2                                              Unknown   \n",
       "3    Actual location unknown, currently sited at lo...   \n",
       "4                                              Unknown   \n",
       "..                                                 ...   \n",
       "558  Actual location unknown, currently sited at lo...   \n",
       "559                                            Unknown   \n",
       "560                                            Unknown   \n",
       "561                                            Unknown   \n",
       "562                                            Unknown   \n",
       "\n",
       "                   Data Source  \\\n",
       "0          Vietnam Electricity   \n",
       "1                    Wikipedia   \n",
       "2    World Resources Institute   \n",
       "3              Sponsor Website   \n",
       "4                      AidData   \n",
       "..                         ...   \n",
       "558            Sponsor Website   \n",
       "559                  Wikipedia   \n",
       "560           Wikipedia; UNFCC   \n",
       "561                  Wikipedia   \n",
       "562                       JICA   \n",
       "\n",
       "                         Announcement/More Information  \\\n",
       "0    https://en.evn.com.vn/userfile/User/huongbtt/f...   \n",
       "1    https://www.licogi166.vn/en/cong-trinh-thuy-di...   \n",
       "2    http://www.evn.com.vn/userfile/files/2017/3/An...   \n",
       "3    http://danviet.vn/doanh-nghiep/nhiet-dien-an-k...   \n",
       "4    https://vietnamnews.vn/economy/219017/an-khanh...   \n",
       "..                                                 ...   \n",
       "558                                            Unknown   \n",
       "559                                            Unknown   \n",
       "560  https://cdm.unfccc.int/Projects/DB/BVQI1299431...   \n",
       "561  https://data.mendeley.com/datasets/ht9k5p3vdb/...   \n",
       "562  https://en.evn.com.vn/d6/news/Da-Nhim-Hydropow...   \n",
       "\n",
       "                                                  Link Latest Update  \n",
       "0    https://wle-mekong.cgiar.org/construction-of-n...    03/31/2021  \n",
       "1                                              Unknown    03/31/2021  \n",
       "2                                              Unknown       Unknown  \n",
       "3                                              Unknown       Unknown  \n",
       "4    http://nhietdienankhanh.com.vn/gioi-thieu/gioi...    03/29/2021  \n",
       "..                                                 ...           ...  \n",
       "558  http://tasco.com.vn/dau-tu-nang-luong-tai-tao/...    12/21/2020  \n",
       "559  https://vi.wikipedia.org/wiki/%C4%90i%E1%BB%87...       Unknown  \n",
       "560                                            Unknown       Unknown  \n",
       "561  https://en.wikipedia.org/wiki/%C4%90a_Nhim_Hyd...    03/31/2021  \n",
       "562  https://www2.jica.go.jp/yen_loan/pdf/en/6451/2...    04/01/2021  \n",
       "\n",
       "[563 rows x 18 columns]"
      ],
      "text/html": "<div>\n<style scoped>\n    .dataframe tbody tr th:only-of-type {\n        vertical-align: middle;\n    }\n\n    .dataframe tbody tr th {\n        vertical-align: top;\n    }\n\n    .dataframe thead th {\n        text-align: right;\n    }\n</style>\n<table border=\"1\" class=\"dataframe\">\n  <thead>\n    <tr style=\"text-align: right;\">\n      <th></th>\n      <th>Project Name</th>\n      <th>Subtype</th>\n      <th>Current Status</th>\n      <th>Country list of Sponsor/Developer</th>\n      <th>Sponsor/Developer Company</th>\n      <th>Country list of Lender/Financier</th>\n      <th>Lender/Financier Company</th>\n      <th>Country list of Construction/EPC</th>\n      <th>Construction Company/EPC Participant</th>\n      <th>Country</th>\n      <th>Province/State</th>\n      <th>District</th>\n      <th>Tributary</th>\n      <th>Proximity</th>\n      <th>Data Source</th>\n      <th>Announcement/More Information</th>\n      <th>Link</th>\n      <th>Latest Update</th>\n    </tr>\n  </thead>\n  <tbody>\n    <tr>\n      <th>0</th>\n      <td>A Luoi</td>\n      <td>Hydro</td>\n      <td>Operational</td>\n      <td>Vietnam</td>\n      <td>Central Region Hydropower JSC</td>\n      <td>Unknown</td>\n      <td>Unknown</td>\n      <td>Vietnam</td>\n      <td>VINAINCON</td>\n      <td>Vietnam</td>\n      <td>Thừa Thiên Huế</td>\n      <td>A Lưới</td>\n      <td>Sekong</td>\n      <td>Unknown</td>\n      <td>Vietnam Electricity</td>\n      <td>https://en.evn.com.vn/userfile/User/huongbtt/f...</td>\n      <td>https://wle-mekong.cgiar.org/construction-of-n...</td>\n      <td>03/31/2021</td>\n    </tr>\n    <tr>\n      <th>1</th>\n      <td>A Vuong</td>\n      <td>Hydro</td>\n      <td>Operational</td>\n      <td>Vietnam</td>\n      <td>A Vuong Hydro Power JSC</td>\n      <td>Unknown</td>\n      <td>Unknown</td>\n      <td>Japan; Vietnam</td>\n      <td>Sumitomo, Licogi</td>\n      <td>Vietnam</td>\n      <td>Quảng Nam</td>\n      <td>Đông Giang</td>\n      <td>Song Giang</td>\n      <td>Unknown</td>\n      <td>Wikipedia</td>\n      <td>https://www.licogi166.vn/en/cong-trinh-thuy-di...</td>\n      <td>Unknown</td>\n      <td>03/31/2021</td>\n    </tr>\n    <tr>\n      <th>2</th>\n      <td>Amata</td>\n      <td>Oil</td>\n      <td>Operational</td>\n      <td>Unknown</td>\n      <td>Unknown</td>\n      <td>Unknown</td>\n      <td>Unknown</td>\n      <td>Unknown</td>\n      <td>Unknown</td>\n      <td>Vietnam</td>\n      <td>Đồng Nai</td>\n      <td>Biên Hòa</td>\n      <td>Dong Nai</td>\n      <td>Unknown</td>\n      <td>World Resources Institute</td>\n      <td>http://www.evn.com.vn/userfile/files/2017/3/An...</td>\n      <td>Unknown</td>\n      <td>Unknown</td>\n    </tr>\n    <tr>\n      <th>3</th>\n      <td>An Khanh - Bac Giang (Nhà máy Nhiệt điện An Kh...</td>\n      <td>Coal</td>\n      <td>Planned</td>\n      <td>Vietnam</td>\n      <td>An Khanh - Bac Giang Thermal Power JSC</td>\n      <td>China</td>\n      <td>China Development Bank (CDB); Industrial and C...</td>\n      <td>Unknown</td>\n      <td>Unknown</td>\n      <td>Vietnam</td>\n      <td>Bắc Giang</td>\n      <td>Lục Nam</td>\n      <td>Song Cau-Song Thuong-Song Luc Nam</td>\n      <td>Actual location unknown, currently sited at lo...</td>\n      <td>Sponsor Website</td>\n      <td>http://danviet.vn/doanh-nghiep/nhiet-dien-an-k...</td>\n      <td>Unknown</td>\n      <td>Unknown</td>\n    </tr>\n    <tr>\n      <th>4</th>\n      <td>An Khanh I (Nhà máy nhiệt điện An Khánh I)</td>\n      <td>Coal</td>\n      <td>Operational</td>\n      <td>Vietnam</td>\n      <td>An Khanh Electricity JSC</td>\n      <td>China; Vietnam</td>\n      <td>China Communications Bank; Bank of China, Chin...</td>\n      <td>China</td>\n      <td>China People Electricity and Gas Group</td>\n      <td>Vietnam</td>\n      <td>Thái Nguyên</td>\n      <td>Đại Từ</td>\n      <td>Song Cau-Song Thuong-Song Luc Nam</td>\n      <td>Unknown</td>\n      <td>AidData</td>\n      <td>https://vietnamnews.vn/economy/219017/an-khanh...</td>\n      <td>http://nhietdienankhanh.com.vn/gioi-thieu/gioi...</td>\n      <td>03/29/2021</td>\n    </tr>\n    <tr>\n      <th>...</th>\n      <td>...</td>\n      <td>...</td>\n      <td>...</td>\n      <td>...</td>\n      <td>...</td>\n      <td>...</td>\n      <td>...</td>\n      <td>...</td>\n      <td>...</td>\n      <td>...</td>\n      <td>...</td>\n      <td>...</td>\n      <td>...</td>\n      <td>...</td>\n      <td>...</td>\n      <td>...</td>\n      <td>...</td>\n      <td>...</td>\n    </tr>\n    <tr>\n      <th>558</th>\n      <td>Yang Bac Wind Power Project</td>\n      <td>Wind</td>\n      <td>Planned</td>\n      <td>Vietnam</td>\n      <td>Tasco Energy JSC</td>\n      <td>Unknown</td>\n      <td>Unknown</td>\n      <td>Unknown</td>\n      <td>_x0008_</td>\n      <td>Vietnam</td>\n      <td>Gia Lai</td>\n      <td>Đăk Pơ</td>\n      <td>Song Da Rang-Song Ba</td>\n      <td>Actual location unknown, currently sited at lo...</td>\n      <td>Sponsor Website</td>\n      <td>Unknown</td>\n      <td>http://tasco.com.vn/dau-tu-nang-luong-tai-tao/...</td>\n      <td>12/21/2020</td>\n    </tr>\n    <tr>\n      <th>559</th>\n      <td>Yen Dinh (Nhà máy Điện mặt trời Yên Định)</td>\n      <td>Solar</td>\n      <td>Operational</td>\n      <td>Vietnam</td>\n      <td>Công ty CP Năng lượng Sông Lam Sơn La; Công ty...</td>\n      <td>Unknown</td>\n      <td>Unknown</td>\n      <td>South Korea</td>\n      <td>Unknown</td>\n      <td>Vietnam</td>\n      <td>Thanh Hóa</td>\n      <td>Yên Định</td>\n      <td>Ma mainstem</td>\n      <td>Unknown</td>\n      <td>Wikipedia</td>\n      <td>Unknown</td>\n      <td>https://vi.wikipedia.org/wiki/%C4%90i%E1%BB%87...</td>\n      <td>Unknown</td>\n    </tr>\n    <tr>\n      <th>560</th>\n      <td>ZaHung</td>\n      <td>Hydro</td>\n      <td>Operational</td>\n      <td>Vietnam</td>\n      <td>EVN and Za Hung JSC.</td>\n      <td>Unknown</td>\n      <td>Unknown</td>\n      <td>Unknown</td>\n      <td>Unknown</td>\n      <td>Vietnam</td>\n      <td>Quảng Nam</td>\n      <td>Đông Giang</td>\n      <td>Song Giang</td>\n      <td>Unknown</td>\n      <td>Wikipedia; UNFCC</td>\n      <td>https://cdm.unfccc.int/Projects/DB/BVQI1299431...</td>\n      <td>Unknown</td>\n      <td>Unknown</td>\n    </tr>\n    <tr>\n      <th>561</th>\n      <td>Đa Nhim Hydro</td>\n      <td>Hydro</td>\n      <td>Operational</td>\n      <td>Vietnam</td>\n      <td>EVN, Da Nhim - Ham Thuan - Da Mi Hydropower JSC.</td>\n      <td>Japan</td>\n      <td>JICA</td>\n      <td>Japan</td>\n      <td>Hazama Corp</td>\n      <td>Vietnam</td>\n      <td>Lâm Đồng</td>\n      <td>Đơn Dương</td>\n      <td>Dong Nai</td>\n      <td>Unknown</td>\n      <td>Wikipedia</td>\n      <td>https://data.mendeley.com/datasets/ht9k5p3vdb/...</td>\n      <td>https://en.wikipedia.org/wiki/%C4%90a_Nhim_Hyd...</td>\n      <td>03/31/2021</td>\n    </tr>\n    <tr>\n      <th>562</th>\n      <td>Đa Nhim Hydro Expansion</td>\n      <td>Hydro</td>\n      <td>Operational</td>\n      <td>Vietnam</td>\n      <td>Da Nhim-Ham Thuan- Da Mi Hydro Power JSC</td>\n      <td>Japan</td>\n      <td>JICA</td>\n      <td>USA</td>\n      <td>GE</td>\n      <td>Vietnam</td>\n      <td>Lâm Đồng</td>\n      <td>Đơn Dương</td>\n      <td>Dong Nai</td>\n      <td>Unknown</td>\n      <td>JICA</td>\n      <td>https://en.evn.com.vn/d6/news/Da-Nhim-Hydropow...</td>\n      <td>https://www2.jica.go.jp/yen_loan/pdf/en/6451/2...</td>\n      <td>04/01/2021</td>\n    </tr>\n  </tbody>\n</table>\n<p>563 rows × 18 columns</p>\n</div>"
     },
     "metadata": {},
     "execution_count": 233
    }
   ],
   "source": [
    "df.loc[:,df.columns[df.dtypes != np.number]]"
   ]
  },
  {
   "source": [
    "Ngoài ra ta còn thấy giá trị chuỗi `_x0008_\t` vô nghĩa ở cột `Construction Company/EPC Participant` tại dòng 558. Ta kiểm tra xem giá trị này còn xuất hiện ở đâu khác trong bộ dữ liệu không"
   ],
   "cell_type": "markdown",
   "metadata": {}
  },
  {
   "cell_type": "code",
   "execution_count": 234,
   "metadata": {},
   "outputs": [
    {
     "output_type": "execute_result",
     "data": {
      "text/plain": [
       "Project Name                            0\n",
       "Subtype                                 0\n",
       "Current Status                          0\n",
       "Capacity (MW)                           0\n",
       "Year of Completion                      0\n",
       "undefined                               0\n",
       "Country list of Sponsor/Developer       0\n",
       "Sponsor/Developer Company               0\n",
       "Country list of Lender/Financier        0\n",
       "Lender/Financier Company                0\n",
       "Country list of Construction/EPC        0\n",
       "Construction Company/EPC Participant    1\n",
       "Country                                 0\n",
       "Province/State                          0\n",
       "District                                0\n",
       "undefined.1                             0\n",
       "Tributary                               0\n",
       "Latitude                                0\n",
       "Longitude                               0\n",
       "Proximity                               5\n",
       "Avg. Annual Output (MWh)                0\n",
       "undefined.2                             0\n",
       "Data Source                             0\n",
       "Announcement/More Information           2\n",
       "Link                                    0\n",
       "Latest Update                           0\n",
       "dtype: int64"
      ]
     },
     "metadata": {},
     "execution_count": 234
    }
   ],
   "source": [
    "strange_value=df.loc[558,'Construction Company/EPC Participant']\n",
    "strange_count=df.isin([strange_value]).sum(axis=0)\n",
    "strange_count"
   ]
  },
  {
   "source": [
    "Rõ ràng ta cần xử lý trường hợp đặc biệt trên"
   ],
   "cell_type": "markdown",
   "metadata": {}
  },
  {
   "cell_type": "code",
   "execution_count": 235,
   "metadata": {},
   "outputs": [],
   "source": [
    "columns_that_contains_strange_values=strange_count[strange_count>0].index\n",
    "df.loc[:,columns_that_contains_strange_values]=df.loc[:,columns_that_contains_strange_values].replace({strange_value:np.nan})"
   ]
  },
  {
   "source": [
    "---"
   ],
   "cell_type": "markdown",
   "metadata": {}
  },
  {
   "source": [
    "## Quay lại bước khám phá dữ liệu "
   ],
   "cell_type": "markdown",
   "metadata": {}
  },
  {
   "source": [
    "### Khám phá các cột giá trị số"
   ],
   "cell_type": "markdown",
   "metadata": {}
  },
  {
   "cell_type": "code",
   "execution_count": 236,
   "metadata": {},
   "outputs": [],
   "source": [
    "num_col_info_df = pd.DataFrame(columns=df.columns[df.dtypes == np.number], index=[\"missing_ratio\", \"min\", \"lower_quartile\", \"median\", \"upper_quartile\", \"max\"])\n",
    "num_col_info_df.drop(columns=['undefined','undefined.1','undefined.2'],inplace=True)"
   ]
  },
  {
   "cell_type": "code",
   "execution_count": 237,
   "metadata": {},
   "outputs": [
    {
     "output_type": "execute_result",
     "data": {
      "text/plain": [
       "               Capacity (MW) Year of Completion Latitude Longitude  \\\n",
       "missing_ratio            2.8               11.0      0.0       0.0   \n",
       "min                      0.2             1945.0      8.5     102.5   \n",
       "lower_quartile          24.0             2012.0     11.5     105.7   \n",
       "median                  50.0             2018.0     14.0     107.0   \n",
       "upper_quartile         269.5             2020.0     20.5     108.3   \n",
       "max                   9583.0             2031.0     23.2     109.3   \n",
       "\n",
       "               Avg. Annual Output (MWh)  \n",
       "missing_ratio                      61.1  \n",
       "min                              7000.0  \n",
       "lower_quartile                  60000.0  \n",
       "median                          80000.0  \n",
       "upper_quartile                 213321.0  \n",
       "max                          12000000.0  "
      ],
      "text/html": "<div>\n<style scoped>\n    .dataframe tbody tr th:only-of-type {\n        vertical-align: middle;\n    }\n\n    .dataframe tbody tr th {\n        vertical-align: top;\n    }\n\n    .dataframe thead th {\n        text-align: right;\n    }\n</style>\n<table border=\"1\" class=\"dataframe\">\n  <thead>\n    <tr style=\"text-align: right;\">\n      <th></th>\n      <th>Capacity (MW)</th>\n      <th>Year of Completion</th>\n      <th>Latitude</th>\n      <th>Longitude</th>\n      <th>Avg. Annual Output (MWh)</th>\n    </tr>\n  </thead>\n  <tbody>\n    <tr>\n      <th>missing_ratio</th>\n      <td>2.8</td>\n      <td>11.0</td>\n      <td>0.0</td>\n      <td>0.0</td>\n      <td>61.1</td>\n    </tr>\n    <tr>\n      <th>min</th>\n      <td>0.2</td>\n      <td>1945.0</td>\n      <td>8.5</td>\n      <td>102.5</td>\n      <td>7000.0</td>\n    </tr>\n    <tr>\n      <th>lower_quartile</th>\n      <td>24.0</td>\n      <td>2012.0</td>\n      <td>11.5</td>\n      <td>105.7</td>\n      <td>60000.0</td>\n    </tr>\n    <tr>\n      <th>median</th>\n      <td>50.0</td>\n      <td>2018.0</td>\n      <td>14.0</td>\n      <td>107.0</td>\n      <td>80000.0</td>\n    </tr>\n    <tr>\n      <th>upper_quartile</th>\n      <td>269.5</td>\n      <td>2020.0</td>\n      <td>20.5</td>\n      <td>108.3</td>\n      <td>213321.0</td>\n    </tr>\n    <tr>\n      <th>max</th>\n      <td>9583.0</td>\n      <td>2031.0</td>\n      <td>23.2</td>\n      <td>109.3</td>\n      <td>12000000.0</td>\n    </tr>\n  </tbody>\n</table>\n</div>"
     },
     "metadata": {},
     "execution_count": 237
    }
   ],
   "source": [
    "df_num=df[num_col_info_df.columns]\n",
    "num_col_info_df.loc['missing_ratio'] = (df_num.isna().sum()/len(df_num.index)*100).round(1)\n",
    "num_col_info_df.loc['min'] = df_num.min().round(1)\n",
    "num_col_info_df.loc['max'] = df_num.max().round(1)\n",
    "num_col_info_df.loc['lower_quartile'] = df_num.quantile(0.25).round(1)\n",
    "num_col_info_df.loc['upper_quartile'] = df_num.quantile(0.75).round(1)\n",
    "num_col_info_df.loc['median'] = df_num.median().round(1)\n",
    "num_col_info_df"
   ]
  },
  {
   "source": [
    "Các giá trị thiếu tập trung chủ yếu ở cột `Avg. Annual Output (MWh)` nên ta có thể drop cột đó"
   ],
   "cell_type": "markdown",
   "metadata": {}
  },
  {
   "cell_type": "code",
   "execution_count": 238,
   "metadata": {},
   "outputs": [],
   "source": [
    "cols_to_drop=['Avg. Annual Output (MWh)','undefined', 'undefined.1', 'undefined.2']"
   ]
  },
  {
   "source": [
    "### Khám phá các cột giá trị không phải số"
   ],
   "cell_type": "markdown",
   "metadata": {}
  },
  {
   "cell_type": "code",
   "execution_count": 239,
   "metadata": {},
   "outputs": [],
   "source": [
    "notnum_col_info_df = pd.DataFrame(columns=df.columns[df.dtypes != np.number], index=[\"missing_ratio\", \"num_values\",\"value_counts\", \"value_ratios\"])\n",
    "df_notnum=df[notnum_col_info_df.columns]"
   ]
  },
  {
   "cell_type": "code",
   "execution_count": 240,
   "metadata": {},
   "outputs": [],
   "source": [
    "multichoice_cols=['Country list of Sponsor/Developer', 'Sponsor/Developer Company' ,'Country list of Lender/Financier','Lender/Financier Company','Country list of Construction/EPC','Construction Company/EPC Participant','Data Source']"
   ]
  },
  {
   "cell_type": "code",
   "execution_count": 241,
   "metadata": {},
   "outputs": [
    {
     "output_type": "execute_result",
     "data": {
      "text/plain": [
       "561"
      ]
     },
     "metadata": {},
     "execution_count": 241
    }
   ],
   "source": [
    "df_notnum['Project Name'].nunique()"
   ]
  },
  {
   "source": [
    "notnum_col_info_df.loc['missing_ratio'] = (df_notnum.replace('Unknown',np.nan).isna().sum()/len(df_notnum.index)*100).round(1)\n",
    "for c in notnum_col_info_df.columns:\n",
    "    di=dict()\n",
    "    col_total_value=len(df_notnum[c].index)-df_notnum[c].isna().sum()\n",
    "    if c in multichoice_cols:\n",
    "        li=[]\n",
    "        for i in df_notnum[c]:\n",
    "            if type(i)==str:\n",
    "                li+=i.split(\"; \")\n",
    "        temp_set=set(li)\n",
    "        notnum_col_info_df[c]['num_values']=len(temp_set)\n",
    "        for i in temp_set:\n",
    "            di[i]=li.count(i)\n",
    "        notnum_col_info_df[c]['value_counts']=dict(sorted(di.items(), key=lambda x: x[1],reverse=True))\n",
    "        total=np.sum(list(di.values()))\n",
    "        for k, v in di.items():\n",
    "            di[k] = round(v * 100.0 / total,1)\n",
    "        notnum_col_info_df[c]['value_ratios']=dict(sorted(di.items(), key=lambda x: x[1],reverse=True))\n",
    "    else:\n",
    "        notnum_col_info_df[c]['num_values']=df_notnum[c].nunique(dropna=False)\n",
    "        value_set=df_notnum[c].unique()\n",
    "        notnum_col_info_df[c]['value_counts']=df_notnum[c].value_counts()\n",
    "        for i in value_set:\n",
    "            if type(i)==str:\n",
    "                di[i]=((list(df_notnum[c]).count(i)/col_total_value)*100).round(1)\n",
    "        notnum_col_info_df[c]['value_ratios']=dict(sorted(di.items(), key=lambda x: x[1],reverse=True))\n",
    "        \n",
    "notnum_col_info_df"
   ],
   "cell_type": "code",
   "metadata": {
    "tags": []
   },
   "execution_count": 242,
   "outputs": [
    {
     "output_type": "execute_result",
     "data": {
      "text/plain": [
       "                                                    Project Name  \\\n",
       "missing_ratio                                                0.0   \n",
       "num_values                                                   561   \n",
       "value_counts   Cam An Bắc (Nhà máy điện mặt trời xã Cam An Bắ...   \n",
       "value_ratios   {'Cam An Bắc (Nhà máy điện mặt trời xã Cam An ...   \n",
       "\n",
       "                                                         Subtype  \\\n",
       "missing_ratio                                                0.0   \n",
       "num_values                                                     8   \n",
       "value_counts   Hydro      246\n",
       "Solar      126\n",
       "Coal        81\n",
       "W...   \n",
       "value_ratios   {'Hydro': 43.7, 'Solar': 22.4, 'Coal': 14.4, '...   \n",
       "\n",
       "                                                  Current Status  \\\n",
       "missing_ratio                                                1.1   \n",
       "num_values                                                     6   \n",
       "value_counts   Operational           369\n",
       "Planned             ...   \n",
       "value_ratios   {'Operational': 65.5, 'Planned': 19.9, 'Under ...   \n",
       "\n",
       "                               Country list of Sponsor/Developer  \\\n",
       "missing_ratio                                                7.1   \n",
       "num_values                                                    27   \n",
       "value_counts   {'Vietnam': 474, 'Unknown': 40, 'Thailand': 17...   \n",
       "value_ratios   {'Vietnam': 75.7, 'Unknown': 6.4, 'Thailand': ...   \n",
       "\n",
       "                                       Sponsor/Developer Company  \\\n",
       "missing_ratio                                                6.2   \n",
       "num_values                                                   387   \n",
       "value_counts   {'EVN': 41, 'Unknown': 35, 'EVN (Vietnam)': 20...   \n",
       "value_ratios   {'EVN': 7.0, 'Unknown': 6.0, 'EVN (Vietnam)': ...   \n",
       "\n",
       "                                Country list of Lender/Financier  \\\n",
       "missing_ratio                                               82.2   \n",
       "num_values                                                    22   \n",
       "value_counts   {'Unknown': 463, 'Vietnam': 37, 'Japan': 27, '...   \n",
       "value_ratios   {'Unknown': 77.2, 'Vietnam': 6.2, 'Japan': 4.5...   \n",
       "\n",
       "                                        Lender/Financier Company  \\\n",
       "missing_ratio                                               82.4   \n",
       "num_values                                                   105   \n",
       "value_counts   {'Unknown': 464, 'JICA': 9, 'ADB': 7, 'USTDA':...   \n",
       "value_ratios   {'Unknown': 76.9, 'JICA': 1.5, 'ADB': 1.2, 'US...   \n",
       "\n",
       "                                Country list of Construction/EPC  \\\n",
       "missing_ratio                                               73.9   \n",
       "num_values                                                    17   \n",
       "value_counts   {'Unknown': 416, 'Vietnam': 67, 'China': 39, '...   \n",
       "value_ratios   {'Unknown': 69.9, 'Vietnam': 11.3, 'China': 6....   \n",
       "\n",
       "                            Construction Company/EPC Participant  \\\n",
       "missing_ratio                                               73.2   \n",
       "num_values                                                   133   \n",
       "value_counts   {'Unknown': 411, 'First Solar (Equipment)': 6,...   \n",
       "value_ratios   {'Unknown': 72.1, 'First Solar (Equipment)': 1...   \n",
       "\n",
       "                                                  Country  \\\n",
       "missing_ratio                                         0.0   \n",
       "num_values                                              1   \n",
       "value_counts   Vietnam    563\n",
       "Name: Country, dtype: int64   \n",
       "value_ratios                           {'Vietnam': 100.0}   \n",
       "\n",
       "                                                  Province/State  \\\n",
       "missing_ratio                                                0.0   \n",
       "num_values                                                    60   \n",
       "value_counts   Ninh Thuận           47\n",
       "Bình Thuận           3...   \n",
       "value_ratios   {'Ninh Thuận': 8.3, 'Bình Thuận': 5.5, 'Sơn La...   \n",
       "\n",
       "                                                        District  \\\n",
       "missing_ratio                                                0.0   \n",
       "num_values                                                   228   \n",
       "value_counts   Mường La      15\n",
       "Thuận Nam     15\n",
       "Hướng Hóa   ...   \n",
       "value_ratios   {'Thuận Nam': 2.7, 'Mường La': 2.7, 'Hướng Hóa...   \n",
       "\n",
       "                                                       Tributary  \\\n",
       "missing_ratio                                                1.1   \n",
       "num_values                                                    61   \n",
       "value_counts   Black-Li Xian                                 ...   \n",
       "value_ratios   {'Black-Li Xian': 10.1, 'Vietnam Mekong Delta'...   \n",
       "\n",
       "                                                       Proximity  \\\n",
       "missing_ratio                                               70.3   \n",
       "num_values                                                     3   \n",
       "value_counts   Unknown                                       ...   \n",
       "value_ratios   {'Unknown': 70.1, 'Actual location unknown, cu...   \n",
       "\n",
       "                                                     Data Source  \\\n",
       "missing_ratio                                                1.2   \n",
       "num_values                                                    38   \n",
       "value_counts   {'Open Development Vietnam': 120, 'Sponsor Web...   \n",
       "value_ratios   {'Open Development Vietnam': 21.2, 'Sponsor We...   \n",
       "\n",
       "                                   Announcement/More Information  \\\n",
       "missing_ratio                                               16.9   \n",
       "num_values                                                   400   \n",
       "value_counts   Unknown                                       ...   \n",
       "value_ratios   {'Unknown': 16.6, 'http://www.evn.com.vn/userf...   \n",
       "\n",
       "                                                            Link  \\\n",
       "missing_ratio                                               70.3   \n",
       "num_values                                                   136   \n",
       "value_counts   Unknown                                       ...   \n",
       "value_ratios   {'Unknown': 70.3, 'https://en.evn.com.vn/userf...   \n",
       "\n",
       "                                                   Latest Update  \n",
       "missing_ratio                                               72.1  \n",
       "num_values                                                    17  \n",
       "value_counts   Unknown       406\n",
       "12/21/2020     51\n",
       "03/31/2021...  \n",
       "value_ratios   {'Unknown': 72.1, '12/21/2020': 9.1, '03/31/20...  "
      ],
      "text/html": "<div>\n<style scoped>\n    .dataframe tbody tr th:only-of-type {\n        vertical-align: middle;\n    }\n\n    .dataframe tbody tr th {\n        vertical-align: top;\n    }\n\n    .dataframe thead th {\n        text-align: right;\n    }\n</style>\n<table border=\"1\" class=\"dataframe\">\n  <thead>\n    <tr style=\"text-align: right;\">\n      <th></th>\n      <th>Project Name</th>\n      <th>Subtype</th>\n      <th>Current Status</th>\n      <th>Country list of Sponsor/Developer</th>\n      <th>Sponsor/Developer Company</th>\n      <th>Country list of Lender/Financier</th>\n      <th>Lender/Financier Company</th>\n      <th>Country list of Construction/EPC</th>\n      <th>Construction Company/EPC Participant</th>\n      <th>Country</th>\n      <th>Province/State</th>\n      <th>District</th>\n      <th>Tributary</th>\n      <th>Proximity</th>\n      <th>Data Source</th>\n      <th>Announcement/More Information</th>\n      <th>Link</th>\n      <th>Latest Update</th>\n    </tr>\n  </thead>\n  <tbody>\n    <tr>\n      <th>missing_ratio</th>\n      <td>0.0</td>\n      <td>0.0</td>\n      <td>1.1</td>\n      <td>7.1</td>\n      <td>6.2</td>\n      <td>82.2</td>\n      <td>82.4</td>\n      <td>73.9</td>\n      <td>73.2</td>\n      <td>0.0</td>\n      <td>0.0</td>\n      <td>0.0</td>\n      <td>1.1</td>\n      <td>70.3</td>\n      <td>1.2</td>\n      <td>16.9</td>\n      <td>70.3</td>\n      <td>72.1</td>\n    </tr>\n    <tr>\n      <th>num_values</th>\n      <td>561</td>\n      <td>8</td>\n      <td>6</td>\n      <td>27</td>\n      <td>387</td>\n      <td>22</td>\n      <td>105</td>\n      <td>17</td>\n      <td>133</td>\n      <td>1</td>\n      <td>60</td>\n      <td>228</td>\n      <td>61</td>\n      <td>3</td>\n      <td>38</td>\n      <td>400</td>\n      <td>136</td>\n      <td>17</td>\n    </tr>\n    <tr>\n      <th>value_counts</th>\n      <td>Cam An Bắc (Nhà máy điện mặt trời xã Cam An Bắ...</td>\n      <td>Hydro      246\nSolar      126\nCoal        81\nW...</td>\n      <td>Operational           369\nPlanned             ...</td>\n      <td>{'Vietnam': 474, 'Unknown': 40, 'Thailand': 17...</td>\n      <td>{'EVN': 41, 'Unknown': 35, 'EVN (Vietnam)': 20...</td>\n      <td>{'Unknown': 463, 'Vietnam': 37, 'Japan': 27, '...</td>\n      <td>{'Unknown': 464, 'JICA': 9, 'ADB': 7, 'USTDA':...</td>\n      <td>{'Unknown': 416, 'Vietnam': 67, 'China': 39, '...</td>\n      <td>{'Unknown': 411, 'First Solar (Equipment)': 6,...</td>\n      <td>Vietnam    563\nName: Country, dtype: int64</td>\n      <td>Ninh Thuận           47\nBình Thuận           3...</td>\n      <td>Mường La      15\nThuận Nam     15\nHướng Hóa   ...</td>\n      <td>Black-Li Xian                                 ...</td>\n      <td>Unknown                                       ...</td>\n      <td>{'Open Development Vietnam': 120, 'Sponsor Web...</td>\n      <td>Unknown                                       ...</td>\n      <td>Unknown                                       ...</td>\n      <td>Unknown       406\n12/21/2020     51\n03/31/2021...</td>\n    </tr>\n    <tr>\n      <th>value_ratios</th>\n      <td>{'Cam An Bắc (Nhà máy điện mặt trời xã Cam An ...</td>\n      <td>{'Hydro': 43.7, 'Solar': 22.4, 'Coal': 14.4, '...</td>\n      <td>{'Operational': 65.5, 'Planned': 19.9, 'Under ...</td>\n      <td>{'Vietnam': 75.7, 'Unknown': 6.4, 'Thailand': ...</td>\n      <td>{'EVN': 7.0, 'Unknown': 6.0, 'EVN (Vietnam)': ...</td>\n      <td>{'Unknown': 77.2, 'Vietnam': 6.2, 'Japan': 4.5...</td>\n      <td>{'Unknown': 76.9, 'JICA': 1.5, 'ADB': 1.2, 'US...</td>\n      <td>{'Unknown': 69.9, 'Vietnam': 11.3, 'China': 6....</td>\n      <td>{'Unknown': 72.1, 'First Solar (Equipment)': 1...</td>\n      <td>{'Vietnam': 100.0}</td>\n      <td>{'Ninh Thuận': 8.3, 'Bình Thuận': 5.5, 'Sơn La...</td>\n      <td>{'Thuận Nam': 2.7, 'Mường La': 2.7, 'Hướng Hóa...</td>\n      <td>{'Black-Li Xian': 10.1, 'Vietnam Mekong Delta'...</td>\n      <td>{'Unknown': 70.1, 'Actual location unknown, cu...</td>\n      <td>{'Open Development Vietnam': 21.2, 'Sponsor We...</td>\n      <td>{'Unknown': 16.6, 'http://www.evn.com.vn/userf...</td>\n      <td>{'Unknown': 70.3, 'https://en.evn.com.vn/userf...</td>\n      <td>{'Unknown': 72.1, '12/21/2020': 9.1, '03/31/20...</td>\n    </tr>\n  </tbody>\n</table>\n</div>"
     },
     "metadata": {},
     "execution_count": 242
    }
   ]
  },
  {
   "source": [
    "- Các cột `Country list of Lender/Financier`, `Lender/Financier Company`, `Country list of Construction/EPC`, `Construction Company/EPC Participant` thiếu rất trầm trọng\n",
    "- Ta không cần quan tâm các cột `Data Source`, `Announcement/More Information`, `Link`, `Latest Update`\n",
    "- Cột `Proximity` đa phần là các giá trị `Actual location unknown, currently sited at locality in link/announcement` hay vô nghĩa\n",
    "\n",
    "\n",
    "***Ta sẽ drop tất cả các cột nêu trên***\n"
   ],
   "cell_type": "markdown",
   "metadata": {}
  },
  {
   "cell_type": "code",
   "execution_count": 243,
   "metadata": {},
   "outputs": [],
   "source": [
    "cols_to_drop+=['Country list of Lender/Financier','Lender/Financier Company','Country list of Construction/EPC','Construction Company/EPC Participant','Data Source','Announcement/More Information', 'Link', 'Latest Update','Proximity']"
   ]
  },
  {
   "source": [
    "---"
   ],
   "cell_type": "markdown",
   "metadata": {}
  },
  {
   "source": [
    "## Quay lại bước tiền xử lý"
   ],
   "cell_type": "markdown",
   "metadata": {}
  },
  {
   "source": [
    "Ta drop hết các cột đã chọn và tách riêng thống kê về các cột có giá trị multiple values"
   ],
   "cell_type": "markdown",
   "metadata": {}
  },
  {
   "cell_type": "code",
   "execution_count": 244,
   "metadata": {},
   "outputs": [],
   "source": [
    "df.drop(columns=cols_to_drop,inplace=True)"
   ]
  },
  {
   "cell_type": "code",
   "execution_count": 245,
   "metadata": {},
   "outputs": [],
   "source": [
    "sponsor_developer_countries=notnum_col_info_df.loc['value_ratios','Country list of Sponsor/Developer']\n",
    "sponsor_developer_companies=notnum_col_info_df.loc['value_ratios','Sponsor/Developer Company']"
   ]
  },
  {
   "cell_type": "code",
   "execution_count": null,
   "metadata": {},
   "outputs": [],
   "source": []
  }
 ]
}